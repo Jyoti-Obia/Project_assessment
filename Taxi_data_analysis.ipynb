{
  "nbformat": 4,
  "nbformat_minor": 0,
  "metadata": {
    "colab": {
      "name": "Taxi_data_analysis.ipynb",
      "provenance": [],
      "collapsed_sections": [],
      "toc_visible": true,
      "machine_shape": "hm"
    },
    "kernelspec": {
      "name": "python3",
      "display_name": "Python 3"
    }
  },
  "cells": [
    {
      "cell_type": "markdown",
      "metadata": {
        "id": "g8HG1uVJwchk",
        "colab_type": "text"
      },
      "source": [
        "## Data Cleaning, Preparation and Exploration Analysis\n",
        "\n",
        "Data understanding through distribution statistics and visualisation. \n",
        "\n",
        "============================================================================\n",
        "\n",
        "## Real Life scenario: \n",
        "\n",
        "### NYC taxi data analysis\n",
        "\n",
        "Trip dataset and fare dataset provided. Each has equal number of records (15100468)\n",
        "\n",
        "Merged the two datasets to create master datasets\n",
        "\n",
        "Data exploration and analysis was done using master dataset.\n",
        "\n",
        "\n",
        "====================================================================================================\n",
        "\n",
        "Data Source:\n",
        "Links provided for the two datasets"
      ]
    },
    {
      "cell_type": "code",
      "metadata": {
        "id": "G4xtqlMniKbl",
        "colab_type": "code",
        "outputId": "89796f5a-a6a0-48af-bfaa-505472caee50",
        "colab": {
          "base_uri": "https://localhost:8080/",
          "height": 122
        }
      },
      "source": [
        "## Since the datasets were huge, I used the drives to save the datasets.   \n",
        "## Mount the drive to fetch data\n",
        "\n",
        "from google.colab import drive\n",
        "drive.mount('/content/drive')\n",
        "\n",
        "## Colaboratory Jupyter Notebook was used as a programming tool."
      ],
      "execution_count": 0,
      "outputs": [
        {
          "output_type": "stream",
          "text": [
            "Go to this URL in a browser: https://accounts.google.com/o/oauth2/auth?client_id=947318989803-6bn6qk8qdgf4n4g3pfee6491hc0brc4i.apps.googleusercontent.com&redirect_uri=urn%3Aietf%3Awg%3Aoauth%3A2.0%3Aoob&scope=email%20https%3A%2F%2Fwww.googleapis.com%2Fauth%2Fdocs.test%20https%3A%2F%2Fwww.googleapis.com%2Fauth%2Fdrive%20https%3A%2F%2Fwww.googleapis.com%2Fauth%2Fdrive.photos.readonly%20https%3A%2F%2Fwww.googleapis.com%2Fauth%2Fpeopleapi.readonly&response_type=code\n",
            "\n",
            "Enter your authorization code:\n",
            "··········\n",
            "Mounted at /content/drive\n"
          ],
          "name": "stdout"
        }
      ]
    },
    {
      "cell_type": "code",
      "metadata": {
        "id": "RAXWteOViLoO",
        "colab_type": "code",
        "colab": {}
      },
      "source": [
        "# to handle datasets\n",
        "import numpy as np\n",
        "import pandas as pd\n",
        "\n",
        "# for plotting\n",
        "import seaborn as sns\n",
        "import matplotlib.pyplot as plt\n",
        "%matplotlib inline"
      ],
      "execution_count": 0,
      "outputs": []
    },
    {
      "cell_type": "code",
      "metadata": {
        "id": "Xr-1cPyiilNg",
        "colab_type": "code",
        "outputId": "654456b6-0953-4c10-c9d8-13bdfbec830a",
        "colab": {
          "base_uri": "https://localhost:8080/",
          "height": 71
        }
      },
      "source": [
        "# load dataset\n",
        "df_data = pd.read_csv('/content/drive/My Drive/XXXXXXXXXXXXXXXXXXXXXXXXXXXXXX/trip_data_4.csv')"
      ],
      "execution_count": 0,
      "outputs": [
        {
          "output_type": "stream",
          "text": [
            "/usr/local/lib/python3.6/dist-packages/IPython/core/interactiveshell.py:2718: DtypeWarning: Columns (4) have mixed types. Specify dtype option on import or set low_memory=False.\n",
            "  interactivity=interactivity, compiler=compiler, result=result)\n"
          ],
          "name": "stderr"
        }
      ]
    },
    {
      "cell_type": "code",
      "metadata": {
        "id": "wRCvSAm5ipde",
        "colab_type": "code",
        "outputId": "b79055bc-0dc7-440c-bf88-318cc47bc1ed",
        "colab": {
          "base_uri": "https://localhost:8080/",
          "height": 309
        }
      },
      "source": [
        "df_data.head()"
      ],
      "execution_count": 0,
      "outputs": [
        {
          "output_type": "execute_result",
          "data": {
            "text/html": [
              "<div>\n",
              "<style scoped>\n",
              "    .dataframe tbody tr th:only-of-type {\n",
              "        vertical-align: middle;\n",
              "    }\n",
              "\n",
              "    .dataframe tbody tr th {\n",
              "        vertical-align: top;\n",
              "    }\n",
              "\n",
              "    .dataframe thead th {\n",
              "        text-align: right;\n",
              "    }\n",
              "</style>\n",
              "<table border=\"1\" class=\"dataframe\">\n",
              "  <thead>\n",
              "    <tr style=\"text-align: right;\">\n",
              "      <th></th>\n",
              "      <th>medallion</th>\n",
              "      <th>hack_license</th>\n",
              "      <th>vendor_id</th>\n",
              "      <th>rate_code</th>\n",
              "      <th>store_and_fwd_flag</th>\n",
              "      <th>pickup_datetime</th>\n",
              "      <th>dropoff_datetime</th>\n",
              "      <th>passenger_count</th>\n",
              "      <th>trip_time_in_secs</th>\n",
              "      <th>trip_distance</th>\n",
              "      <th>pickup_longitude</th>\n",
              "      <th>pickup_latitude</th>\n",
              "      <th>dropoff_longitude</th>\n",
              "      <th>dropoff_latitude</th>\n",
              "    </tr>\n",
              "  </thead>\n",
              "  <tbody>\n",
              "    <tr>\n",
              "      <th>0</th>\n",
              "      <td>91F6EB84975BBC867E32CB113C7C2CD5</td>\n",
              "      <td>AD8751110E6292079EB10EB9481FE1A6</td>\n",
              "      <td>CMT</td>\n",
              "      <td>1</td>\n",
              "      <td>N</td>\n",
              "      <td>2013-04-04 18:47:45</td>\n",
              "      <td>2013-04-04 19:00:25</td>\n",
              "      <td>1</td>\n",
              "      <td>759</td>\n",
              "      <td>2.5</td>\n",
              "      <td>-73.957855</td>\n",
              "      <td>40.765320</td>\n",
              "      <td>-73.976273</td>\n",
              "      <td>40.785648</td>\n",
              "    </tr>\n",
              "    <tr>\n",
              "      <th>1</th>\n",
              "      <td>EC34CD1B3797DFAFF3FE099BA87B6656</td>\n",
              "      <td>8FE6A4AEDF89B6B4E19D2377FD3FB7D7</td>\n",
              "      <td>CMT</td>\n",
              "      <td>1</td>\n",
              "      <td>N</td>\n",
              "      <td>2013-04-05 07:08:34</td>\n",
              "      <td>2013-04-05 07:17:34</td>\n",
              "      <td>1</td>\n",
              "      <td>540</td>\n",
              "      <td>1.6</td>\n",
              "      <td>0.000000</td>\n",
              "      <td>0.000000</td>\n",
              "      <td>0.000000</td>\n",
              "      <td>0.000000</td>\n",
              "    </tr>\n",
              "    <tr>\n",
              "      <th>2</th>\n",
              "      <td>C1B9DA774DC2BBC6DE27CE994E7F44A0</td>\n",
              "      <td>E1B595FD55E4C82C1E213EB17438107A</td>\n",
              "      <td>CMT</td>\n",
              "      <td>1</td>\n",
              "      <td>N</td>\n",
              "      <td>2013-04-04 17:59:50</td>\n",
              "      <td>2013-04-04 18:21:48</td>\n",
              "      <td>1</td>\n",
              "      <td>1318</td>\n",
              "      <td>3.6</td>\n",
              "      <td>-73.982880</td>\n",
              "      <td>40.754990</td>\n",
              "      <td>-74.009186</td>\n",
              "      <td>40.715374</td>\n",
              "    </tr>\n",
              "    <tr>\n",
              "      <th>3</th>\n",
              "      <td>9BA84250355AB3FC031C9252D395BF8A</td>\n",
              "      <td>16BB0D96A0DCC853AEC7F55C8D6C71E0</td>\n",
              "      <td>CMT</td>\n",
              "      <td>1</td>\n",
              "      <td>N</td>\n",
              "      <td>2013-04-04 18:12:01</td>\n",
              "      <td>2013-04-04 18:25:24</td>\n",
              "      <td>1</td>\n",
              "      <td>799</td>\n",
              "      <td>1.9</td>\n",
              "      <td>-73.978119</td>\n",
              "      <td>40.763451</td>\n",
              "      <td>-73.955666</td>\n",
              "      <td>40.776642</td>\n",
              "    </tr>\n",
              "    <tr>\n",
              "      <th>4</th>\n",
              "      <td>205A696DF62AD03C88DA8C5EC5248639</td>\n",
              "      <td>579C41EA5EC846F8B641A42F9EE3E855</td>\n",
              "      <td>CMT</td>\n",
              "      <td>1</td>\n",
              "      <td>N</td>\n",
              "      <td>2013-04-04 20:12:57</td>\n",
              "      <td>2013-04-04 20:29:55</td>\n",
              "      <td>1</td>\n",
              "      <td>1017</td>\n",
              "      <td>3.6</td>\n",
              "      <td>-74.006371</td>\n",
              "      <td>40.744755</td>\n",
              "      <td>-73.961662</td>\n",
              "      <td>40.761082</td>\n",
              "    </tr>\n",
              "  </tbody>\n",
              "</table>\n",
              "</div>"
            ],
            "text/plain": [
              "                          medallion  ...  dropoff_latitude\n",
              "0  91F6EB84975BBC867E32CB113C7C2CD5  ...         40.785648\n",
              "1  EC34CD1B3797DFAFF3FE099BA87B6656  ...          0.000000\n",
              "2  C1B9DA774DC2BBC6DE27CE994E7F44A0  ...         40.715374\n",
              "3  9BA84250355AB3FC031C9252D395BF8A  ...         40.776642\n",
              "4  205A696DF62AD03C88DA8C5EC5248639  ...         40.761082\n",
              "\n",
              "[5 rows x 14 columns]"
            ]
          },
          "metadata": {
            "tags": []
          },
          "execution_count": 4
        }
      ]
    },
    {
      "cell_type": "code",
      "metadata": {
        "id": "4QPgDzmPixyn",
        "colab_type": "code",
        "outputId": "d01992d5-4ebb-4979-a462-e4a2304f4fa2",
        "colab": {
          "base_uri": "https://localhost:8080/",
          "height": 317
        }
      },
      "source": [
        "df_data.describe()"
      ],
      "execution_count": 0,
      "outputs": [
        {
          "output_type": "execute_result",
          "data": {
            "text/html": [
              "<div>\n",
              "<style scoped>\n",
              "    .dataframe tbody tr th:only-of-type {\n",
              "        vertical-align: middle;\n",
              "    }\n",
              "\n",
              "    .dataframe tbody tr th {\n",
              "        vertical-align: top;\n",
              "    }\n",
              "\n",
              "    .dataframe thead th {\n",
              "        text-align: right;\n",
              "    }\n",
              "</style>\n",
              "<table border=\"1\" class=\"dataframe\">\n",
              "  <thead>\n",
              "    <tr style=\"text-align: right;\">\n",
              "      <th></th>\n",
              "      <th>rate_code</th>\n",
              "      <th>passenger_count</th>\n",
              "      <th>trip_time_in_secs</th>\n",
              "      <th>trip_distance</th>\n",
              "      <th>pickup_longitude</th>\n",
              "      <th>pickup_latitude</th>\n",
              "      <th>dropoff_longitude</th>\n",
              "      <th>dropoff_latitude</th>\n",
              "    </tr>\n",
              "  </thead>\n",
              "  <tbody>\n",
              "    <tr>\n",
              "      <th>count</th>\n",
              "      <td>1.510047e+07</td>\n",
              "      <td>1.510047e+07</td>\n",
              "      <td>1.510047e+07</td>\n",
              "      <td>1.510047e+07</td>\n",
              "      <td>1.510047e+07</td>\n",
              "      <td>1.510047e+07</td>\n",
              "      <td>1.510032e+07</td>\n",
              "      <td>1.510032e+07</td>\n",
              "    </tr>\n",
              "    <tr>\n",
              "      <th>mean</th>\n",
              "      <td>1.033242e+00</td>\n",
              "      <td>1.709030e+00</td>\n",
              "      <td>7.466081e+02</td>\n",
              "      <td>2.862899e+00</td>\n",
              "      <td>-7.273425e+01</td>\n",
              "      <td>4.006861e+01</td>\n",
              "      <td>-7.269257e+01</td>\n",
              "      <td>4.004795e+01</td>\n",
              "    </tr>\n",
              "    <tr>\n",
              "      <th>std</th>\n",
              "      <td>3.451167e-01</td>\n",
              "      <td>1.385621e+00</td>\n",
              "      <td>5.504414e+02</td>\n",
              "      <td>3.344187e+00</td>\n",
              "      <td>9.731627e+00</td>\n",
              "      <td>6.956628e+00</td>\n",
              "      <td>9.858587e+00</td>\n",
              "      <td>6.977638e+00</td>\n",
              "    </tr>\n",
              "    <tr>\n",
              "      <th>min</th>\n",
              "      <td>0.000000e+00</td>\n",
              "      <td>0.000000e+00</td>\n",
              "      <td>0.000000e+00</td>\n",
              "      <td>0.000000e+00</td>\n",
              "      <td>-2.323420e+03</td>\n",
              "      <td>-3.481141e+03</td>\n",
              "      <td>-2.771290e+03</td>\n",
              "      <td>-3.547898e+03</td>\n",
              "    </tr>\n",
              "    <tr>\n",
              "      <th>25%</th>\n",
              "      <td>1.000000e+00</td>\n",
              "      <td>1.000000e+00</td>\n",
              "      <td>3.600000e+02</td>\n",
              "      <td>1.040000e+00</td>\n",
              "      <td>-7.399213e+01</td>\n",
              "      <td>4.073512e+01</td>\n",
              "      <td>-7.399143e+01</td>\n",
              "      <td>4.073417e+01</td>\n",
              "    </tr>\n",
              "    <tr>\n",
              "      <th>50%</th>\n",
              "      <td>1.000000e+00</td>\n",
              "      <td>1.000000e+00</td>\n",
              "      <td>6.000000e+02</td>\n",
              "      <td>1.780000e+00</td>\n",
              "      <td>-7.398172e+01</td>\n",
              "      <td>4.075281e+01</td>\n",
              "      <td>-7.398007e+01</td>\n",
              "      <td>4.075333e+01</td>\n",
              "    </tr>\n",
              "    <tr>\n",
              "      <th>75%</th>\n",
              "      <td>1.000000e+00</td>\n",
              "      <td>2.000000e+00</td>\n",
              "      <td>9.600000e+02</td>\n",
              "      <td>3.200000e+00</td>\n",
              "      <td>-7.396676e+01</td>\n",
              "      <td>4.076754e+01</td>\n",
              "      <td>-7.396362e+01</td>\n",
              "      <td>4.076832e+01</td>\n",
              "    </tr>\n",
              "    <tr>\n",
              "      <th>max</th>\n",
              "      <td>2.100000e+02</td>\n",
              "      <td>9.000000e+00</td>\n",
              "      <td>1.080000e+04</td>\n",
              "      <td>1.000000e+02</td>\n",
              "      <td>2.228722e+03</td>\n",
              "      <td>3.210393e+03</td>\n",
              "      <td>2.228746e+03</td>\n",
              "      <td>3.577126e+03</td>\n",
              "    </tr>\n",
              "  </tbody>\n",
              "</table>\n",
              "</div>"
            ],
            "text/plain": [
              "          rate_code   passenger_count  ...   dropoff_longitude   dropoff_latitude\n",
              "count  1.510047e+07      1.510047e+07  ...        1.510032e+07       1.510032e+07\n",
              "mean   1.033242e+00      1.709030e+00  ...       -7.269257e+01       4.004795e+01\n",
              "std    3.451167e-01      1.385621e+00  ...        9.858587e+00       6.977638e+00\n",
              "min    0.000000e+00      0.000000e+00  ...       -2.771290e+03      -3.547898e+03\n",
              "25%    1.000000e+00      1.000000e+00  ...       -7.399143e+01       4.073417e+01\n",
              "50%    1.000000e+00      1.000000e+00  ...       -7.398007e+01       4.075333e+01\n",
              "75%    1.000000e+00      2.000000e+00  ...       -7.396362e+01       4.076832e+01\n",
              "max    2.100000e+02      9.000000e+00  ...        2.228746e+03       3.577126e+03\n",
              "\n",
              "[8 rows x 8 columns]"
            ]
          },
          "metadata": {
            "tags": []
          },
          "execution_count": 5
        }
      ]
    },
    {
      "cell_type": "code",
      "metadata": {
        "id": "Q5KXA_C9ix1R",
        "colab_type": "code",
        "outputId": "0503ddaa-9292-4f9d-aa9d-21b4df13575f",
        "colab": {
          "base_uri": "https://localhost:8080/",
          "height": 34
        }
      },
      "source": [
        "df_data.shape"
      ],
      "execution_count": 0,
      "outputs": [
        {
          "output_type": "execute_result",
          "data": {
            "text/plain": [
              "(15100468, 14)"
            ]
          },
          "metadata": {
            "tags": []
          },
          "execution_count": 6
        }
      ]
    },
    {
      "cell_type": "code",
      "metadata": {
        "id": "5vPspihlix4M",
        "colab_type": "code",
        "outputId": "4f32e663-bf80-4a27-dd51-adb7fd34afed",
        "colab": {
          "base_uri": "https://localhost:8080/",
          "height": 340
        }
      },
      "source": [
        "df_data.info()"
      ],
      "execution_count": 0,
      "outputs": [
        {
          "output_type": "stream",
          "text": [
            "<class 'pandas.core.frame.DataFrame'>\n",
            "RangeIndex: 15100468 entries, 0 to 15100467\n",
            "Data columns (total 14 columns):\n",
            "medallion              object\n",
            " hack_license          object\n",
            " vendor_id             object\n",
            " rate_code             int64\n",
            " store_and_fwd_flag    object\n",
            " pickup_datetime       object\n",
            " dropoff_datetime      object\n",
            " passenger_count       int64\n",
            " trip_time_in_secs     int64\n",
            " trip_distance         float64\n",
            " pickup_longitude      float64\n",
            " pickup_latitude       float64\n",
            " dropoff_longitude     float64\n",
            " dropoff_latitude      float64\n",
            "dtypes: float64(5), int64(3), object(6)\n",
            "memory usage: 1.6+ GB\n"
          ],
          "name": "stdout"
        }
      ]
    },
    {
      "cell_type": "code",
      "metadata": {
        "id": "FezV-4nMkLRR",
        "colab_type": "code",
        "outputId": "6d736de4-b6fe-489d-ac37-863e5e361650",
        "colab": {
          "base_uri": "https://localhost:8080/",
          "height": 272
        }
      },
      "source": [
        "df_data.isna().sum() "
      ],
      "execution_count": 0,
      "outputs": [
        {
          "output_type": "execute_result",
          "data": {
            "text/plain": [
              "medallion                    0\n",
              " hack_license                0\n",
              " vendor_id                   0\n",
              " rate_code                   0\n",
              " store_and_fwd_flag    7518657\n",
              " pickup_datetime             0\n",
              " dropoff_datetime            0\n",
              " passenger_count             0\n",
              " trip_time_in_secs           0\n",
              " trip_distance               0\n",
              " pickup_longitude            0\n",
              " pickup_latitude             0\n",
              " dropoff_longitude         146\n",
              " dropoff_latitude          146\n",
              "dtype: int64"
            ]
          },
          "metadata": {
            "tags": []
          },
          "execution_count": 8
        }
      ]
    },
    {
      "cell_type": "code",
      "metadata": {
        "id": "x68-ORSmi6SP",
        "colab_type": "code",
        "colab": {}
      },
      "source": [
        "#load second dataset\n",
        "df_fare = pd.read_csv('/content/drive/My Drive/XXXXXXXXXXXXXXXXXXXXX/trip_fare_4.csv')"
      ],
      "execution_count": 0,
      "outputs": []
    },
    {
      "cell_type": "code",
      "metadata": {
        "id": "PXgu4nlljL0A",
        "colab_type": "code",
        "outputId": "5e2cd9ff-b9b3-40db-d70d-05ed94ab49a8",
        "colab": {
          "base_uri": "https://localhost:8080/",
          "height": 309
        }
      },
      "source": [
        "df_fare.head()"
      ],
      "execution_count": 0,
      "outputs": [
        {
          "output_type": "execute_result",
          "data": {
            "text/html": [
              "<div>\n",
              "<style scoped>\n",
              "    .dataframe tbody tr th:only-of-type {\n",
              "        vertical-align: middle;\n",
              "    }\n",
              "\n",
              "    .dataframe tbody tr th {\n",
              "        vertical-align: top;\n",
              "    }\n",
              "\n",
              "    .dataframe thead th {\n",
              "        text-align: right;\n",
              "    }\n",
              "</style>\n",
              "<table border=\"1\" class=\"dataframe\">\n",
              "  <thead>\n",
              "    <tr style=\"text-align: right;\">\n",
              "      <th></th>\n",
              "      <th>medallion</th>\n",
              "      <th>hack_license</th>\n",
              "      <th>vendor_id</th>\n",
              "      <th>pickup_datetime</th>\n",
              "      <th>payment_type</th>\n",
              "      <th>fare_amount</th>\n",
              "      <th>surcharge</th>\n",
              "      <th>mta_tax</th>\n",
              "      <th>tip_amount</th>\n",
              "      <th>tolls_amount</th>\n",
              "      <th>total_amount</th>\n",
              "    </tr>\n",
              "  </thead>\n",
              "  <tbody>\n",
              "    <tr>\n",
              "      <th>0</th>\n",
              "      <td>91F6EB84975BBC867E32CB113C7C2CD5</td>\n",
              "      <td>AD8751110E6292079EB10EB9481FE1A6</td>\n",
              "      <td>CMT</td>\n",
              "      <td>2013-04-04 18:47:45</td>\n",
              "      <td>CRD</td>\n",
              "      <td>11.0</td>\n",
              "      <td>1.0</td>\n",
              "      <td>0.5</td>\n",
              "      <td>2.50</td>\n",
              "      <td>0.0</td>\n",
              "      <td>15.00</td>\n",
              "    </tr>\n",
              "    <tr>\n",
              "      <th>1</th>\n",
              "      <td>EC34CD1B3797DFAFF3FE099BA87B6656</td>\n",
              "      <td>8FE6A4AEDF89B6B4E19D2377FD3FB7D7</td>\n",
              "      <td>CMT</td>\n",
              "      <td>2013-04-05 07:08:34</td>\n",
              "      <td>CRD</td>\n",
              "      <td>8.5</td>\n",
              "      <td>0.0</td>\n",
              "      <td>0.5</td>\n",
              "      <td>1.80</td>\n",
              "      <td>0.0</td>\n",
              "      <td>10.80</td>\n",
              "    </tr>\n",
              "    <tr>\n",
              "      <th>2</th>\n",
              "      <td>C1B9DA774DC2BBC6DE27CE994E7F44A0</td>\n",
              "      <td>E1B595FD55E4C82C1E213EB17438107A</td>\n",
              "      <td>CMT</td>\n",
              "      <td>2013-04-04 17:59:50</td>\n",
              "      <td>CRD</td>\n",
              "      <td>16.5</td>\n",
              "      <td>1.0</td>\n",
              "      <td>0.5</td>\n",
              "      <td>3.60</td>\n",
              "      <td>0.0</td>\n",
              "      <td>21.60</td>\n",
              "    </tr>\n",
              "    <tr>\n",
              "      <th>3</th>\n",
              "      <td>9BA84250355AB3FC031C9252D395BF8A</td>\n",
              "      <td>16BB0D96A0DCC853AEC7F55C8D6C71E0</td>\n",
              "      <td>CMT</td>\n",
              "      <td>2013-04-04 18:12:01</td>\n",
              "      <td>CRD</td>\n",
              "      <td>10.0</td>\n",
              "      <td>1.0</td>\n",
              "      <td>0.5</td>\n",
              "      <td>3.45</td>\n",
              "      <td>0.0</td>\n",
              "      <td>14.95</td>\n",
              "    </tr>\n",
              "    <tr>\n",
              "      <th>4</th>\n",
              "      <td>205A696DF62AD03C88DA8C5EC5248639</td>\n",
              "      <td>579C41EA5EC846F8B641A42F9EE3E855</td>\n",
              "      <td>CMT</td>\n",
              "      <td>2013-04-04 20:12:57</td>\n",
              "      <td>CRD</td>\n",
              "      <td>15.0</td>\n",
              "      <td>0.5</td>\n",
              "      <td>0.5</td>\n",
              "      <td>3.20</td>\n",
              "      <td>0.0</td>\n",
              "      <td>19.20</td>\n",
              "    </tr>\n",
              "  </tbody>\n",
              "</table>\n",
              "</div>"
            ],
            "text/plain": [
              "                          medallion  ...  total_amount\n",
              "0  91F6EB84975BBC867E32CB113C7C2CD5  ...         15.00\n",
              "1  EC34CD1B3797DFAFF3FE099BA87B6656  ...         10.80\n",
              "2  C1B9DA774DC2BBC6DE27CE994E7F44A0  ...         21.60\n",
              "3  9BA84250355AB3FC031C9252D395BF8A  ...         14.95\n",
              "4  205A696DF62AD03C88DA8C5EC5248639  ...         19.20\n",
              "\n",
              "[5 rows x 11 columns]"
            ]
          },
          "metadata": {
            "tags": []
          },
          "execution_count": 10
        }
      ]
    },
    {
      "cell_type": "code",
      "metadata": {
        "id": "sOYYgo8qjOmn",
        "colab_type": "code",
        "outputId": "4a3ead2a-6aeb-4ae3-b358-71a9942ac538",
        "colab": {
          "base_uri": "https://localhost:8080/",
          "height": 297
        }
      },
      "source": [
        "df_fare.describe()"
      ],
      "execution_count": 0,
      "outputs": [
        {
          "output_type": "execute_result",
          "data": {
            "text/html": [
              "<div>\n",
              "<style scoped>\n",
              "    .dataframe tbody tr th:only-of-type {\n",
              "        vertical-align: middle;\n",
              "    }\n",
              "\n",
              "    .dataframe tbody tr th {\n",
              "        vertical-align: top;\n",
              "    }\n",
              "\n",
              "    .dataframe thead th {\n",
              "        text-align: right;\n",
              "    }\n",
              "</style>\n",
              "<table border=\"1\" class=\"dataframe\">\n",
              "  <thead>\n",
              "    <tr style=\"text-align: right;\">\n",
              "      <th></th>\n",
              "      <th>fare_amount</th>\n",
              "      <th>surcharge</th>\n",
              "      <th>mta_tax</th>\n",
              "      <th>tip_amount</th>\n",
              "      <th>tolls_amount</th>\n",
              "      <th>total_amount</th>\n",
              "    </tr>\n",
              "  </thead>\n",
              "  <tbody>\n",
              "    <tr>\n",
              "      <th>count</th>\n",
              "      <td>1.510047e+07</td>\n",
              "      <td>1.510047e+07</td>\n",
              "      <td>1.510047e+07</td>\n",
              "      <td>1.510047e+07</td>\n",
              "      <td>1.510047e+07</td>\n",
              "      <td>1.510047e+07</td>\n",
              "    </tr>\n",
              "    <tr>\n",
              "      <th>mean</th>\n",
              "      <td>1.227417e+01</td>\n",
              "      <td>3.266898e-01</td>\n",
              "      <td>4.983206e-01</td>\n",
              "      <td>1.345662e+00</td>\n",
              "      <td>2.446353e-01</td>\n",
              "      <td>1.468948e+01</td>\n",
              "    </tr>\n",
              "    <tr>\n",
              "      <th>std</th>\n",
              "      <td>9.958736e+00</td>\n",
              "      <td>3.673146e-01</td>\n",
              "      <td>2.892903e-02</td>\n",
              "      <td>2.131956e+00</td>\n",
              "      <td>1.185930e+00</td>\n",
              "      <td>1.194023e+01</td>\n",
              "    </tr>\n",
              "    <tr>\n",
              "      <th>min</th>\n",
              "      <td>2.500000e+00</td>\n",
              "      <td>0.000000e+00</td>\n",
              "      <td>0.000000e+00</td>\n",
              "      <td>0.000000e+00</td>\n",
              "      <td>0.000000e+00</td>\n",
              "      <td>2.500000e+00</td>\n",
              "    </tr>\n",
              "    <tr>\n",
              "      <th>25%</th>\n",
              "      <td>6.500000e+00</td>\n",
              "      <td>0.000000e+00</td>\n",
              "      <td>5.000000e-01</td>\n",
              "      <td>0.000000e+00</td>\n",
              "      <td>0.000000e+00</td>\n",
              "      <td>8.000000e+00</td>\n",
              "    </tr>\n",
              "    <tr>\n",
              "      <th>50%</th>\n",
              "      <td>9.500000e+00</td>\n",
              "      <td>0.000000e+00</td>\n",
              "      <td>5.000000e-01</td>\n",
              "      <td>1.000000e+00</td>\n",
              "      <td>0.000000e+00</td>\n",
              "      <td>1.100000e+01</td>\n",
              "    </tr>\n",
              "    <tr>\n",
              "      <th>75%</th>\n",
              "      <td>1.400000e+01</td>\n",
              "      <td>5.000000e-01</td>\n",
              "      <td>5.000000e-01</td>\n",
              "      <td>2.000000e+00</td>\n",
              "      <td>0.000000e+00</td>\n",
              "      <td>1.650000e+01</td>\n",
              "    </tr>\n",
              "    <tr>\n",
              "      <th>max</th>\n",
              "      <td>5.000000e+02</td>\n",
              "      <td>1.500000e+01</td>\n",
              "      <td>5.000000e-01</td>\n",
              "      <td>2.000000e+02</td>\n",
              "      <td>2.000000e+01</td>\n",
              "      <td>6.281000e+02</td>\n",
              "    </tr>\n",
              "  </tbody>\n",
              "</table>\n",
              "</div>"
            ],
            "text/plain": [
              "        fare_amount     surcharge  ...   tolls_amount   total_amount\n",
              "count  1.510047e+07  1.510047e+07  ...   1.510047e+07   1.510047e+07\n",
              "mean   1.227417e+01  3.266898e-01  ...   2.446353e-01   1.468948e+01\n",
              "std    9.958736e+00  3.673146e-01  ...   1.185930e+00   1.194023e+01\n",
              "min    2.500000e+00  0.000000e+00  ...   0.000000e+00   2.500000e+00\n",
              "25%    6.500000e+00  0.000000e+00  ...   0.000000e+00   8.000000e+00\n",
              "50%    9.500000e+00  0.000000e+00  ...   0.000000e+00   1.100000e+01\n",
              "75%    1.400000e+01  5.000000e-01  ...   0.000000e+00   1.650000e+01\n",
              "max    5.000000e+02  1.500000e+01  ...   2.000000e+01   6.281000e+02\n",
              "\n",
              "[8 rows x 6 columns]"
            ]
          },
          "metadata": {
            "tags": []
          },
          "execution_count": 11
        }
      ]
    },
    {
      "cell_type": "code",
      "metadata": {
        "id": "P6gHJdYBjOpO",
        "colab_type": "code",
        "outputId": "fdb14562-c489-4ddd-bec3-a77ba3d2edee",
        "colab": {
          "base_uri": "https://localhost:8080/",
          "height": 34
        }
      },
      "source": [
        "df_fare.shape"
      ],
      "execution_count": 0,
      "outputs": [
        {
          "output_type": "execute_result",
          "data": {
            "text/plain": [
              "(15100468, 11)"
            ]
          },
          "metadata": {
            "tags": []
          },
          "execution_count": 12
        }
      ]
    },
    {
      "cell_type": "code",
      "metadata": {
        "id": "_bdsKjZzjOsW",
        "colab_type": "code",
        "outputId": "66adac1c-feb1-418e-a44c-1c1f966d1ca2",
        "colab": {
          "base_uri": "https://localhost:8080/",
          "height": 289
        }
      },
      "source": [
        "df_fare.info()"
      ],
      "execution_count": 0,
      "outputs": [
        {
          "output_type": "stream",
          "text": [
            "<class 'pandas.core.frame.DataFrame'>\n",
            "RangeIndex: 15100468 entries, 0 to 15100467\n",
            "Data columns (total 11 columns):\n",
            "medallion           object\n",
            " hack_license       object\n",
            " vendor_id          object\n",
            " pickup_datetime    object\n",
            " payment_type       object\n",
            " fare_amount        float64\n",
            " surcharge          float64\n",
            " mta_tax            float64\n",
            " tip_amount         float64\n",
            " tolls_amount       float64\n",
            " total_amount       float64\n",
            "dtypes: float64(6), object(5)\n",
            "memory usage: 1.2+ GB\n"
          ],
          "name": "stdout"
        }
      ]
    },
    {
      "cell_type": "code",
      "metadata": {
        "id": "sIVmgcWckDyg",
        "colab_type": "code",
        "outputId": "218bc818-c18b-45a7-9e99-6ccb19e86efd",
        "colab": {
          "base_uri": "https://localhost:8080/",
          "height": 221
        }
      },
      "source": [
        "##Find missing values\n",
        "df_fare.isna().sum() "
      ],
      "execution_count": 0,
      "outputs": [
        {
          "output_type": "execute_result",
          "data": {
            "text/plain": [
              "medallion           0\n",
              " hack_license       0\n",
              " vendor_id          0\n",
              " pickup_datetime    0\n",
              " payment_type       0\n",
              " fare_amount        0\n",
              " surcharge          0\n",
              " mta_tax            0\n",
              " tip_amount         0\n",
              " tolls_amount       0\n",
              " total_amount       0\n",
              "dtype: int64"
            ]
          },
          "metadata": {
            "tags": []
          },
          "execution_count": 14
        }
      ]
    },
    {
      "cell_type": "code",
      "metadata": {
        "id": "b9eL0vvDjW_-",
        "colab_type": "code",
        "outputId": "dbd9f365-4494-47df-9c69-a558691b0ab1",
        "colab": {
          "base_uri": "https://localhost:8080/",
          "height": 51
        }
      },
      "source": [
        "print(len(df_fare))\n",
        "print(len(df_data))"
      ],
      "execution_count": 0,
      "outputs": [
        {
          "output_type": "stream",
          "text": [
            "15100468\n",
            "15100468\n"
          ],
          "name": "stdout"
        }
      ]
    },
    {
      "cell_type": "code",
      "metadata": {
        "id": "Trhgd-KQj63w",
        "colab_type": "code",
        "outputId": "4c254776-50db-4656-c9dd-9a12df1e0c36",
        "colab": {
          "base_uri": "https://localhost:8080/",
          "height": 85
        }
      },
      "source": [
        "# ### Finding the common columns\n",
        "\n",
        "for column in df_fare.columns:\n",
        "    if column in df_data.columns:\n",
        "        print(column)"
      ],
      "execution_count": 0,
      "outputs": [
        {
          "output_type": "stream",
          "text": [
            "medallion\n",
            " hack_license\n",
            " vendor_id\n",
            " pickup_datetime\n"
          ],
          "name": "stdout"
        }
      ]
    },
    {
      "cell_type": "code",
      "metadata": {
        "id": "6nz36dG0j_nO",
        "colab_type": "code",
        "outputId": "114c957e-ea00-4f80-b7d0-2ea5ed690794",
        "colab": {
          "base_uri": "https://localhost:8080/",
          "height": 170
        }
      },
      "source": [
        "## Find the unique count of values in mapped columns in both the datasets \n",
        "\n",
        "print('Number of unique medallion: ', df_fare.medallion.nunique())\n",
        "print('Number of unique hack_license: ', df_fare[df_fare.columns[1]].nunique())\n",
        "print('Number of unique vendor_id: ', df_fare[df_fare.columns[2]].nunique())\n",
        "print('Number of unique pickup_datetime: ', df_fare[df_fare.columns[3]].nunique())\n",
        "print(\" \")\n",
        "print('Number of unique medallion: ', df_data.medallion.nunique())\n",
        "print('Number of unique hack_license: ', df_data[df_data.columns[1]].nunique())\n",
        "print('Number of unique vendor_id: ', df_data[df_data.columns[2]].nunique())\n",
        "print('Number of unique pickup_datetime: ', df_data[df_data.columns[5]].nunique())"
      ],
      "execution_count": 0,
      "outputs": [
        {
          "output_type": "stream",
          "text": [
            "Number of unique medallion:  13464\n",
            "Number of unique hack_license:  33111\n",
            "Number of unique vendor_id:  2\n",
            "Number of unique pickup_datetime:  2212633\n",
            " \n",
            "Number of unique medallion:  13464\n",
            "Number of unique hack_license:  33111\n",
            "Number of unique vendor_id:  2\n",
            "Number of unique pickup_datetime:  2212633\n"
          ],
          "name": "stdout"
        }
      ]
    },
    {
      "cell_type": "code",
      "metadata": {
        "id": "Jd0_88kHkhFO",
        "colab_type": "code",
        "colab": {}
      },
      "source": [
        "#### Merging two datasets and exporting them to csv\n",
        "\n",
        "df = pd.merge(df_data,df_fare, on=['medallion',' hack_license',' vendor_id',' pickup_datetime'], )\n"
      ],
      "execution_count": 0,
      "outputs": []
    },
    {
      "cell_type": "code",
      "metadata": {
        "id": "gWgQdAAGlT9e",
        "colab_type": "code",
        "outputId": "5931b3b5-068c-44f2-affe-b465377ec59e",
        "colab": {
          "base_uri": "https://localhost:8080/",
          "height": 317
        }
      },
      "source": [
        "df.describe()"
      ],
      "execution_count": 0,
      "outputs": [
        {
          "output_type": "execute_result",
          "data": {
            "text/html": [
              "<div>\n",
              "<style scoped>\n",
              "    .dataframe tbody tr th:only-of-type {\n",
              "        vertical-align: middle;\n",
              "    }\n",
              "\n",
              "    .dataframe tbody tr th {\n",
              "        vertical-align: top;\n",
              "    }\n",
              "\n",
              "    .dataframe thead th {\n",
              "        text-align: right;\n",
              "    }\n",
              "</style>\n",
              "<table border=\"1\" class=\"dataframe\">\n",
              "  <thead>\n",
              "    <tr style=\"text-align: right;\">\n",
              "      <th></th>\n",
              "      <th>rate_code</th>\n",
              "      <th>passenger_count</th>\n",
              "      <th>trip_time_in_secs</th>\n",
              "      <th>trip_distance</th>\n",
              "      <th>pickup_longitude</th>\n",
              "      <th>pickup_latitude</th>\n",
              "      <th>dropoff_longitude</th>\n",
              "      <th>dropoff_latitude</th>\n",
              "      <th>fare_amount</th>\n",
              "      <th>surcharge</th>\n",
              "      <th>mta_tax</th>\n",
              "      <th>tip_amount</th>\n",
              "      <th>tolls_amount</th>\n",
              "      <th>total_amount</th>\n",
              "    </tr>\n",
              "  </thead>\n",
              "  <tbody>\n",
              "    <tr>\n",
              "      <th>count</th>\n",
              "      <td>1.510177e+07</td>\n",
              "      <td>1.510177e+07</td>\n",
              "      <td>1.510177e+07</td>\n",
              "      <td>1.510177e+07</td>\n",
              "      <td>1.510177e+07</td>\n",
              "      <td>1.510177e+07</td>\n",
              "      <td>1.510163e+07</td>\n",
              "      <td>1.510163e+07</td>\n",
              "      <td>1.510177e+07</td>\n",
              "      <td>1.510177e+07</td>\n",
              "      <td>1.510177e+07</td>\n",
              "      <td>1.510177e+07</td>\n",
              "      <td>1.510177e+07</td>\n",
              "      <td>1.510177e+07</td>\n",
              "    </tr>\n",
              "    <tr>\n",
              "      <th>mean</th>\n",
              "      <td>1.033288e+00</td>\n",
              "      <td>1.709036e+00</td>\n",
              "      <td>7.466061e+02</td>\n",
              "      <td>2.863099e+00</td>\n",
              "      <td>-7.273243e+01</td>\n",
              "      <td>4.006760e+01</td>\n",
              "      <td>-7.269006e+01</td>\n",
              "      <td>4.004656e+01</td>\n",
              "      <td>1.227529e+01</td>\n",
              "      <td>3.266791e-01</td>\n",
              "      <td>4.983177e-01</td>\n",
              "      <td>1.345713e+00</td>\n",
              "      <td>2.447309e-01</td>\n",
              "      <td>1.469073e+01</td>\n",
              "    </tr>\n",
              "    <tr>\n",
              "      <th>std</th>\n",
              "      <td>3.452165e-01</td>\n",
              "      <td>1.385628e+00</td>\n",
              "      <td>5.505067e+02</td>\n",
              "      <td>3.344894e+00</td>\n",
              "      <td>9.738297e+00</td>\n",
              "      <td>6.959425e+00</td>\n",
              "      <td>9.867673e+00</td>\n",
              "      <td>6.981416e+00</td>\n",
              "      <td>9.962123e+00</td>\n",
              "      <td>3.673146e-01</td>\n",
              "      <td>2.895392e-02</td>\n",
              "      <td>2.132228e+00</td>\n",
              "      <td>1.186218e+00</td>\n",
              "      <td>1.194378e+01</td>\n",
              "    </tr>\n",
              "    <tr>\n",
              "      <th>min</th>\n",
              "      <td>0.000000e+00</td>\n",
              "      <td>0.000000e+00</td>\n",
              "      <td>0.000000e+00</td>\n",
              "      <td>0.000000e+00</td>\n",
              "      <td>-2.323420e+03</td>\n",
              "      <td>-3.481141e+03</td>\n",
              "      <td>-2.771290e+03</td>\n",
              "      <td>-3.547898e+03</td>\n",
              "      <td>2.500000e+00</td>\n",
              "      <td>0.000000e+00</td>\n",
              "      <td>0.000000e+00</td>\n",
              "      <td>0.000000e+00</td>\n",
              "      <td>0.000000e+00</td>\n",
              "      <td>2.500000e+00</td>\n",
              "    </tr>\n",
              "    <tr>\n",
              "      <th>25%</th>\n",
              "      <td>1.000000e+00</td>\n",
              "      <td>1.000000e+00</td>\n",
              "      <td>3.600000e+02</td>\n",
              "      <td>1.040000e+00</td>\n",
              "      <td>-7.399213e+01</td>\n",
              "      <td>4.073512e+01</td>\n",
              "      <td>-7.399143e+01</td>\n",
              "      <td>4.073417e+01</td>\n",
              "      <td>6.500000e+00</td>\n",
              "      <td>0.000000e+00</td>\n",
              "      <td>5.000000e-01</td>\n",
              "      <td>0.000000e+00</td>\n",
              "      <td>0.000000e+00</td>\n",
              "      <td>8.000000e+00</td>\n",
              "    </tr>\n",
              "    <tr>\n",
              "      <th>50%</th>\n",
              "      <td>1.000000e+00</td>\n",
              "      <td>1.000000e+00</td>\n",
              "      <td>6.000000e+02</td>\n",
              "      <td>1.780000e+00</td>\n",
              "      <td>-7.398172e+01</td>\n",
              "      <td>4.075281e+01</td>\n",
              "      <td>-7.398006e+01</td>\n",
              "      <td>4.075333e+01</td>\n",
              "      <td>9.500000e+00</td>\n",
              "      <td>0.000000e+00</td>\n",
              "      <td>5.000000e-01</td>\n",
              "      <td>1.000000e+00</td>\n",
              "      <td>0.000000e+00</td>\n",
              "      <td>1.100000e+01</td>\n",
              "    </tr>\n",
              "    <tr>\n",
              "      <th>75%</th>\n",
              "      <td>1.000000e+00</td>\n",
              "      <td>2.000000e+00</td>\n",
              "      <td>9.600000e+02</td>\n",
              "      <td>3.200000e+00</td>\n",
              "      <td>-7.396676e+01</td>\n",
              "      <td>4.076754e+01</td>\n",
              "      <td>-7.396362e+01</td>\n",
              "      <td>4.076832e+01</td>\n",
              "      <td>1.400000e+01</td>\n",
              "      <td>5.000000e-01</td>\n",
              "      <td>5.000000e-01</td>\n",
              "      <td>2.000000e+00</td>\n",
              "      <td>0.000000e+00</td>\n",
              "      <td>1.650000e+01</td>\n",
              "    </tr>\n",
              "    <tr>\n",
              "      <th>max</th>\n",
              "      <td>2.100000e+02</td>\n",
              "      <td>9.000000e+00</td>\n",
              "      <td>1.080000e+04</td>\n",
              "      <td>1.000000e+02</td>\n",
              "      <td>2.228722e+03</td>\n",
              "      <td>3.210393e+03</td>\n",
              "      <td>2.228746e+03</td>\n",
              "      <td>3.577126e+03</td>\n",
              "      <td>5.000000e+02</td>\n",
              "      <td>1.500000e+01</td>\n",
              "      <td>5.000000e-01</td>\n",
              "      <td>2.000000e+02</td>\n",
              "      <td>2.000000e+01</td>\n",
              "      <td>6.281000e+02</td>\n",
              "    </tr>\n",
              "  </tbody>\n",
              "</table>\n",
              "</div>"
            ],
            "text/plain": [
              "          rate_code   passenger_count  ...   tolls_amount   total_amount\n",
              "count  1.510177e+07      1.510177e+07  ...   1.510177e+07   1.510177e+07\n",
              "mean   1.033288e+00      1.709036e+00  ...   2.447309e-01   1.469073e+01\n",
              "std    3.452165e-01      1.385628e+00  ...   1.186218e+00   1.194378e+01\n",
              "min    0.000000e+00      0.000000e+00  ...   0.000000e+00   2.500000e+00\n",
              "25%    1.000000e+00      1.000000e+00  ...   0.000000e+00   8.000000e+00\n",
              "50%    1.000000e+00      1.000000e+00  ...   0.000000e+00   1.100000e+01\n",
              "75%    1.000000e+00      2.000000e+00  ...   0.000000e+00   1.650000e+01\n",
              "max    2.100000e+02      9.000000e+00  ...   2.000000e+01   6.281000e+02\n",
              "\n",
              "[8 rows x 14 columns]"
            ]
          },
          "metadata": {
            "tags": []
          },
          "execution_count": 19
        }
      ]
    },
    {
      "cell_type": "code",
      "metadata": {
        "id": "ySchQRZrlWif",
        "colab_type": "code",
        "outputId": "cfb87938-84f4-47c4-e35b-6ec01eb6cfb2",
        "colab": {
          "base_uri": "https://localhost:8080/",
          "height": 459
        }
      },
      "source": [
        "df.info()"
      ],
      "execution_count": 0,
      "outputs": [
        {
          "output_type": "stream",
          "text": [
            "<class 'pandas.core.frame.DataFrame'>\n",
            "Int64Index: 15101772 entries, 0 to 15101771\n",
            "Data columns (total 21 columns):\n",
            "medallion              object\n",
            " hack_license          object\n",
            " vendor_id             object\n",
            " rate_code             int64\n",
            " store_and_fwd_flag    object\n",
            " pickup_datetime       object\n",
            " dropoff_datetime      object\n",
            " passenger_count       int64\n",
            " trip_time_in_secs     int64\n",
            " trip_distance         float64\n",
            " pickup_longitude      float64\n",
            " pickup_latitude       float64\n",
            " dropoff_longitude     float64\n",
            " dropoff_latitude      float64\n",
            " payment_type          object\n",
            " fare_amount           float64\n",
            " surcharge             float64\n",
            " mta_tax               float64\n",
            " tip_amount            float64\n",
            " tolls_amount          float64\n",
            " total_amount          float64\n",
            "dtypes: float64(11), int64(3), object(7)\n",
            "memory usage: 2.5+ GB\n"
          ],
          "name": "stdout"
        }
      ]
    },
    {
      "cell_type": "code",
      "metadata": {
        "id": "HEzq6pKmVvv6",
        "colab_type": "code",
        "colab": {}
      },
      "source": [
        "# Select duplicate rows except first occurrence based on all columns\n",
        "df_duplicates = df[df.duplicated()]"
      ],
      "execution_count": 0,
      "outputs": []
    },
    {
      "cell_type": "code",
      "metadata": {
        "id": "9Kbjm78pW21m",
        "colab_type": "code",
        "colab": {}
      },
      "source": [
        "from pandas import DataFrame\n",
        "df_clean = DataFrame.drop_duplicates(df)\n"
      ],
      "execution_count": 0,
      "outputs": []
    },
    {
      "cell_type": "code",
      "metadata": {
        "id": "uqdLaKH_mybK",
        "colab_type": "code",
        "outputId": "bd55668e-9c67-446d-e08d-8fdab3b10691",
        "colab": {
          "base_uri": "https://localhost:8080/",
          "height": 51
        }
      },
      "source": [
        "print(df.shape)\n",
        "print(df_clean.shape)"
      ],
      "execution_count": 0,
      "outputs": [
        {
          "output_type": "stream",
          "text": [
            "(15101772, 21)\n",
            "(15101650, 21)\n"
          ],
          "name": "stdout"
        }
      ]
    },
    {
      "cell_type": "code",
      "metadata": {
        "id": "NEWvSh-VXy-k",
        "colab_type": "code",
        "colab": {}
      },
      "source": [
        "df = df_clean "
      ],
      "execution_count": 0,
      "outputs": []
    },
    {
      "cell_type": "code",
      "metadata": {
        "id": "vU2qDivxX6Kt",
        "colab_type": "code",
        "outputId": "4dd24d38-a20c-49c6-fee3-1c8ee35baf6b",
        "colab": {
          "base_uri": "https://localhost:8080/",
          "height": 51
        }
      },
      "source": [
        "print(df.shape)\n",
        "print(df_clean.shape)"
      ],
      "execution_count": 0,
      "outputs": [
        {
          "output_type": "stream",
          "text": [
            "(15101650, 21)\n",
            "(15101650, 21)\n"
          ],
          "name": "stdout"
        }
      ]
    },
    {
      "cell_type": "code",
      "metadata": {
        "id": "b2vNkjkqmw4P",
        "colab_type": "code",
        "outputId": "76e5fef8-e673-4c52-c783-90a30dcb53a4",
        "colab": {
          "base_uri": "https://localhost:8080/",
          "height": 391
        }
      },
      "source": [
        "df.isnull().sum()"
      ],
      "execution_count": 0,
      "outputs": [
        {
          "output_type": "execute_result",
          "data": {
            "text/plain": [
              "medallion                    0\n",
              " hack_license                0\n",
              " vendor_id                   0\n",
              " rate_code                   0\n",
              " store_and_fwd_flag    7519637\n",
              " pickup_datetime             0\n",
              " dropoff_datetime            0\n",
              " passenger_count             0\n",
              " trip_time_in_secs           0\n",
              " trip_distance               0\n",
              " pickup_longitude            0\n",
              " pickup_latitude             0\n",
              " dropoff_longitude         146\n",
              " dropoff_latitude          146\n",
              " payment_type                0\n",
              " fare_amount                 0\n",
              " surcharge                   0\n",
              " mta_tax                     0\n",
              " tip_amount                  0\n",
              " tolls_amount                0\n",
              " total_amount                0\n",
              "dtype: int64"
            ]
          },
          "metadata": {
            "tags": []
          },
          "execution_count": 26
        }
      ]
    },
    {
      "cell_type": "code",
      "metadata": {
        "id": "VItud_K6khwP",
        "colab_type": "code",
        "outputId": "a7f7e7f6-7079-4994-995a-f66a30403902",
        "colab": {
          "base_uri": "https://localhost:8080/",
          "height": 391
        }
      },
      "source": [
        "## Merged datatype info\n",
        "df.dtypes"
      ],
      "execution_count": 0,
      "outputs": [
        {
          "output_type": "execute_result",
          "data": {
            "text/plain": [
              "medallion               object\n",
              " hack_license           object\n",
              " vendor_id              object\n",
              " rate_code               int64\n",
              " store_and_fwd_flag     object\n",
              " pickup_datetime        object\n",
              " dropoff_datetime       object\n",
              " passenger_count         int64\n",
              " trip_time_in_secs       int64\n",
              " trip_distance         float64\n",
              " pickup_longitude      float64\n",
              " pickup_latitude       float64\n",
              " dropoff_longitude     float64\n",
              " dropoff_latitude      float64\n",
              " payment_type           object\n",
              " fare_amount           float64\n",
              " surcharge             float64\n",
              " mta_tax               float64\n",
              " tip_amount            float64\n",
              " tolls_amount          float64\n",
              " total_amount          float64\n",
              "dtype: object"
            ]
          },
          "metadata": {
            "tags": []
          },
          "execution_count": 27
        }
      ]
    },
    {
      "cell_type": "code",
      "metadata": {
        "id": "LJSBHRhekmsS",
        "colab_type": "code",
        "colab": {}
      },
      "source": [
        "## there are spaces before the column names, trimming the spaces\n",
        "df.columns = [ x.strip() for x in df.columns]"
      ],
      "execution_count": 0,
      "outputs": []
    },
    {
      "cell_type": "code",
      "metadata": {
        "id": "FK0iX4yfkpxp",
        "colab_type": "code",
        "outputId": "51c5307c-dfdf-41d4-b9fd-f8946046f56c",
        "colab": {
          "base_uri": "https://localhost:8080/",
          "height": 34
        }
      },
      "source": [
        "# find categorical variables\n",
        "categorical = [var for var in df.columns if df[var].dtype=='O']\n",
        "print('There are {} categorical variables'.format(len(categorical)))"
      ],
      "execution_count": 0,
      "outputs": [
        {
          "output_type": "stream",
          "text": [
            "There are 7 categorical variables\n"
          ],
          "name": "stdout"
        }
      ]
    },
    {
      "cell_type": "code",
      "metadata": {
        "id": "aQwMYdD2ksvX",
        "colab_type": "code",
        "outputId": "4dbee7be-a1db-43ac-adc1-39914eca83a7",
        "colab": {
          "base_uri": "https://localhost:8080/",
          "height": 309
        }
      },
      "source": [
        "# view of categorical variables\n",
        "df[categorical].head()"
      ],
      "execution_count": 0,
      "outputs": [
        {
          "output_type": "execute_result",
          "data": {
            "text/html": [
              "<div>\n",
              "<style scoped>\n",
              "    .dataframe tbody tr th:only-of-type {\n",
              "        vertical-align: middle;\n",
              "    }\n",
              "\n",
              "    .dataframe tbody tr th {\n",
              "        vertical-align: top;\n",
              "    }\n",
              "\n",
              "    .dataframe thead th {\n",
              "        text-align: right;\n",
              "    }\n",
              "</style>\n",
              "<table border=\"1\" class=\"dataframe\">\n",
              "  <thead>\n",
              "    <tr style=\"text-align: right;\">\n",
              "      <th></th>\n",
              "      <th>medallion</th>\n",
              "      <th>hack_license</th>\n",
              "      <th>vendor_id</th>\n",
              "      <th>store_and_fwd_flag</th>\n",
              "      <th>pickup_datetime</th>\n",
              "      <th>dropoff_datetime</th>\n",
              "      <th>payment_type</th>\n",
              "    </tr>\n",
              "  </thead>\n",
              "  <tbody>\n",
              "    <tr>\n",
              "      <th>0</th>\n",
              "      <td>91F6EB84975BBC867E32CB113C7C2CD5</td>\n",
              "      <td>AD8751110E6292079EB10EB9481FE1A6</td>\n",
              "      <td>CMT</td>\n",
              "      <td>N</td>\n",
              "      <td>2013-04-04 18:47:45</td>\n",
              "      <td>2013-04-04 19:00:25</td>\n",
              "      <td>CRD</td>\n",
              "    </tr>\n",
              "    <tr>\n",
              "      <th>1</th>\n",
              "      <td>EC34CD1B3797DFAFF3FE099BA87B6656</td>\n",
              "      <td>8FE6A4AEDF89B6B4E19D2377FD3FB7D7</td>\n",
              "      <td>CMT</td>\n",
              "      <td>N</td>\n",
              "      <td>2013-04-05 07:08:34</td>\n",
              "      <td>2013-04-05 07:17:34</td>\n",
              "      <td>CRD</td>\n",
              "    </tr>\n",
              "    <tr>\n",
              "      <th>2</th>\n",
              "      <td>C1B9DA774DC2BBC6DE27CE994E7F44A0</td>\n",
              "      <td>E1B595FD55E4C82C1E213EB17438107A</td>\n",
              "      <td>CMT</td>\n",
              "      <td>N</td>\n",
              "      <td>2013-04-04 17:59:50</td>\n",
              "      <td>2013-04-04 18:21:48</td>\n",
              "      <td>CRD</td>\n",
              "    </tr>\n",
              "    <tr>\n",
              "      <th>3</th>\n",
              "      <td>9BA84250355AB3FC031C9252D395BF8A</td>\n",
              "      <td>16BB0D96A0DCC853AEC7F55C8D6C71E0</td>\n",
              "      <td>CMT</td>\n",
              "      <td>N</td>\n",
              "      <td>2013-04-04 18:12:01</td>\n",
              "      <td>2013-04-04 18:25:24</td>\n",
              "      <td>CRD</td>\n",
              "    </tr>\n",
              "    <tr>\n",
              "      <th>4</th>\n",
              "      <td>205A696DF62AD03C88DA8C5EC5248639</td>\n",
              "      <td>579C41EA5EC846F8B641A42F9EE3E855</td>\n",
              "      <td>CMT</td>\n",
              "      <td>N</td>\n",
              "      <td>2013-04-04 20:12:57</td>\n",
              "      <td>2013-04-04 20:29:55</td>\n",
              "      <td>CRD</td>\n",
              "    </tr>\n",
              "  </tbody>\n",
              "</table>\n",
              "</div>"
            ],
            "text/plain": [
              "                          medallion  ... payment_type\n",
              "0  91F6EB84975BBC867E32CB113C7C2CD5  ...          CRD\n",
              "1  EC34CD1B3797DFAFF3FE099BA87B6656  ...          CRD\n",
              "2  C1B9DA774DC2BBC6DE27CE994E7F44A0  ...          CRD\n",
              "3  9BA84250355AB3FC031C9252D395BF8A  ...          CRD\n",
              "4  205A696DF62AD03C88DA8C5EC5248639  ...          CRD\n",
              "\n",
              "[5 rows x 7 columns]"
            ]
          },
          "metadata": {
            "tags": []
          },
          "execution_count": 30
        }
      ]
    },
    {
      "cell_type": "code",
      "metadata": {
        "id": "rZNHs_aAkvw2",
        "colab_type": "code",
        "outputId": "17bf0ae2-536e-4548-80bb-662106c55a24",
        "colab": {
          "base_uri": "https://localhost:8080/",
          "height": 34
        }
      },
      "source": [
        "# find numerical variables\n",
        "numerical = [var for var in df.columns if df[var].dtype!='O']\n",
        "print('There are {} numerical variables'.format(len(numerical)))"
      ],
      "execution_count": 0,
      "outputs": [
        {
          "output_type": "stream",
          "text": [
            "There are 14 numerical variables\n"
          ],
          "name": "stdout"
        }
      ]
    },
    {
      "cell_type": "code",
      "metadata": {
        "id": "KyqgbDpXkymv",
        "colab_type": "code",
        "outputId": "ee1616f2-b510-4d97-a91f-5d922a4e9652",
        "colab": {
          "base_uri": "https://localhost:8080/",
          "height": 224
        }
      },
      "source": [
        "# view of numerical variables\n",
        "df[numerical].head()"
      ],
      "execution_count": 0,
      "outputs": [
        {
          "output_type": "execute_result",
          "data": {
            "text/html": [
              "<div>\n",
              "<style scoped>\n",
              "    .dataframe tbody tr th:only-of-type {\n",
              "        vertical-align: middle;\n",
              "    }\n",
              "\n",
              "    .dataframe tbody tr th {\n",
              "        vertical-align: top;\n",
              "    }\n",
              "\n",
              "    .dataframe thead th {\n",
              "        text-align: right;\n",
              "    }\n",
              "</style>\n",
              "<table border=\"1\" class=\"dataframe\">\n",
              "  <thead>\n",
              "    <tr style=\"text-align: right;\">\n",
              "      <th></th>\n",
              "      <th>rate_code</th>\n",
              "      <th>passenger_count</th>\n",
              "      <th>trip_time_in_secs</th>\n",
              "      <th>trip_distance</th>\n",
              "      <th>pickup_longitude</th>\n",
              "      <th>pickup_latitude</th>\n",
              "      <th>dropoff_longitude</th>\n",
              "      <th>dropoff_latitude</th>\n",
              "      <th>fare_amount</th>\n",
              "      <th>surcharge</th>\n",
              "      <th>mta_tax</th>\n",
              "      <th>tip_amount</th>\n",
              "      <th>tolls_amount</th>\n",
              "      <th>total_amount</th>\n",
              "    </tr>\n",
              "  </thead>\n",
              "  <tbody>\n",
              "    <tr>\n",
              "      <th>0</th>\n",
              "      <td>1</td>\n",
              "      <td>1</td>\n",
              "      <td>759</td>\n",
              "      <td>2.5</td>\n",
              "      <td>-73.957855</td>\n",
              "      <td>40.765320</td>\n",
              "      <td>-73.976273</td>\n",
              "      <td>40.785648</td>\n",
              "      <td>11.0</td>\n",
              "      <td>1.0</td>\n",
              "      <td>0.5</td>\n",
              "      <td>2.50</td>\n",
              "      <td>0.0</td>\n",
              "      <td>15.00</td>\n",
              "    </tr>\n",
              "    <tr>\n",
              "      <th>1</th>\n",
              "      <td>1</td>\n",
              "      <td>1</td>\n",
              "      <td>540</td>\n",
              "      <td>1.6</td>\n",
              "      <td>0.000000</td>\n",
              "      <td>0.000000</td>\n",
              "      <td>0.000000</td>\n",
              "      <td>0.000000</td>\n",
              "      <td>8.5</td>\n",
              "      <td>0.0</td>\n",
              "      <td>0.5</td>\n",
              "      <td>1.80</td>\n",
              "      <td>0.0</td>\n",
              "      <td>10.80</td>\n",
              "    </tr>\n",
              "    <tr>\n",
              "      <th>2</th>\n",
              "      <td>1</td>\n",
              "      <td>1</td>\n",
              "      <td>1318</td>\n",
              "      <td>3.6</td>\n",
              "      <td>-73.982880</td>\n",
              "      <td>40.754990</td>\n",
              "      <td>-74.009186</td>\n",
              "      <td>40.715374</td>\n",
              "      <td>16.5</td>\n",
              "      <td>1.0</td>\n",
              "      <td>0.5</td>\n",
              "      <td>3.60</td>\n",
              "      <td>0.0</td>\n",
              "      <td>21.60</td>\n",
              "    </tr>\n",
              "    <tr>\n",
              "      <th>3</th>\n",
              "      <td>1</td>\n",
              "      <td>1</td>\n",
              "      <td>799</td>\n",
              "      <td>1.9</td>\n",
              "      <td>-73.978119</td>\n",
              "      <td>40.763451</td>\n",
              "      <td>-73.955666</td>\n",
              "      <td>40.776642</td>\n",
              "      <td>10.0</td>\n",
              "      <td>1.0</td>\n",
              "      <td>0.5</td>\n",
              "      <td>3.45</td>\n",
              "      <td>0.0</td>\n",
              "      <td>14.95</td>\n",
              "    </tr>\n",
              "    <tr>\n",
              "      <th>4</th>\n",
              "      <td>1</td>\n",
              "      <td>1</td>\n",
              "      <td>1017</td>\n",
              "      <td>3.6</td>\n",
              "      <td>-74.006371</td>\n",
              "      <td>40.744755</td>\n",
              "      <td>-73.961662</td>\n",
              "      <td>40.761082</td>\n",
              "      <td>15.0</td>\n",
              "      <td>0.5</td>\n",
              "      <td>0.5</td>\n",
              "      <td>3.20</td>\n",
              "      <td>0.0</td>\n",
              "      <td>19.20</td>\n",
              "    </tr>\n",
              "  </tbody>\n",
              "</table>\n",
              "</div>"
            ],
            "text/plain": [
              "   rate_code  passenger_count  ...  tolls_amount  total_amount\n",
              "0          1                1  ...           0.0         15.00\n",
              "1          1                1  ...           0.0         10.80\n",
              "2          1                1  ...           0.0         21.60\n",
              "3          1                1  ...           0.0         14.95\n",
              "4          1                1  ...           0.0         19.20\n",
              "\n",
              "[5 rows x 14 columns]"
            ]
          },
          "metadata": {
            "tags": []
          },
          "execution_count": 32
        }
      ]
    },
    {
      "cell_type": "code",
      "metadata": {
        "id": "3oMkOxXWk1G-",
        "colab_type": "code",
        "outputId": "8d11702d-1fc3-40ba-e172-9a29b131bd95",
        "colab": {
          "base_uri": "https://localhost:8080/",
          "height": 68
        }
      },
      "source": [
        "# let's visualise the values of the discrete variables\n",
        "for var in ['vendor_id',  'store_and_fwd_flag', 'payment_type']:\n",
        "    print(var, ' values: ', df[var].unique())"
      ],
      "execution_count": 0,
      "outputs": [
        {
          "output_type": "stream",
          "text": [
            "vendor_id  values:  ['CMT' 'VTS']\n",
            "store_and_fwd_flag  values:  ['N' 'Y' nan]\n",
            "payment_type  values:  ['CRD' 'CSH' 'UNK' 'NOC' 'DIS']\n"
          ],
          "name": "stdout"
        }
      ]
    },
    {
      "cell_type": "code",
      "metadata": {
        "id": "viT2G6DQrGbW",
        "colab_type": "code",
        "outputId": "e6988f8d-c038-4861-dfe2-d04fac779277",
        "colab": {
          "base_uri": "https://localhost:8080/",
          "height": 34
        }
      },
      "source": [
        "df.shape"
      ],
      "execution_count": 0,
      "outputs": [
        {
          "output_type": "execute_result",
          "data": {
            "text/plain": [
              "(15101650, 21)"
            ]
          },
          "metadata": {
            "tags": []
          },
          "execution_count": 34
        }
      ]
    },
    {
      "cell_type": "code",
      "metadata": {
        "id": "L8ujnnGkk44A",
        "colab_type": "code",
        "outputId": "36c07373-2093-4415-ff00-0467263456a0",
        "colab": {
          "base_uri": "https://localhost:8080/",
          "height": 391
        }
      },
      "source": [
        "# let's visualise the percentage of missing values\n",
        "df.isnull().mean()"
      ],
      "execution_count": 0,
      "outputs": [
        {
          "output_type": "execute_result",
          "data": {
            "text/plain": [
              "medallion             0.000000\n",
              "hack_license          0.000000\n",
              "vendor_id             0.000000\n",
              "rate_code             0.000000\n",
              "store_and_fwd_flag    0.497935\n",
              "pickup_datetime       0.000000\n",
              "dropoff_datetime      0.000000\n",
              "passenger_count       0.000000\n",
              "trip_time_in_secs     0.000000\n",
              "trip_distance         0.000000\n",
              "pickup_longitude      0.000000\n",
              "pickup_latitude       0.000000\n",
              "dropoff_longitude     0.000010\n",
              "dropoff_latitude      0.000010\n",
              "payment_type          0.000000\n",
              "fare_amount           0.000000\n",
              "surcharge             0.000000\n",
              "mta_tax               0.000000\n",
              "tip_amount            0.000000\n",
              "tolls_amount          0.000000\n",
              "total_amount          0.000000\n",
              "dtype: float64"
            ]
          },
          "metadata": {
            "tags": []
          },
          "execution_count": 35
        }
      ]
    },
    {
      "cell_type": "code",
      "metadata": {
        "id": "eJN586kEodV5",
        "colab_type": "code",
        "outputId": "98c66ca7-ba38-44f2-f883-617f3899b740",
        "colab": {
          "base_uri": "https://localhost:8080/",
          "height": 34
        }
      },
      "source": [
        "## Since we don't need this variable for analysis and 50% of the data is missing, dropping the variable.\n",
        "\n",
        "df=df.drop('store_and_fwd_flag',axis=1)\n",
        "df.shape\n"
      ],
      "execution_count": 0,
      "outputs": [
        {
          "output_type": "execute_result",
          "data": {
            "text/plain": [
              "(15101650, 20)"
            ]
          },
          "metadata": {
            "tags": []
          },
          "execution_count": 36
        }
      ]
    },
    {
      "cell_type": "code",
      "metadata": {
        "id": "do__ksuarYRs",
        "colab_type": "code",
        "outputId": "d9922e94-7196-4373-c967-bc830b5bc840",
        "colab": {
          "base_uri": "https://localhost:8080/",
          "height": 34
        }
      },
      "source": [
        "##remove records with missing for dropoff_longitude and dropoff_latitude\n",
        "df=df.dropna()\n",
        "df.shape"
      ],
      "execution_count": 0,
      "outputs": [
        {
          "output_type": "execute_result",
          "data": {
            "text/plain": [
              "(15101504, 20)"
            ]
          },
          "metadata": {
            "tags": []
          },
          "execution_count": 37
        }
      ]
    },
    {
      "cell_type": "code",
      "metadata": {
        "id": "LPiXqK_dKHtJ",
        "colab_type": "code",
        "outputId": "3679a294-0233-4537-c27f-b210632f9381",
        "colab": {
          "base_uri": "https://localhost:8080/",
          "height": 34
        }
      },
      "source": [
        "###Remove the rows where tip is greater than fare\n",
        "df = df.drop(df[df.fare_amount < df.tip_amount].index)\n",
        "df.shape\n",
        "#(8871/15101626)*100\n"
      ],
      "execution_count": 0,
      "outputs": [
        {
          "output_type": "execute_result",
          "data": {
            "text/plain": [
              "(15092643, 20)"
            ]
          },
          "metadata": {
            "tags": []
          },
          "execution_count": 38
        }
      ]
    },
    {
      "cell_type": "code",
      "metadata": {
        "id": "7Jq8EFi9k9M_",
        "colab_type": "code",
        "outputId": "d1cc607f-fc1a-4b34-c13c-533392eb13f4",
        "colab": {
          "base_uri": "https://localhost:8080/",
          "height": 153
        }
      },
      "source": [
        "numerical = [var for var in numerical if var in['trip_time_in_secs', 'trip_distance', 'fare_amount', 'surcharge', 'mta_tax', 'tip_amount', 'tolls_amount','total_amount' ]]\n",
        "numerical"
      ],
      "execution_count": 0,
      "outputs": [
        {
          "output_type": "execute_result",
          "data": {
            "text/plain": [
              "['trip_time_in_secs',\n",
              " 'trip_distance',\n",
              " 'fare_amount',\n",
              " 'surcharge',\n",
              " 'mta_tax',\n",
              " 'tip_amount',\n",
              " 'tolls_amount',\n",
              " 'total_amount']"
            ]
          },
          "metadata": {
            "tags": []
          },
          "execution_count": 39
        }
      ]
    },
    {
      "cell_type": "code",
      "metadata": {
        "id": "4jj2xkBXlEDP",
        "colab_type": "code",
        "outputId": "daba64fb-74c6-4076-e67e-effa8c2c5d53",
        "colab": {
          "base_uri": "https://localhost:8080/",
          "height": 85
        }
      },
      "source": [
        "### Let's Check the coordinates data\n",
        "## First find pickup lat lang min max coordinates\n",
        "\n",
        "def min_max():\n",
        "    print(df['pickup_longitude'].max(),df['pickup_longitude'].min())\n",
        "    print(df['pickup_latitude'].max(),df['pickup_latitude'].min())\n",
        "\n",
        "    print(df['dropoff_longitude'].max(),df['dropoff_longitude'].min())\n",
        "    print(df['dropoff_latitude'].max(),df['dropoff_latitude'].min())\n",
        "min_max()"
      ],
      "execution_count": 0,
      "outputs": [
        {
          "output_type": "stream",
          "text": [
            "2228.7222 -2323.4202\n",
            "3210.3926 -3481.1411\n",
            "2228.7456 -2771.29\n",
            "3577.1265 -3547.8977\n"
          ],
          "name": "stdout"
        }
      ]
    },
    {
      "cell_type": "markdown",
      "metadata": {
        "id": "rkEfx3ZmpXae",
        "colab_type": "text"
      },
      "source": [
        "\n",
        "#####Latitude is always range between -90 to 90\n",
        "#####Longitude is always range between -180 to 180\n",
        "#####And whatever above this range is wrong data\n",
        "#####First check any data above this range"
      ]
    },
    {
      "cell_type": "code",
      "metadata": {
        "id": "M4GXG2SUsH8G",
        "colab_type": "code",
        "outputId": "d9077d39-405e-4d5b-c76e-565a9df65131",
        "colab": {
          "base_uri": "https://localhost:8080/",
          "height": 85
        }
      },
      "source": [
        "def coordinate_data():\n",
        "    print(df[(df['pickup_longitude']>180) |(df['pickup_longitude']<-180) | (df['pickup_longitude']==0) ]['pickup_longitude'].count())\n",
        "    print(df[(df['pickup_latitude']>90) |(df['pickup_latitude']<-90) | (df['pickup_latitude']==0) ]['pickup_latitude'].count())\n",
        "    print(df[(df['dropoff_longitude']>180) |(df['dropoff_longitude']<-180) | (df['dropoff_longitude']==0)]['dropoff_longitude'].count())\n",
        "    print(df[(df['dropoff_latitude']>90) |(df['dropoff_latitude']<-90) | (df['dropoff_latitude']==0) ]['dropoff_latitude'].count())\n",
        "\n",
        "coordinate_data()"
      ],
      "execution_count": 0,
      "outputs": [
        {
          "output_type": "stream",
          "text": [
            "252270\n",
            "249969\n",
            "260411\n",
            "258192\n"
          ],
          "name": "stdout"
        }
      ]
    },
    {
      "cell_type": "markdown",
      "metadata": {
        "id": "iUPih5UosUv0",
        "colab_type": "text"
      },
      "source": [
        "##### We can see so many records are out of range so its not possible to have Let's remove it...\n",
        "\n",
        "##### We will use ~ sign to remove all data which match condition"
      ]
    },
    {
      "cell_type": "code",
      "metadata": {
        "id": "4KOqvSjpsY_o",
        "colab_type": "code",
        "outputId": "40ee50f5-ce2a-46fb-83ee-9122ed1fa14f",
        "colab": {
          "base_uri": "https://localhost:8080/",
          "height": 153
        }
      },
      "source": [
        "df=df[~((df['pickup_longitude']>180) |(df['pickup_longitude']<-180) | (df['pickup_longitude']==0))]\n",
        "df=df[~((df['pickup_latitude']>90) |(df['pickup_latitude']<-90) | (df['pickup_latitude']==0))]\n",
        "df=df[~((df['dropoff_longitude']>180) |(df['dropoff_longitude']<-180) | (df['dropoff_longitude']==0))]\n",
        "df=df[~((df['dropoff_latitude']>90) |(df['dropoff_latitude']<-90) | (df['dropoff_latitude']==0))]\n",
        "\n",
        "# call function to check\n",
        "coordinate_data()\n",
        "min_max()"
      ],
      "execution_count": 0,
      "outputs": [
        {
          "output_type": "stream",
          "text": [
            "0\n",
            "0\n",
            "0\n",
            "0\n",
            "100.98785 -157.8177\n",
            "74.01463299999999 -74.01636500000001\n",
            "100.98785 -157.8177\n",
            "74.035927 -74.069908\n"
          ],
          "name": "stdout"
        }
      ]
    },
    {
      "cell_type": "code",
      "metadata": {
        "id": "0YxQtevxtHB8",
        "colab_type": "code",
        "colab": {}
      },
      "source": [
        "# The NYC boundary latitude longitude is given below. For simplicity, and since the percentage of records are very small, I am ignoring them.\n",
        "\n",
        "boundary={\"min_lat\":40.573143,\n",
        "         \"min_lang\":-74.252193,\n",
        "         \"max_lat\":41.709555,\n",
        "         \"max_lang\":-72.986532}"
      ],
      "execution_count": 0,
      "outputs": []
    },
    {
      "cell_type": "code",
      "metadata": {
        "id": "bWu_oxBvtMjJ",
        "colab_type": "code",
        "outputId": "94f5e2c3-6aba-4ab6-8aca-f48f96c6ae03",
        "colab": {
          "base_uri": "https://localhost:8080/",
          "height": 85
        }
      },
      "source": [
        "print(df[(df['pickup_latitude']<=boundary['min_lat']) | (df['pickup_latitude']>=boundary['max_lat'])].shape[0])\n",
        "print(df[(df['pickup_longitude']<=boundary['min_lang']) | (df['pickup_longitude']>=boundary['max_lang'])].shape[0])\n",
        "print(df[(df['dropoff_latitude']<=boundary['min_lat']) | (df['dropoff_latitude']>=boundary['max_lat'])].shape[0])\n",
        "print(df[(df['dropoff_longitude']<=boundary['min_lang']) | (df['dropoff_longitude']>=boundary['max_lang'])].shape[0])"
      ],
      "execution_count": 0,
      "outputs": [
        {
          "output_type": "stream",
          "text": [
            "1548\n",
            "1861\n",
            "2389\n",
            "2467\n"
          ],
          "name": "stdout"
        }
      ]
    },
    {
      "cell_type": "code",
      "metadata": {
        "id": "kTyptSnMpCRm",
        "colab_type": "code",
        "outputId": "9a8a8803-060b-43dd-83f1-e5fc8c1dd1be",
        "colab": {
          "base_uri": "https://localhost:8080/",
          "height": 34
        }
      },
      "source": [
        "# Check for pickup and drop location are same\n",
        "print(df[(df['pickup_longitude']==df['dropoff_longitude']) & (df['pickup_latitude']==df['dropoff_latitude'])].shape)\n",
        "df=df[~((df['pickup_longitude']==df['dropoff_longitude']) & (df['pickup_latitude']==df['dropoff_latitude']))]"
      ],
      "execution_count": 0,
      "outputs": [
        {
          "output_type": "stream",
          "text": [
            "(133820, 20)\n"
          ],
          "name": "stdout"
        }
      ]
    },
    {
      "cell_type": "code",
      "metadata": {
        "id": "azAdPC8-pv-2",
        "colab_type": "code",
        "outputId": "e5cdbbc8-a7b9-4601-f07a-2a7ba4625de4",
        "colab": {
          "base_uri": "https://localhost:8080/",
          "height": 34
        }
      },
      "source": [
        "df.shape"
      ],
      "execution_count": 0,
      "outputs": [
        {
          "output_type": "execute_result",
          "data": {
            "text/plain": [
              "(14688889, 20)"
            ]
          },
          "metadata": {
            "tags": []
          },
          "execution_count": 46
        }
      ]
    },
    {
      "cell_type": "code",
      "metadata": {
        "id": "YT22jJ0HqQpe",
        "colab_type": "code",
        "colab": {}
      },
      "source": [
        ""
      ],
      "execution_count": 0,
      "outputs": []
    },
    {
      "cell_type": "markdown",
      "metadata": {
        "id": "VeoKy3-A73x7",
        "colab_type": "text"
      },
      "source": [
        "## Exploratory data analysis using Visualisation"
      ]
    },
    {
      "cell_type": "code",
      "metadata": {
        "id": "khF439uzZX8t",
        "colab_type": "code",
        "colab": {}
      },
      "source": [
        "# for plotting\n",
        "import seaborn as sns\n",
        "import matplotlib.pyplot as plt\n",
        "%matplotlib inline"
      ],
      "execution_count": 0,
      "outputs": []
    },
    {
      "cell_type": "code",
      "metadata": {
        "id": "HwecIlhbMv0e",
        "colab_type": "code",
        "colab": {}
      },
      "source": [
        "### To see the distribution of NYC city \n",
        "df.plot(y='pickup_latitude',x='pickup_longitude',kind=\"scatter\",alpha=0.7,s=0.02)\n",
        "city_long_border = (-74.03, -73.75)\n",
        "city_lat_border = (40.63, 40.85)\n",
        "plt.title(\"Pickups Data\")\n",
        "\n",
        "plt.ylim(city_lat_border)\n",
        "plt.xlim(city_long_border)\n",
        "plt.show()"
      ],
      "execution_count": 0,
      "outputs": []
    },
    {
      "cell_type": "code",
      "metadata": {
        "id": "tmwQnoea9r46",
        "colab_type": "code",
        "colab": {}
      },
      "source": [
        "import datetime as dt\n",
        "\n",
        "df['pickup_datetime'] = pd.to_datetime(df['pickup_datetime'])\n",
        "df['day'] = df['pickup_datetime'].dt.day \n",
        "df['hour'] = df['pickup_datetime'].dt.hour \n",
        "df['dayofweek'] = df['pickup_datetime'].dt.dayofweek"
      ],
      "execution_count": 0,
      "outputs": []
    },
    {
      "cell_type": "code",
      "metadata": {
        "id": "L2EY391MudNf",
        "colab_type": "code",
        "outputId": "685174db-7fc2-468c-f42a-4c875c414914",
        "colab": {
          "base_uri": "https://localhost:8080/",
          "height": 609
        }
      },
      "source": [
        "plt.figure(figsize=(12,10))\n",
        "plt.subplot(2,2,1)\n",
        "sns.countplot(y='day', data=df)\n",
        "\n",
        "plt.subplot(2,2,2)\n",
        "sns.countplot(x='hour', data=df, palette='Set3')\n",
        "\n",
        "plt.subplot(2,2,3)\n",
        "sns.countplot(x='dayofweek', data=df,palette='Set2')\n",
        "plt.gca().set_xticklabels(\\\n",
        "    ['Monday','Tuesday','Wednesday','Thursday','Friday','Saturday','Sunday']);"
      ],
      "execution_count": 0,
      "outputs": [
        {
          "output_type": "display_data",
          "data": {
            "image/png": "[encoded data removed]",
            "text/plain": [
              "<Figure size 864x720 with 3 Axes>"
            ]
          },
          "metadata": {
            "tags": []
          }
        }
      ]
    },
    {
      "cell_type": "code",
      "metadata": {
        "id": "5aKBoSDVDBez",
        "colab_type": "code",
        "outputId": "1dd7fb36-3086-4223-fee2-a74084476729",
        "colab": {
          "base_uri": "https://localhost:8080/",
          "height": 493
        }
      },
      "source": [
        "df.info()"
      ],
      "execution_count": 0,
      "outputs": [
        {
          "output_type": "stream",
          "text": [
            "<class 'pandas.core.frame.DataFrame'>\n",
            "Int64Index: 14688889 entries, 0 to 15101771\n",
            "Data columns (total 23 columns):\n",
            "medallion            object\n",
            "hack_license         object\n",
            "vendor_id            object\n",
            "rate_code            int64\n",
            "pickup_datetime      datetime64[ns]\n",
            "dropoff_datetime     object\n",
            "passenger_count      int64\n",
            "trip_time_in_secs    int64\n",
            "trip_distance        float64\n",
            "pickup_longitude     float64\n",
            "pickup_latitude      float64\n",
            "dropoff_longitude    float64\n",
            "dropoff_latitude     float64\n",
            "payment_type         object\n",
            "fare_amount          float64\n",
            "surcharge            float64\n",
            "mta_tax              float64\n",
            "tip_amount           float64\n",
            "tolls_amount         float64\n",
            "total_amount         float64\n",
            "day                  int64\n",
            "hour                 int64\n",
            "dayofweek            int64\n",
            "dtypes: datetime64[ns](1), float64(11), int64(6), object(5)\n",
            "memory usage: 2.6+ GB\n"
          ],
          "name": "stdout"
        }
      ]
    },
    {
      "cell_type": "code",
      "metadata": {
        "id": "DFVP4w_vDCoS",
        "colab_type": "code",
        "outputId": "f57c3e67-d721-4479-9501-af34d477bd71",
        "colab": {
          "base_uri": "https://localhost:8080/",
          "height": 518
        }
      },
      "source": [
        "plt.figure(figsize=(8,8))\n",
        "\n",
        "plt.subplot(2,2,1)\n",
        "sns.distplot(df['trip_time_in_secs'],kde=True)\n",
        "\n",
        "plt.subplot(2,2,2)\n",
        "sns.distplot(df['trip_distance'],kde=True)\n",
        "\n",
        "plt.subplot(2,2,3)\n",
        "sns.distplot(df['fare_amount'],kde=True)\n",
        "\n",
        "plt.subplot(2,2,4)\n",
        "sns.distplot(df['tip_amount'],kde=True)\n"
      ],
      "execution_count": 0,
      "outputs": [
        {
          "output_type": "execute_result",
          "data": {
            "text/plain": [
              "<matplotlib.axes._subplots.AxesSubplot at 0x7fad271ef0f0>"
            ]
          },
          "metadata": {
            "tags": []
          },
          "execution_count": 52
        },
        {
          "output_type": "display_data",
          "data": {
            "image/png": "[encoded data removed]",
            "text/plain": [
              "<Figure size 576x576 with 4 Axes>"
            ]
          },
          "metadata": {
            "tags": []
          }
        }
      ]
    },
    {
      "cell_type": "code",
      "metadata": {
        "id": "W1Gxf0oVDrvT",
        "colab_type": "code",
        "outputId": "66ea9c81-f469-4ff3-ac8f-7fa3ae797892",
        "colab": {
          "base_uri": "https://localhost:8080/",
          "height": 548
        }
      },
      "source": [
        "plt.figure(figsize=(8,8))\n",
        "\n",
        "plt.subplot(2,2,1)\n",
        "sns.distplot(df['tolls_amount'],kde=True)\n",
        "\n",
        "plt.subplot(2,2,2)\n",
        "sns.distplot(df['total_amount'],kde=True)\n",
        "\n",
        "df.plot(x='fare_amount',y='trip_distance',kind='scatter')"
      ],
      "execution_count": 0,
      "outputs": [
        {
          "output_type": "execute_result",
          "data": {
            "text/plain": [
              "<matplotlib.axes._subplots.AxesSubplot at 0x7fad26eef5c0>"
            ]
          },
          "metadata": {
            "tags": []
          },
          "execution_count": 53
        },
        {
          "output_type": "display_data",
          "data": {
            "image/png": "[encoded data removed]",
            "text/plain": [
              "<Figure size 576x576 with 2 Axes>"
            ]
          },
          "metadata": {
            "tags": []
          }
        },
        {
          "output_type": "display_data",
          "data": {
            "image/png": "[encoded data removed]",
            "text/plain": [
              "<Figure size 432x288 with 1 Axes>"
            ]
          },
          "metadata": {
            "tags": []
          }
        }
      ]
    },
    {
      "cell_type": "code",
      "metadata": {
        "id": "H_3QgAvqD8lC",
        "colab_type": "code",
        "outputId": "ef7c155a-dbed-4286-80fe-dcad78801c28",
        "colab": {
          "base_uri": "https://localhost:8080/",
          "height": 364
        }
      },
      "source": [
        "sns.heatmap(df.corr())"
      ],
      "execution_count": 0,
      "outputs": [
        {
          "output_type": "execute_result",
          "data": {
            "text/plain": [
              "<matplotlib.axes._subplots.AxesSubplot at 0x7fad26e54ba8>"
            ]
          },
          "metadata": {
            "tags": []
          },
          "execution_count": 54
        },
        {
          "output_type": "display_data",
          "data": {
            "image/png": "[encoded data removed]",
            "text/plain": [
              "<Figure size 432x288 with 2 Axes>"
            ]
          },
          "metadata": {
            "tags": []
          }
        }
      ]
    },
    {
      "cell_type": "code",
      "metadata": {
        "id": "Yr0xnyBFFfjC",
        "colab_type": "code",
        "outputId": "c10a2ff6-bc26-46c1-a33b-d99c17b8ccd4",
        "colab": {
          "base_uri": "https://localhost:8080/",
          "height": 493
        }
      },
      "source": [
        "df.info()"
      ],
      "execution_count": 0,
      "outputs": [
        {
          "output_type": "stream",
          "text": [
            "<class 'pandas.core.frame.DataFrame'>\n",
            "Int64Index: 14688889 entries, 0 to 15101771\n",
            "Data columns (total 23 columns):\n",
            "medallion            object\n",
            "hack_license         object\n",
            "vendor_id            object\n",
            "rate_code            int64\n",
            "pickup_datetime      datetime64[ns]\n",
            "dropoff_datetime     object\n",
            "passenger_count      int64\n",
            "trip_time_in_secs    int64\n",
            "trip_distance        float64\n",
            "pickup_longitude     float64\n",
            "pickup_latitude      float64\n",
            "dropoff_longitude    float64\n",
            "dropoff_latitude     float64\n",
            "payment_type         object\n",
            "fare_amount          float64\n",
            "surcharge            float64\n",
            "mta_tax              float64\n",
            "tip_amount           float64\n",
            "tolls_amount         float64\n",
            "total_amount         float64\n",
            "day                  int64\n",
            "hour                 int64\n",
            "dayofweek            int64\n",
            "dtypes: datetime64[ns](1), float64(11), int64(6), object(5)\n",
            "memory usage: 2.6+ GB\n"
          ],
          "name": "stdout"
        }
      ]
    },
    {
      "cell_type": "markdown",
      "metadata": {
        "id": "qZaYZE7xGLq5",
        "colab_type": "text"
      },
      "source": [
        "## Basic Questions Analysis"
      ]
    },
    {
      "cell_type": "markdown",
      "metadata": {
        "id": "JM_nisEwIH4r",
        "colab_type": "text"
      },
      "source": [
        "#### Question1 : What is the distribution of number of passengers per trip?\n"
      ]
    },
    {
      "cell_type": "markdown",
      "metadata": {
        "id": "gS9Jv_RBIOTV",
        "colab_type": "text"
      },
      "source": [
        "##### From the numbers generated it is quite clear that maximum number of rides are single passenger rides followed by 2 passenger rides. To get a clear understanding on distribution please check out 'passenger_count.png' graph or 'Passenger' sheet in TaxiDataAnalysis file. *"
      ]
    },
    {
      "cell_type": "code",
      "metadata": {
        "id": "IFMvuA73KfZ7",
        "colab_type": "code",
        "colab": {}
      },
      "source": [
        "from google.colab import files\n",
        "plot1 = sns.countplot(x=\"passenger_count\", data=df)\n",
        "df['passenger_count'].value_counts()\n",
        "\n",
        "plt.savefig(\"passenger_count.png\")\n",
        "#files.download(\"passenger_count.png\") \n",
        "print((df.groupby('passenger_count').count())/ df.count()*100)"
      ],
      "execution_count": 0,
      "outputs": []
    },
    {
      "cell_type": "code",
      "metadata": {
        "id": "1r01EUT75T3x",
        "colab_type": "code",
        "outputId": "64464383-5040-4aff-9577-fdaa3bcfb416",
        "colab": {
          "base_uri": "https://localhost:8080/",
          "height": 102
        }
      },
      "source": [
        "print(\"Median:\",df.passenger_count.median())\n",
        "print(\"Mean:\",df.passenger_count.mean())\n",
        "print(\"Max passenger count:\",df.passenger_count.max())\n",
        "print(\"Min passenger count:\",df.passenger_count.min())\n",
        "print(\"Standard Deviation:\",df.passenger_count.std())"
      ],
      "execution_count": 0,
      "outputs": [
        {
          "output_type": "stream",
          "text": [
            "Median: 1.0\n",
            "Mean: 1.7118393365216389\n",
            "Max passenger count: 9\n",
            "Min passenger count: 0\n",
            "Standard Deviation: 1.3880806334266609\n"
          ],
          "name": "stdout"
        }
      ]
    },
    {
      "cell_type": "code",
      "metadata": {
        "id": "hIxwQtmBWuQ7",
        "colab_type": "code",
        "outputId": "dba0f302-f8a2-4997-b18e-4bfa3dc66903",
        "colab": {
          "base_uri": "https://localhost:8080/",
          "height": 297
        }
      },
      "source": [
        "# Calculating the percentage share\n",
        "pass_df = df['passenger_count'].value_counts()\n",
        "pass_df = pass_df.reset_index()\n",
        "pass_df.columns = ['passenger_count', 'frequency']\n",
        "total_count = pass_df['frequency'].sum()\n",
        "pass_df['percentage_share'] = round((pass_df['frequency']*100)/total_count,2)\n",
        "pass_df"
      ],
      "execution_count": 0,
      "outputs": [
        {
          "output_type": "execute_result",
          "data": {
            "text/html": [
              "<div>\n",
              "<style scoped>\n",
              "    .dataframe tbody tr th:only-of-type {\n",
              "        vertical-align: middle;\n",
              "    }\n",
              "\n",
              "    .dataframe tbody tr th {\n",
              "        vertical-align: top;\n",
              "    }\n",
              "\n",
              "    .dataframe thead th {\n",
              "        text-align: right;\n",
              "    }\n",
              "</style>\n",
              "<table border=\"1\" class=\"dataframe\">\n",
              "  <thead>\n",
              "    <tr style=\"text-align: right;\">\n",
              "      <th></th>\n",
              "      <th>passenger_count</th>\n",
              "      <th>frequency</th>\n",
              "      <th>percentage_share</th>\n",
              "    </tr>\n",
              "  </thead>\n",
              "  <tbody>\n",
              "    <tr>\n",
              "      <th>0</th>\n",
              "      <td>1</td>\n",
              "      <td>10401506</td>\n",
              "      <td>70.81</td>\n",
              "    </tr>\n",
              "    <tr>\n",
              "      <th>1</th>\n",
              "      <td>2</td>\n",
              "      <td>1936681</td>\n",
              "      <td>13.18</td>\n",
              "    </tr>\n",
              "    <tr>\n",
              "      <th>2</th>\n",
              "      <td>5</td>\n",
              "      <td>870638</td>\n",
              "      <td>5.93</td>\n",
              "    </tr>\n",
              "    <tr>\n",
              "      <th>3</th>\n",
              "      <td>6</td>\n",
              "      <td>595595</td>\n",
              "      <td>4.05</td>\n",
              "    </tr>\n",
              "    <tr>\n",
              "      <th>4</th>\n",
              "      <td>3</td>\n",
              "      <td>594299</td>\n",
              "      <td>4.05</td>\n",
              "    </tr>\n",
              "    <tr>\n",
              "      <th>5</th>\n",
              "      <td>4</td>\n",
              "      <td>290121</td>\n",
              "      <td>1.98</td>\n",
              "    </tr>\n",
              "    <tr>\n",
              "      <th>6</th>\n",
              "      <td>0</td>\n",
              "      <td>48</td>\n",
              "      <td>0.00</td>\n",
              "    </tr>\n",
              "    <tr>\n",
              "      <th>7</th>\n",
              "      <td>9</td>\n",
              "      <td>1</td>\n",
              "      <td>0.00</td>\n",
              "    </tr>\n",
              "  </tbody>\n",
              "</table>\n",
              "</div>"
            ],
            "text/plain": [
              "   passenger_count  frequency  percentage_share\n",
              "0                1   10401506             70.81\n",
              "1                2    1936681             13.18\n",
              "2                5     870638              5.93\n",
              "3                6     595595              4.05\n",
              "4                3     594299              4.05\n",
              "5                4     290121              1.98\n",
              "6                0         48              0.00\n",
              "7                9          1              0.00"
            ]
          },
          "metadata": {
            "tags": []
          },
          "execution_count": 59
        }
      ]
    },
    {
      "cell_type": "markdown",
      "metadata": {
        "id": "pEuUOKIVILLU",
        "colab_type": "text"
      },
      "source": [
        "#### Question2 : What is the distribution of payment_type?"
      ]
    },
    {
      "cell_type": "markdown",
      "metadata": {
        "id": "oyppWYz9L-gc",
        "colab_type": "text"
      },
      "source": [
        "* From the distribution we can see the 'CRD' and 'CSH' are the two dominant payment types used for ride.*"
      ]
    },
    {
      "cell_type": "code",
      "metadata": {
        "id": "CVuonY8UGySi",
        "colab_type": "code",
        "outputId": "6ce9bb30-1e13-45ae-dadf-bffc8aa29e2c",
        "colab": {
          "base_uri": "https://localhost:8080/",
          "height": 283
        }
      },
      "source": [
        "plt.figure()\n",
        "plot2 = sns.countplot(x=\"payment_type\", data=df)\n",
        "plt.savefig('payment_type.png' ,bbox_inches = \"tight\")"
      ],
      "execution_count": 0,
      "outputs": [
        {
          "output_type": "display_data",
          "data": {
            "image/png": "[encoded data removed]",
            "text/plain": [
              "<Figure size 432x288 with 1 Axes>"
            ]
          },
          "metadata": {
            "tags": []
          }
        }
      ]
    },
    {
      "cell_type": "code",
      "metadata": {
        "id": "-bQlBb3WW5uE",
        "colab_type": "code",
        "outputId": "0ee4024f-418a-44f7-dfcb-d21ac15498bf",
        "colab": {
          "base_uri": "https://localhost:8080/",
          "height": 204
        }
      },
      "source": [
        "# Calculating the percentage share\n",
        "pay_df = df['payment_type'].value_counts()\n",
        "pay_df = pay_df.reset_index()\n",
        "pay_df.columns = [\"payment_type\", \"frequency\"]\n",
        "total_count = pay_df['frequency'].sum()\n",
        "pay_df['percentage_share'] = round((pay_df['frequency']*100)/total_count,2)\n",
        "pay_df.head()"
      ],
      "execution_count": 0,
      "outputs": [
        {
          "output_type": "execute_result",
          "data": {
            "text/html": [
              "<div>\n",
              "<style scoped>\n",
              "    .dataframe tbody tr th:only-of-type {\n",
              "        vertical-align: middle;\n",
              "    }\n",
              "\n",
              "    .dataframe tbody tr th {\n",
              "        vertical-align: top;\n",
              "    }\n",
              "\n",
              "    .dataframe thead th {\n",
              "        text-align: right;\n",
              "    }\n",
              "</style>\n",
              "<table border=\"1\" class=\"dataframe\">\n",
              "  <thead>\n",
              "    <tr style=\"text-align: right;\">\n",
              "      <th></th>\n",
              "      <th>payment_type</th>\n",
              "      <th>frequency</th>\n",
              "      <th>percentage_share</th>\n",
              "    </tr>\n",
              "  </thead>\n",
              "  <tbody>\n",
              "    <tr>\n",
              "      <th>0</th>\n",
              "      <td>CRD</td>\n",
              "      <td>7894236</td>\n",
              "      <td>53.74</td>\n",
              "    </tr>\n",
              "    <tr>\n",
              "      <th>1</th>\n",
              "      <td>CSH</td>\n",
              "      <td>6749375</td>\n",
              "      <td>45.95</td>\n",
              "    </tr>\n",
              "    <tr>\n",
              "      <th>2</th>\n",
              "      <td>NOC</td>\n",
              "      <td>29986</td>\n",
              "      <td>0.20</td>\n",
              "    </tr>\n",
              "    <tr>\n",
              "      <th>3</th>\n",
              "      <td>DIS</td>\n",
              "      <td>10712</td>\n",
              "      <td>0.07</td>\n",
              "    </tr>\n",
              "    <tr>\n",
              "      <th>4</th>\n",
              "      <td>UNK</td>\n",
              "      <td>4580</td>\n",
              "      <td>0.03</td>\n",
              "    </tr>\n",
              "  </tbody>\n",
              "</table>\n",
              "</div>"
            ],
            "text/plain": [
              "  payment_type  frequency  percentage_share\n",
              "0          CRD    7894236             53.74\n",
              "1          CSH    6749375             45.95\n",
              "2          NOC      29986              0.20\n",
              "3          DIS      10712              0.07\n",
              "4          UNK       4580              0.03"
            ]
          },
          "metadata": {
            "tags": []
          },
          "execution_count": 61
        }
      ]
    },
    {
      "cell_type": "markdown",
      "metadata": {
        "id": "7OUHWLRLMiCx",
        "colab_type": "text"
      },
      "source": [
        " #### Question3 : What is the distribution of fare amount?"
      ]
    },
    {
      "cell_type": "code",
      "metadata": {
        "id": "54-dmR30Mhkf",
        "colab_type": "code",
        "outputId": "1620ceb0-7d2d-4201-aee9-41b48b674f3f",
        "colab": {
          "base_uri": "https://localhost:8080/",
          "height": 301
        }
      },
      "source": [
        "plt.figure()\n",
        "plot3 = sns.distplot(df['fare_amount'])\n",
        "plot4 = sns.distplot(df['total_amount'])\n",
        "plt.savefig('fare_amount.png' , bbox_inches = \"tight\")\n",
        "plt.legend()\n",
        "plt.show()\n"
      ],
      "execution_count": 0,
      "outputs": [
        {
          "output_type": "stream",
          "text": [
            "No handles with labels found to put in legend.\n"
          ],
          "name": "stderr"
        },
        {
          "output_type": "display_data",
          "data": {
            "image/png": "[encoded data removed]",
            "text/plain": [
              "<Figure size 432x288 with 1 Axes>"
            ]
          },
          "metadata": {
            "tags": []
          }
        }
      ]
    },
    {
      "cell_type": "code",
      "metadata": {
        "id": "WZxf9XA76cTP",
        "colab_type": "code",
        "outputId": "db66b00a-6329-4c44-c3db-d2f786f1a308",
        "colab": {
          "base_uri": "https://localhost:8080/",
          "height": 105
        }
      },
      "source": [
        "print(\"Median:\",df.fare_amount.median())\n",
        "print(\"Mean:\",df.fare_amount.mean())\n",
        "print(\"Max fare amount:\",df.fare_amount.max())\n",
        "print(\"Min fare amount:\",df.fare_amount.min())\n",
        "print(\"Standard Deviation:\",df.fare_amount.std())"
      ],
      "execution_count": 0,
      "outputs": [
        {
          "output_type": "stream",
          "text": [
            "Median: 9.5\n",
            "Mean: 12.256092763720925\n",
            "Max fare amount: 500.0\n",
            "Min fare amount: 2.5\n",
            "Standard Deviation: 9.741178012382663\n"
          ],
          "name": "stdout"
        }
      ]
    },
    {
      "cell_type": "code",
      "metadata": {
        "id": "vhAi3CdtXK_e",
        "colab_type": "code",
        "outputId": "629e2b18-a3a3-4b3f-d479-aae098c933d8",
        "colab": {
          "base_uri": "https://localhost:8080/",
          "height": 197
        }
      },
      "source": [
        "## Creating bins and calculating the percentage share\n",
        "bins = [0, 10, 20, 30, 50, 500, 600]\n",
        "labels = ['less than 10','less than 20', 'less than 30', 'less than 50', 'less than 500', 'less than 600']\n",
        "df[\"fare_amount_bins\"] = pd.cut(df['fare_amount'], bins=bins, labels=labels)\n",
        "fareamount = df['fare_amount_bins'].value_counts()\n",
        "fareamount = fareamount.reset_index()\n",
        "fareamount.columns = [\"fare_amount_bins\",\"frequency\"]\n",
        "total_count = fareamount['frequency'].sum()\n",
        "\n",
        "fareamount['percentage_share'] = round((fareamount['frequency']*100)/total_count,2)\n",
        "\n",
        "fareamount.head()"
      ],
      "execution_count": 0,
      "outputs": [
        {
          "output_type": "execute_result",
          "data": {
            "text/html": [
              "<div>\n",
              "<style scoped>\n",
              "    .dataframe tbody tr th:only-of-type {\n",
              "        vertical-align: middle;\n",
              "    }\n",
              "\n",
              "    .dataframe tbody tr th {\n",
              "        vertical-align: top;\n",
              "    }\n",
              "\n",
              "    .dataframe thead th {\n",
              "        text-align: right;\n",
              "    }\n",
              "</style>\n",
              "<table border=\"1\" class=\"dataframe\">\n",
              "  <thead>\n",
              "    <tr style=\"text-align: right;\">\n",
              "      <th></th>\n",
              "      <th>fare_amount_bins</th>\n",
              "      <th>frequency</th>\n",
              "      <th>percentage_share</th>\n",
              "    </tr>\n",
              "  </thead>\n",
              "  <tbody>\n",
              "    <tr>\n",
              "      <th>0</th>\n",
              "      <td>less than 10</td>\n",
              "      <td>8355120</td>\n",
              "      <td>56.88</td>\n",
              "    </tr>\n",
              "    <tr>\n",
              "      <th>1</th>\n",
              "      <td>less than 20</td>\n",
              "      <td>4541234</td>\n",
              "      <td>30.92</td>\n",
              "    </tr>\n",
              "    <tr>\n",
              "      <th>2</th>\n",
              "      <td>less than 30</td>\n",
              "      <td>993944</td>\n",
              "      <td>6.77</td>\n",
              "    </tr>\n",
              "    <tr>\n",
              "      <th>3</th>\n",
              "      <td>less than 50</td>\n",
              "      <td>484314</td>\n",
              "      <td>3.30</td>\n",
              "    </tr>\n",
              "    <tr>\n",
              "      <th>4</th>\n",
              "      <td>less than 500</td>\n",
              "      <td>314277</td>\n",
              "      <td>2.14</td>\n",
              "    </tr>\n",
              "  </tbody>\n",
              "</table>\n",
              "</div>"
            ],
            "text/plain": [
              "  fare_amount_bins  frequency  percentage_share\n",
              "0     less than 10    8355120             56.88\n",
              "1     less than 20    4541234             30.92\n",
              "2     less than 30     993944              6.77\n",
              "3     less than 50     484314              3.30\n",
              "4    less than 500     314277              2.14"
            ]
          },
          "metadata": {
            "tags": []
          },
          "execution_count": 64
        }
      ]
    },
    {
      "cell_type": "markdown",
      "metadata": {
        "id": "rWwrT7PdUq5b",
        "colab_type": "text"
      },
      "source": [
        "#### Question4: What is the distribution of tip amount?\n"
      ]
    },
    {
      "cell_type": "markdown",
      "metadata": {
        "id": "LnZvSRUOWr5o",
        "colab_type": "text"
      },
      "source": [
        "##### From the distibution we can see that tip amount for ride is highly concentrated over the left size of graph and only limited number over rides are high tip amount rides. 95% of the tips are undere $5 *"
      ]
    },
    {
      "cell_type": "code",
      "metadata": {
        "id": "97YlhiZIPSTR",
        "colab_type": "code",
        "colab": {}
      },
      "source": [
        "tipamount = df['tip_amount'].value_counts()\n",
        "#tipamount.to_csv('./temp/tipamount.csv')"
      ],
      "execution_count": 0,
      "outputs": []
    },
    {
      "cell_type": "code",
      "metadata": {
        "id": "-qCrVgvbP0qd",
        "colab_type": "code",
        "outputId": "c8ddbc77-dcbb-40bb-c5d7-7fbc2b6b1654",
        "colab": {
          "base_uri": "https://localhost:8080/",
          "height": 51
        }
      },
      "source": [
        "## 50% of the data has no tip amount\n",
        "df5 = df[df['tip_amount'] == 0]\n",
        "print(df5.shape)\n",
        "print(df.shape)\n"
      ],
      "execution_count": 0,
      "outputs": [
        {
          "output_type": "stream",
          "text": [
            "(7010404, 23)\n",
            "(14688889, 23)\n"
          ],
          "name": "stdout"
        }
      ]
    },
    {
      "cell_type": "code",
      "metadata": {
        "id": "NrBzXZ-HPf9k",
        "colab_type": "code",
        "outputId": "67d656f7-c9a5-40db-dd96-f948b68f819c",
        "colab": {
          "base_uri": "https://localhost:8080/",
          "height": 284
        }
      },
      "source": [
        "plt.figure()\n",
        "plot4 = sns.distplot(df['tip_amount'])\n",
        "#plt.savefig('./Graphs/tip_amount.png' , bbox_inches = \"tight\")"
      ],
      "execution_count": 0,
      "outputs": [
        {
          "output_type": "display_data",
          "data": {
            "image/png": "[encoded data removed]",
            "text/plain": [
              "<Figure size 432x288 with 1 Axes>"
            ]
          },
          "metadata": {
            "tags": []
          }
        }
      ]
    },
    {
      "cell_type": "code",
      "metadata": {
        "id": "70LaDxMD7juk",
        "colab_type": "code",
        "outputId": "c1794d9e-ca17-43d9-e454-97020181dd6d",
        "colab": {
          "base_uri": "https://localhost:8080/",
          "height": 105
        }
      },
      "source": [
        "print(\"Median:\",df.tip_amount.median())\n",
        "print(\"Mean:\",df.tip_amount.mean())\n",
        "print(\"Max tip amount:\",df.tip_amount.max())\n",
        "print(\"Min tip amount:\",df.tip_amount.min())\n",
        "print(\"Standard Deviation:\",df.tip_amount.std())"
      ],
      "execution_count": 0,
      "outputs": [
        {
          "output_type": "stream",
          "text": [
            "Median: 1.0\n",
            "Mean: 1.3356677560796535\n",
            "Max tip amount: 150.0\n",
            "Min tip amount: 0.0\n",
            "Standard Deviation: 2.0328299229073488\n"
          ],
          "name": "stdout"
        }
      ]
    },
    {
      "cell_type": "code",
      "metadata": {
        "id": "gwx6OfItzjt-",
        "colab_type": "code",
        "outputId": "bb434f07-6ea0-41c3-ed47-2988cc09b405",
        "colab": {
          "base_uri": "https://localhost:8080/",
          "height": 301
        }
      },
      "source": [
        "df.head()"
      ],
      "execution_count": 0,
      "outputs": [
        {
          "output_type": "execute_result",
          "data": {
            "text/html": [
              "<div>\n",
              "<style scoped>\n",
              "    .dataframe tbody tr th:only-of-type {\n",
              "        vertical-align: middle;\n",
              "    }\n",
              "\n",
              "    .dataframe tbody tr th {\n",
              "        vertical-align: top;\n",
              "    }\n",
              "\n",
              "    .dataframe thead th {\n",
              "        text-align: right;\n",
              "    }\n",
              "</style>\n",
              "<table border=\"1\" class=\"dataframe\">\n",
              "  <thead>\n",
              "    <tr style=\"text-align: right;\">\n",
              "      <th></th>\n",
              "      <th>medallion</th>\n",
              "      <th>hack_license</th>\n",
              "      <th>vendor_id</th>\n",
              "      <th>rate_code</th>\n",
              "      <th>pickup_datetime</th>\n",
              "      <th>dropoff_datetime</th>\n",
              "      <th>passenger_count</th>\n",
              "      <th>trip_time_in_secs</th>\n",
              "      <th>trip_distance</th>\n",
              "      <th>pickup_longitude</th>\n",
              "      <th>pickup_latitude</th>\n",
              "      <th>dropoff_longitude</th>\n",
              "      <th>dropoff_latitude</th>\n",
              "      <th>payment_type</th>\n",
              "      <th>fare_amount</th>\n",
              "      <th>surcharge</th>\n",
              "      <th>mta_tax</th>\n",
              "      <th>tip_amount</th>\n",
              "      <th>tolls_amount</th>\n",
              "      <th>total_amount</th>\n",
              "      <th>day</th>\n",
              "      <th>hour</th>\n",
              "      <th>dayofweek</th>\n",
              "      <th>fare_amount_bins</th>\n",
              "    </tr>\n",
              "  </thead>\n",
              "  <tbody>\n",
              "    <tr>\n",
              "      <th>0</th>\n",
              "      <td>91F6EB84975BBC867E32CB113C7C2CD5</td>\n",
              "      <td>AD8751110E6292079EB10EB9481FE1A6</td>\n",
              "      <td>CMT</td>\n",
              "      <td>1</td>\n",
              "      <td>2013-04-04 18:47:45</td>\n",
              "      <td>2013-04-04 19:00:25</td>\n",
              "      <td>1</td>\n",
              "      <td>759</td>\n",
              "      <td>2.5</td>\n",
              "      <td>-73.957855</td>\n",
              "      <td>40.765320</td>\n",
              "      <td>-73.976273</td>\n",
              "      <td>40.785648</td>\n",
              "      <td>CRD</td>\n",
              "      <td>11.0</td>\n",
              "      <td>1.0</td>\n",
              "      <td>0.5</td>\n",
              "      <td>2.50</td>\n",
              "      <td>0.0</td>\n",
              "      <td>15.00</td>\n",
              "      <td>4</td>\n",
              "      <td>18</td>\n",
              "      <td>3</td>\n",
              "      <td>less than 20</td>\n",
              "    </tr>\n",
              "    <tr>\n",
              "      <th>2</th>\n",
              "      <td>C1B9DA774DC2BBC6DE27CE994E7F44A0</td>\n",
              "      <td>E1B595FD55E4C82C1E213EB17438107A</td>\n",
              "      <td>CMT</td>\n",
              "      <td>1</td>\n",
              "      <td>2013-04-04 17:59:50</td>\n",
              "      <td>2013-04-04 18:21:48</td>\n",
              "      <td>1</td>\n",
              "      <td>1318</td>\n",
              "      <td>3.6</td>\n",
              "      <td>-73.982880</td>\n",
              "      <td>40.754990</td>\n",
              "      <td>-74.009186</td>\n",
              "      <td>40.715374</td>\n",
              "      <td>CRD</td>\n",
              "      <td>16.5</td>\n",
              "      <td>1.0</td>\n",
              "      <td>0.5</td>\n",
              "      <td>3.60</td>\n",
              "      <td>0.0</td>\n",
              "      <td>21.60</td>\n",
              "      <td>4</td>\n",
              "      <td>17</td>\n",
              "      <td>3</td>\n",
              "      <td>less than 20</td>\n",
              "    </tr>\n",
              "    <tr>\n",
              "      <th>3</th>\n",
              "      <td>9BA84250355AB3FC031C9252D395BF8A</td>\n",
              "      <td>16BB0D96A0DCC853AEC7F55C8D6C71E0</td>\n",
              "      <td>CMT</td>\n",
              "      <td>1</td>\n",
              "      <td>2013-04-04 18:12:01</td>\n",
              "      <td>2013-04-04 18:25:24</td>\n",
              "      <td>1</td>\n",
              "      <td>799</td>\n",
              "      <td>1.9</td>\n",
              "      <td>-73.978119</td>\n",
              "      <td>40.763451</td>\n",
              "      <td>-73.955666</td>\n",
              "      <td>40.776642</td>\n",
              "      <td>CRD</td>\n",
              "      <td>10.0</td>\n",
              "      <td>1.0</td>\n",
              "      <td>0.5</td>\n",
              "      <td>3.45</td>\n",
              "      <td>0.0</td>\n",
              "      <td>14.95</td>\n",
              "      <td>4</td>\n",
              "      <td>18</td>\n",
              "      <td>3</td>\n",
              "      <td>less than 10</td>\n",
              "    </tr>\n",
              "    <tr>\n",
              "      <th>4</th>\n",
              "      <td>205A696DF62AD03C88DA8C5EC5248639</td>\n",
              "      <td>579C41EA5EC846F8B641A42F9EE3E855</td>\n",
              "      <td>CMT</td>\n",
              "      <td>1</td>\n",
              "      <td>2013-04-04 20:12:57</td>\n",
              "      <td>2013-04-04 20:29:55</td>\n",
              "      <td>1</td>\n",
              "      <td>1017</td>\n",
              "      <td>3.6</td>\n",
              "      <td>-74.006371</td>\n",
              "      <td>40.744755</td>\n",
              "      <td>-73.961662</td>\n",
              "      <td>40.761082</td>\n",
              "      <td>CRD</td>\n",
              "      <td>15.0</td>\n",
              "      <td>0.5</td>\n",
              "      <td>0.5</td>\n",
              "      <td>3.20</td>\n",
              "      <td>0.0</td>\n",
              "      <td>19.20</td>\n",
              "      <td>4</td>\n",
              "      <td>20</td>\n",
              "      <td>3</td>\n",
              "      <td>less than 20</td>\n",
              "    </tr>\n",
              "    <tr>\n",
              "      <th>5</th>\n",
              "      <td>EE75E5927D00739AC342810C336A825E</td>\n",
              "      <td>1B4E92431F9DA4D49874EC76E769E874</td>\n",
              "      <td>CMT</td>\n",
              "      <td>1</td>\n",
              "      <td>2013-04-05 02:48:11</td>\n",
              "      <td>2013-04-05 02:51:21</td>\n",
              "      <td>2</td>\n",
              "      <td>189</td>\n",
              "      <td>0.7</td>\n",
              "      <td>-73.985191</td>\n",
              "      <td>40.754932</td>\n",
              "      <td>-73.990776</td>\n",
              "      <td>40.747997</td>\n",
              "      <td>CRD</td>\n",
              "      <td>4.5</td>\n",
              "      <td>0.5</td>\n",
              "      <td>0.5</td>\n",
              "      <td>1.10</td>\n",
              "      <td>0.0</td>\n",
              "      <td>6.60</td>\n",
              "      <td>5</td>\n",
              "      <td>2</td>\n",
              "      <td>4</td>\n",
              "      <td>less than 10</td>\n",
              "    </tr>\n",
              "  </tbody>\n",
              "</table>\n",
              "</div>"
            ],
            "text/plain": [
              "                          medallion  ... fare_amount_bins\n",
              "0  91F6EB84975BBC867E32CB113C7C2CD5  ...     less than 20\n",
              "2  C1B9DA774DC2BBC6DE27CE994E7F44A0  ...     less than 20\n",
              "3  9BA84250355AB3FC031C9252D395BF8A  ...     less than 10\n",
              "4  205A696DF62AD03C88DA8C5EC5248639  ...     less than 20\n",
              "5  EE75E5927D00739AC342810C336A825E  ...     less than 10\n",
              "\n",
              "[5 rows x 24 columns]"
            ]
          },
          "metadata": {
            "tags": []
          },
          "execution_count": 68
        }
      ]
    },
    {
      "cell_type": "code",
      "metadata": {
        "id": "Npo1rCDxgSdE",
        "colab_type": "code",
        "outputId": "7bbe6351-dc65-4ed2-fa59-7f4a5aca2ec0",
        "colab": {
          "base_uri": "https://localhost:8080/",
          "height": 458
        }
      },
      "source": [
        "sns.jointplot('tip_amount','total_amount',data=df[:10000],s=10,alpha=0.5,color='blue')\n"
      ],
      "execution_count": 0,
      "outputs": [
        {
          "output_type": "execute_result",
          "data": {
            "text/plain": [
              "<seaborn.axisgrid.JointGrid at 0x7f049291cc88>"
            ]
          },
          "metadata": {
            "tags": []
          },
          "execution_count": 69
        },
        {
          "output_type": "display_data",
          "data": {
            "image/png": "[encoded data removed]",
            "text/plain": [
              "<Figure size 432x432 with 3 Axes>"
            ]
          },
          "metadata": {
            "tags": []
          }
        }
      ]
    },
    {
      "cell_type": "code",
      "metadata": {
        "id": "7U7IXY8wXii3",
        "colab_type": "code",
        "outputId": "c6d845ee-53fc-4763-c32f-f91ed5336cd0",
        "colab": {
          "base_uri": "https://localhost:8080/",
          "height": 197
        }
      },
      "source": [
        "## Creating bins and calculating the percentage share\n",
        "bins = [-5, 0,5, 10, 20, 30, 200]\n",
        "labels = ['less than 0','less than 5','less than 10', 'less than 20', 'less than 30', 'less than 200']\n",
        "df[\"tip_amount_bins\"] = pd.cut(df['tip_amount'], bins=bins, labels=labels)\n",
        "tipamount = df['tip_amount_bins'].value_counts()\n",
        "tipamount = tipamount.reset_index()\n",
        "tipamount.columns = [\"tip_amount_bins\",\"frequency\"]\n",
        "total_count = tipamount['frequency'].sum()\n",
        "tipamount['percentage_share'] = round((tipamount['frequency']*100)/total_count,2)\n",
        "tipamount.head()"
      ],
      "execution_count": 0,
      "outputs": [
        {
          "output_type": "execute_result",
          "data": {
            "text/html": [
              "<div>\n",
              "<style scoped>\n",
              "    .dataframe tbody tr th:only-of-type {\n",
              "        vertical-align: middle;\n",
              "    }\n",
              "\n",
              "    .dataframe tbody tr th {\n",
              "        vertical-align: top;\n",
              "    }\n",
              "\n",
              "    .dataframe thead th {\n",
              "        text-align: right;\n",
              "    }\n",
              "</style>\n",
              "<table border=\"1\" class=\"dataframe\">\n",
              "  <thead>\n",
              "    <tr style=\"text-align: right;\">\n",
              "      <th></th>\n",
              "      <th>tip_amount_bins</th>\n",
              "      <th>frequency</th>\n",
              "      <th>percentage_share</th>\n",
              "    </tr>\n",
              "  </thead>\n",
              "  <tbody>\n",
              "    <tr>\n",
              "      <th>0</th>\n",
              "      <td>less than 0</td>\n",
              "      <td>7010404</td>\n",
              "      <td>47.73</td>\n",
              "    </tr>\n",
              "    <tr>\n",
              "      <th>1</th>\n",
              "      <td>less than 5</td>\n",
              "      <td>7006502</td>\n",
              "      <td>47.70</td>\n",
              "    </tr>\n",
              "    <tr>\n",
              "      <th>2</th>\n",
              "      <td>less than 10</td>\n",
              "      <td>517927</td>\n",
              "      <td>3.53</td>\n",
              "    </tr>\n",
              "    <tr>\n",
              "      <th>3</th>\n",
              "      <td>less than 20</td>\n",
              "      <td>149901</td>\n",
              "      <td>1.02</td>\n",
              "    </tr>\n",
              "    <tr>\n",
              "      <th>4</th>\n",
              "      <td>less than 30</td>\n",
              "      <td>3285</td>\n",
              "      <td>0.02</td>\n",
              "    </tr>\n",
              "  </tbody>\n",
              "</table>\n",
              "</div>"
            ],
            "text/plain": [
              "  tip_amount_bins  frequency  percentage_share\n",
              "0     less than 0    7010404             47.73\n",
              "1     less than 5    7006502             47.70\n",
              "2    less than 10     517927              3.53\n",
              "3    less than 20     149901              1.02\n",
              "4    less than 30       3285              0.02"
            ]
          },
          "metadata": {
            "tags": []
          },
          "execution_count": 70
        }
      ]
    },
    {
      "cell_type": "code",
      "metadata": {
        "id": "xX4qfiUFU8IG",
        "colab_type": "code",
        "outputId": "fe5c2990-abc4-47f6-b62b-79b6fcbc482a",
        "colab": {
          "base_uri": "https://localhost:8080/",
          "height": 318
        }
      },
      "source": [
        "bins = [-5, 5, 10, 20, 30, 200]\n",
        "labels = ['less than 5','less than 10', 'less than 20', 'less than 30', 'less than 200']\n",
        "#df['fare_amount_binned'] = pd.cut(df['fare_amount'], bins)\n",
        "df['binned_tip'] = pd.cut(df['tip_amount'], bins=bins, labels=labels)\n",
        "print(df.head())\n",
        "df.head()\n",
        "\n",
        "print((df.groupby('binned_tip').count())/ df.count()*100)"
      ],
      "execution_count": 0,
      "outputs": [
        {
          "output_type": "stream",
          "text": [
            "                          medallion  ...   binned_tip\n",
            "0  91F6EB84975BBC867E32CB113C7C2CD5  ...  less than 5\n",
            "2  C1B9DA774DC2BBC6DE27CE994E7F44A0  ...  less than 5\n",
            "3  9BA84250355AB3FC031C9252D395BF8A  ...  less than 5\n",
            "4  205A696DF62AD03C88DA8C5EC5248639  ...  less than 5\n",
            "5  EE75E5927D00739AC342810C336A825E  ...  less than 5\n",
            "\n",
            "[5 rows x 26 columns]\n",
            "               binned_tip        day  ...  trip_time_in_secs  vendor_id\n",
            "binned_tip                            ...                              \n",
            "less than 5           NaN  95.425229  ...          95.425229  95.425229\n",
            "less than 10          NaN   3.525978  ...           3.525978   3.525978\n",
            "less than 20          NaN   1.020506  ...           1.020506   1.020506\n",
            "less than 30          NaN   0.022364  ...           0.022364   0.022364\n",
            "less than 200         NaN   0.005923  ...           0.005923   0.005923\n",
            "\n",
            "[5 rows x 26 columns]\n"
          ],
          "name": "stdout"
        }
      ]
    },
    {
      "cell_type": "markdown",
      "metadata": {
        "id": "bemywfboW0Un",
        "colab_type": "text"
      },
      "source": [
        "#### Question5: What is the distribution of total amount?"
      ]
    },
    {
      "cell_type": "markdown",
      "metadata": {
        "id": "1RP29FThajDO",
        "colab_type": "text"
      },
      "source": [
        "*\n",
        "As expected from the distribution of fare_amount and tip_amount the distibution of total_amount (fare_amount + tip_amount) is concentrated on left side of graph with only limited number of rides having high total_amount. To get the complete idea please checkout the 'total_amount.png' graph or check out 'Total Amount' sheet in TaxiDataAnalysis file \n",
        "*"
      ]
    },
    {
      "cell_type": "code",
      "metadata": {
        "id": "VjZteeaLVc1A",
        "colab_type": "code",
        "outputId": "1b2b4ecf-2987-4bee-ab3e-2770d60fd05f",
        "colab": {
          "base_uri": "https://localhost:8080/",
          "height": 300
        }
      },
      "source": [
        "## Sanity check : if total amount is equal to fare plus tip (and it does :) !  )\n",
        "\n",
        "plt.figure()\n",
        "df['total_amount_new'] = df['fare_amount'] + df['tip_amount']\n",
        "\n",
        "#plt.savefig('./Graphs/total_amount.png',bbox_inches = \"tight\")\n",
        "\n",
        "plt.figure(figsize=(8,8))\n",
        "\n",
        "plt.subplot(2,2,1)\n",
        "sns.distplot(df['total_amount_new'],kde=True)\n",
        "\n",
        "plt.subplot(2,2,2)\n",
        "sns.distplot(df['total_amount'],kde=True)"
      ],
      "execution_count": 0,
      "outputs": [
        {
          "output_type": "execute_result",
          "data": {
            "text/plain": [
              "<matplotlib.axes._subplots.AxesSubplot at 0x7f049273a710>"
            ]
          },
          "metadata": {
            "tags": []
          },
          "execution_count": 72
        },
        {
          "output_type": "display_data",
          "data": {
            "text/plain": [
              "<Figure size 432x288 with 0 Axes>"
            ]
          },
          "metadata": {
            "tags": []
          }
        },
        {
          "output_type": "display_data",
          "data": {
            "image/png": "[encoded data removed]",
            "text/plain": [
              "<Figure size 576x576 with 2 Axes>"
            ]
          },
          "metadata": {
            "tags": []
          }
        }
      ]
    },
    {
      "cell_type": "code",
      "metadata": {
        "id": "0OJSiS1x8CJZ",
        "colab_type": "code",
        "outputId": "42d5e75a-8492-46b4-d432-b7a326a7ada1",
        "colab": {
          "base_uri": "https://localhost:8080/",
          "height": 105
        }
      },
      "source": [
        "print(\"Median:\",df.total_amount.median())\n",
        "print(\"Mean:\",df.total_amount.mean())\n",
        "print(\"Max total amount:\",df.total_amount.max())\n",
        "print(\"Min total amount:\",df.total_amount.min())\n",
        "print(\"Standard Deviation:\",df.total_amount.std())"
      ],
      "execution_count": 0,
      "outputs": [
        {
          "output_type": "stream",
          "text": [
            "Median: 11.0\n",
            "Mean: 14.662780138216132\n",
            "Max total amount: 628.1\n",
            "Min total amount: 2.5\n",
            "Standard Deviation: 11.709174474586709\n"
          ],
          "name": "stdout"
        }
      ]
    },
    {
      "cell_type": "code",
      "metadata": {
        "id": "5XrUvEwpYUGW",
        "colab_type": "code",
        "outputId": "a4b2c09b-fbc4-4e47-b776-de83ccdd18ae",
        "colab": {
          "base_uri": "https://localhost:8080/",
          "height": 227
        }
      },
      "source": [
        "## Creating bins and calculating the percentage share\n",
        "bins = [-5, 20, 40, 60, 80, 100,  600]\n",
        "labels = ['less than 20','less than 40', 'less than 60', 'less than 80', 'less than 100', 'less than 600']\n",
        "df[\"total_amount_bins\"] = pd.cut(df['total_amount'], bins=bins, labels=labels)\n",
        "totalamount = df['total_amount_bins'].value_counts()\n",
        "totalamount = totalamount.reset_index()\n",
        "totalamount.columns = [\"total_amount_bins\",\"frequency\"]\n",
        "total_count = totalamount['frequency'].sum()\n",
        "totalamount['percentage_share'] = round((totalamount['frequency']*100)/total_count,2)\n",
        "totalamount"
      ],
      "execution_count": 0,
      "outputs": [
        {
          "output_type": "execute_result",
          "data": {
            "text/html": [
              "<div>\n",
              "<style scoped>\n",
              "    .dataframe tbody tr th:only-of-type {\n",
              "        vertical-align: middle;\n",
              "    }\n",
              "\n",
              "    .dataframe tbody tr th {\n",
              "        vertical-align: top;\n",
              "    }\n",
              "\n",
              "    .dataframe thead th {\n",
              "        text-align: right;\n",
              "    }\n",
              "</style>\n",
              "<table border=\"1\" class=\"dataframe\">\n",
              "  <thead>\n",
              "    <tr style=\"text-align: right;\">\n",
              "      <th></th>\n",
              "      <th>total_amount_bins</th>\n",
              "      <th>frequency</th>\n",
              "      <th>percentage_share</th>\n",
              "    </tr>\n",
              "  </thead>\n",
              "  <tbody>\n",
              "    <tr>\n",
              "      <th>0</th>\n",
              "      <td>less than 20</td>\n",
              "      <td>12262731</td>\n",
              "      <td>83.48</td>\n",
              "    </tr>\n",
              "    <tr>\n",
              "      <th>1</th>\n",
              "      <td>less than 40</td>\n",
              "      <td>1746221</td>\n",
              "      <td>11.89</td>\n",
              "    </tr>\n",
              "    <tr>\n",
              "      <th>2</th>\n",
              "      <td>less than 60</td>\n",
              "      <td>477382</td>\n",
              "      <td>3.25</td>\n",
              "    </tr>\n",
              "    <tr>\n",
              "      <th>3</th>\n",
              "      <td>less than 80</td>\n",
              "      <td>175701</td>\n",
              "      <td>1.20</td>\n",
              "    </tr>\n",
              "    <tr>\n",
              "      <th>4</th>\n",
              "      <td>less than 100</td>\n",
              "      <td>17370</td>\n",
              "      <td>0.12</td>\n",
              "    </tr>\n",
              "    <tr>\n",
              "      <th>5</th>\n",
              "      <td>less than 600</td>\n",
              "      <td>9483</td>\n",
              "      <td>0.06</td>\n",
              "    </tr>\n",
              "  </tbody>\n",
              "</table>\n",
              "</div>"
            ],
            "text/plain": [
              "  total_amount_bins  frequency  percentage_share\n",
              "0      less than 20   12262731             83.48\n",
              "1      less than 40    1746221             11.89\n",
              "2      less than 60     477382              3.25\n",
              "3      less than 80     175701              1.20\n",
              "4     less than 100      17370              0.12\n",
              "5     less than 600       9483              0.06"
            ]
          },
          "metadata": {
            "tags": []
          },
          "execution_count": 75
        }
      ]
    },
    {
      "cell_type": "markdown",
      "metadata": {
        "id": "dwmQdoEWbh0z",
        "colab_type": "text"
      },
      "source": [
        "#### Question 6:  What are top 5 busiest hours of the day?\n"
      ]
    },
    {
      "cell_type": "markdown",
      "metadata": {
        "id": "snYHkBDvbpQ6",
        "colab_type": "text"
      },
      "source": [
        "*\n",
        "The computaion is done on the basis of pickup time of ride. From the distribution it is evident that evening hours are most busiest hours of the day. \n",
        "18PM -22PM hours (30% of total trip volume) are the most busiest hours of the day\n",
        "*"
      ]
    },
    {
      "cell_type": "code",
      "metadata": {
        "id": "DksmyNkvX0Kx",
        "colab_type": "code",
        "outputId": "5700b918-086c-4dd7-d970-ee2ca7e4db72",
        "colab": {
          "base_uri": "https://localhost:8080/",
          "height": 284
        }
      },
      "source": [
        "df['pickup_datetime'] = pd.to_datetime(df['pickup_datetime'])\n",
        "df[\"pickup_hour\"] = df[\"pickup_datetime\"].dt.hour\n",
        "plt.figure()\n",
        "ax = sns.countplot(x=\"pickup_hour\", data=df)\n",
        "#plt.savefig('./Graphs/pickup_hour.png', bbox_inches = \"tight\")"
      ],
      "execution_count": 0,
      "outputs": [
        {
          "output_type": "display_data",
          "data": {
            "image/png": "[encoded data removed]",
            "text/plain": [
              "<Figure size 432x288 with 1 Axes>"
            ]
          },
          "metadata": {
            "tags": []
          }
        }
      ]
    },
    {
      "cell_type": "code",
      "metadata": {
        "id": "Uz2MGokLirRP",
        "colab_type": "code",
        "outputId": "49bc6940-4bd9-440e-d4af-f0a72077beef",
        "colab": {
          "base_uri": "https://localhost:8080/",
          "height": 767
        }
      },
      "source": [
        "# Calculating the percentage share\n",
        "busiesthour = df['pickup_hour'].value_counts()\n",
        "busiesthour = busiesthour.reset_index()\n",
        "total_count = busiesthour['pickup_hour'].sum()\n",
        "busiesthour['percentage_share'] = round((busiesthour['pickup_hour']*100)/total_count,2)\n",
        "busiesthour"
      ],
      "execution_count": 0,
      "outputs": [
        {
          "output_type": "execute_result",
          "data": {
            "text/html": [
              "<div>\n",
              "<style scoped>\n",
              "    .dataframe tbody tr th:only-of-type {\n",
              "        vertical-align: middle;\n",
              "    }\n",
              "\n",
              "    .dataframe tbody tr th {\n",
              "        vertical-align: top;\n",
              "    }\n",
              "\n",
              "    .dataframe thead th {\n",
              "        text-align: right;\n",
              "    }\n",
              "</style>\n",
              "<table border=\"1\" class=\"dataframe\">\n",
              "  <thead>\n",
              "    <tr style=\"text-align: right;\">\n",
              "      <th></th>\n",
              "      <th>index</th>\n",
              "      <th>pickup_hour</th>\n",
              "      <th>percentage_share</th>\n",
              "    </tr>\n",
              "  </thead>\n",
              "  <tbody>\n",
              "    <tr>\n",
              "      <th>0</th>\n",
              "      <td>19</td>\n",
              "      <td>925881</td>\n",
              "      <td>6.30</td>\n",
              "    </tr>\n",
              "    <tr>\n",
              "      <th>1</th>\n",
              "      <td>18</td>\n",
              "      <td>897909</td>\n",
              "      <td>6.11</td>\n",
              "    </tr>\n",
              "    <tr>\n",
              "      <th>2</th>\n",
              "      <td>20</td>\n",
              "      <td>893390</td>\n",
              "      <td>6.08</td>\n",
              "    </tr>\n",
              "    <tr>\n",
              "      <th>3</th>\n",
              "      <td>21</td>\n",
              "      <td>858768</td>\n",
              "      <td>5.85</td>\n",
              "    </tr>\n",
              "    <tr>\n",
              "      <th>4</th>\n",
              "      <td>22</td>\n",
              "      <td>830921</td>\n",
              "      <td>5.66</td>\n",
              "    </tr>\n",
              "    <tr>\n",
              "      <th>5</th>\n",
              "      <td>14</td>\n",
              "      <td>734275</td>\n",
              "      <td>5.00</td>\n",
              "    </tr>\n",
              "    <tr>\n",
              "      <th>6</th>\n",
              "      <td>23</td>\n",
              "      <td>723774</td>\n",
              "      <td>4.93</td>\n",
              "    </tr>\n",
              "    <tr>\n",
              "      <th>7</th>\n",
              "      <td>17</td>\n",
              "      <td>718894</td>\n",
              "      <td>4.89</td>\n",
              "    </tr>\n",
              "    <tr>\n",
              "      <th>8</th>\n",
              "      <td>12</td>\n",
              "      <td>716459</td>\n",
              "      <td>4.88</td>\n",
              "    </tr>\n",
              "    <tr>\n",
              "      <th>9</th>\n",
              "      <td>9</td>\n",
              "      <td>706414</td>\n",
              "      <td>4.81</td>\n",
              "    </tr>\n",
              "    <tr>\n",
              "      <th>10</th>\n",
              "      <td>13</td>\n",
              "      <td>703197</td>\n",
              "      <td>4.79</td>\n",
              "    </tr>\n",
              "    <tr>\n",
              "      <th>11</th>\n",
              "      <td>15</td>\n",
              "      <td>699453</td>\n",
              "      <td>4.76</td>\n",
              "    </tr>\n",
              "    <tr>\n",
              "      <th>12</th>\n",
              "      <td>8</td>\n",
              "      <td>692054</td>\n",
              "      <td>4.71</td>\n",
              "    </tr>\n",
              "    <tr>\n",
              "      <th>13</th>\n",
              "      <td>11</td>\n",
              "      <td>685626</td>\n",
              "      <td>4.67</td>\n",
              "    </tr>\n",
              "    <tr>\n",
              "      <th>14</th>\n",
              "      <td>10</td>\n",
              "      <td>671325</td>\n",
              "      <td>4.57</td>\n",
              "    </tr>\n",
              "    <tr>\n",
              "      <th>15</th>\n",
              "      <td>16</td>\n",
              "      <td>584728</td>\n",
              "      <td>3.98</td>\n",
              "    </tr>\n",
              "    <tr>\n",
              "      <th>16</th>\n",
              "      <td>7</td>\n",
              "      <td>566235</td>\n",
              "      <td>3.85</td>\n",
              "    </tr>\n",
              "    <tr>\n",
              "      <th>17</th>\n",
              "      <td>0</td>\n",
              "      <td>555301</td>\n",
              "      <td>3.78</td>\n",
              "    </tr>\n",
              "    <tr>\n",
              "      <th>18</th>\n",
              "      <td>1</td>\n",
              "      <td>400727</td>\n",
              "      <td>2.73</td>\n",
              "    </tr>\n",
              "    <tr>\n",
              "      <th>19</th>\n",
              "      <td>6</td>\n",
              "      <td>310340</td>\n",
              "      <td>2.11</td>\n",
              "    </tr>\n",
              "    <tr>\n",
              "      <th>20</th>\n",
              "      <td>2</td>\n",
              "      <td>299760</td>\n",
              "      <td>2.04</td>\n",
              "    </tr>\n",
              "    <tr>\n",
              "      <th>21</th>\n",
              "      <td>3</td>\n",
              "      <td>216642</td>\n",
              "      <td>1.47</td>\n",
              "    </tr>\n",
              "    <tr>\n",
              "      <th>22</th>\n",
              "      <td>4</td>\n",
              "      <td>157889</td>\n",
              "      <td>1.07</td>\n",
              "    </tr>\n",
              "    <tr>\n",
              "      <th>23</th>\n",
              "      <td>5</td>\n",
              "      <td>138927</td>\n",
              "      <td>0.95</td>\n",
              "    </tr>\n",
              "  </tbody>\n",
              "</table>\n",
              "</div>"
            ],
            "text/plain": [
              "    index  pickup_hour  percentage_share\n",
              "0      19       925881              6.30\n",
              "1      18       897909              6.11\n",
              "2      20       893390              6.08\n",
              "3      21       858768              5.85\n",
              "4      22       830921              5.66\n",
              "5      14       734275              5.00\n",
              "6      23       723774              4.93\n",
              "7      17       718894              4.89\n",
              "8      12       716459              4.88\n",
              "9       9       706414              4.81\n",
              "10     13       703197              4.79\n",
              "11     15       699453              4.76\n",
              "12      8       692054              4.71\n",
              "13     11       685626              4.67\n",
              "14     10       671325              4.57\n",
              "15     16       584728              3.98\n",
              "16      7       566235              3.85\n",
              "17      0       555301              3.78\n",
              "18      1       400727              2.73\n",
              "19      6       310340              2.11\n",
              "20      2       299760              2.04\n",
              "21      3       216642              1.47\n",
              "22      4       157889              1.07\n",
              "23      5       138927              0.95"
            ]
          },
          "metadata": {
            "tags": []
          },
          "execution_count": 78
        }
      ]
    },
    {
      "cell_type": "code",
      "metadata": {
        "id": "s0Xd2PkRjDYg",
        "colab_type": "code",
        "outputId": "a34686d4-1565-4206-f1d7-59caf28eff17",
        "colab": {
          "base_uri": "https://localhost:8080/",
          "height": 496
        }
      },
      "source": [
        "total_fare = df['total_amount'].sum()\n",
        "print(total_fare)\n",
        "share = (df.groupby(['pickup_hour'])['total_amount'].sum()/ (total_fare))*100\n",
        "print(share)"
      ],
      "execution_count": 0,
      "outputs": [
        {
          "output_type": "stream",
          "text": [
            "215379949.8800001\n",
            "pickup_hour\n",
            "0     3.984379\n",
            "1     2.816762\n",
            "2     2.085206\n",
            "3     1.543658\n",
            "4     1.282466\n",
            "5     1.267442\n",
            "6     2.153985\n",
            "7     3.644492\n",
            "8     4.435917\n",
            "9     4.527468\n",
            "10    4.301818\n",
            "11    4.463865\n",
            "12    4.682393\n",
            "13    4.796341\n",
            "14    5.116853\n",
            "15    4.943506\n",
            "16    4.299808\n",
            "17    5.096773\n",
            "18    6.069579\n",
            "19    6.035204\n",
            "20    5.857600\n",
            "21    5.757038\n",
            "22    5.702764\n",
            "23    5.134680\n",
            "Name: total_amount, dtype: float64\n"
          ],
          "name": "stdout"
        }
      ]
    },
    {
      "cell_type": "markdown",
      "metadata": {
        "id": "VEknTWBCgVee",
        "colab_type": "text"
      },
      "source": [
        "#### Question 7: What are the top 10 busiest locations of the city?\n"
      ]
    },
    {
      "cell_type": "markdown",
      "metadata": {
        "id": "znGyphuFgjVJ",
        "colab_type": "text"
      },
      "source": [
        "*\n",
        "Busiest locations are computed on the basis of pickup locations. Below are the longitude and latitude of top 10 busiest location of the city\n",
        "\n",
        "Since, the location variables are coordinates for longitude and latitude, the answer is the cordinates with hightest trip volume\n",
        "*"
      ]
    },
    {
      "cell_type": "code",
      "metadata": {
        "id": "WJ77wojHdcrQ",
        "colab_type": "code",
        "colab": {}
      },
      "source": [
        "df['pickup_longitude'] = round(df['pickup_longitude'], 3)\n",
        "df['pickup_latitude'] = round(df['pickup_latitude'], 3)\n",
        "df_loc = df[['pickup_longitude','pickup_latitude' ]]\n",
        "df_loc = df_loc.groupby(['pickup_longitude','pickup_latitude']).size().reset_index(name=\"Count\")"
      ],
      "execution_count": 0,
      "outputs": []
    },
    {
      "cell_type": "markdown",
      "metadata": {
        "id": "C4O9PydUmsrA",
        "colab_type": "text"
      },
      "source": [
        "*\n",
        "Specifically, below are the cordinates for busiest places\n",
        "*"
      ]
    },
    {
      "cell_type": "code",
      "metadata": {
        "id": "kx3UYdLugnnn",
        "colab_type": "code",
        "outputId": "1b345489-099b-4149-93ec-04f8cce0443a",
        "colab": {
          "base_uri": "https://localhost:8080/",
          "height": 347
        }
      },
      "source": [
        "df_loc = df_loc.sort_values('Count', ascending=False)\n",
        "df_loc.head(10)"
      ],
      "execution_count": 0,
      "outputs": [
        {
          "output_type": "execute_result",
          "data": {
            "text/html": [
              "<div>\n",
              "<style scoped>\n",
              "    .dataframe tbody tr th:only-of-type {\n",
              "        vertical-align: middle;\n",
              "    }\n",
              "\n",
              "    .dataframe tbody tr th {\n",
              "        vertical-align: top;\n",
              "    }\n",
              "\n",
              "    .dataframe thead th {\n",
              "        text-align: right;\n",
              "    }\n",
              "</style>\n",
              "<table border=\"1\" class=\"dataframe\">\n",
              "  <thead>\n",
              "    <tr style=\"text-align: right;\">\n",
              "      <th></th>\n",
              "      <th>pickup_longitude</th>\n",
              "      <th>pickup_latitude</th>\n",
              "      <th>Count</th>\n",
              "    </tr>\n",
              "  </thead>\n",
              "  <tbody>\n",
              "    <tr>\n",
              "      <th>6939</th>\n",
              "      <td>-73.994</td>\n",
              "      <td>40.751</td>\n",
              "      <td>64748</td>\n",
              "    </tr>\n",
              "    <tr>\n",
              "      <th>24436</th>\n",
              "      <td>-73.863</td>\n",
              "      <td>40.769</td>\n",
              "      <td>57230</td>\n",
              "    </tr>\n",
              "    <tr>\n",
              "      <th>7259</th>\n",
              "      <td>-73.992</td>\n",
              "      <td>40.750</td>\n",
              "      <td>56757</td>\n",
              "    </tr>\n",
              "    <tr>\n",
              "      <th>7416</th>\n",
              "      <td>-73.991</td>\n",
              "      <td>40.750</td>\n",
              "      <td>54224</td>\n",
              "    </tr>\n",
              "    <tr>\n",
              "      <th>23853</th>\n",
              "      <td>-73.871</td>\n",
              "      <td>40.774</td>\n",
              "      <td>51943</td>\n",
              "    </tr>\n",
              "    <tr>\n",
              "      <th>23701</th>\n",
              "      <td>-73.873</td>\n",
              "      <td>40.774</td>\n",
              "      <td>47744</td>\n",
              "    </tr>\n",
              "    <tr>\n",
              "      <th>7582</th>\n",
              "      <td>-73.990</td>\n",
              "      <td>40.757</td>\n",
              "      <td>38711</td>\n",
              "    </tr>\n",
              "    <tr>\n",
              "      <th>7422</th>\n",
              "      <td>-73.991</td>\n",
              "      <td>40.756</td>\n",
              "      <td>38079</td>\n",
              "    </tr>\n",
              "    <tr>\n",
              "      <th>9535</th>\n",
              "      <td>-73.978</td>\n",
              "      <td>40.752</td>\n",
              "      <td>37482</td>\n",
              "    </tr>\n",
              "    <tr>\n",
              "      <th>28246</th>\n",
              "      <td>-73.782</td>\n",
              "      <td>40.645</td>\n",
              "      <td>35452</td>\n",
              "    </tr>\n",
              "  </tbody>\n",
              "</table>\n",
              "</div>"
            ],
            "text/plain": [
              "       pickup_longitude  pickup_latitude  Count\n",
              "6939            -73.994           40.751  64748\n",
              "24436           -73.863           40.769  57230\n",
              "7259            -73.992           40.750  56757\n",
              "7416            -73.991           40.750  54224\n",
              "23853           -73.871           40.774  51943\n",
              "23701           -73.873           40.774  47744\n",
              "7582            -73.990           40.757  38711\n",
              "7422            -73.991           40.756  38079\n",
              "9535            -73.978           40.752  37482\n",
              "28246           -73.782           40.645  35452"
            ]
          },
          "metadata": {
            "tags": []
          },
          "execution_count": 81
        }
      ]
    },
    {
      "cell_type": "code",
      "metadata": {
        "id": "HnVYDEj2hAsv",
        "colab_type": "code",
        "outputId": "82951a83-2a11-437f-b363-4fef74c249f5",
        "colab": {
          "base_uri": "https://localhost:8080/",
          "height": 34
        }
      },
      "source": [
        "df.shape"
      ],
      "execution_count": 0,
      "outputs": [
        {
          "output_type": "execute_result",
          "data": {
            "text/plain": [
              "(14688889, 30)"
            ]
          },
          "metadata": {
            "tags": []
          },
          "execution_count": 82
        }
      ]
    },
    {
      "cell_type": "markdown",
      "metadata": {
        "id": "D1A0z6ThjabU",
        "colab_type": "text"
      },
      "source": [
        "### Convert specific pickup and drop Coordinates into location\n"
      ]
    },
    {
      "cell_type": "markdown",
      "metadata": {
        "id": "o3qTF5wDlwFk",
        "colab_type": "text"
      },
      "source": [
        "*\n",
        "Busiest locations are computed on the basis of pickup locations. Based on the longitude and latitude we have classified few areas and then checking the distribution.\n",
        "\n",
        "Manhattan contributes to around 94% distribution, reflecting to be the most busiest area\n",
        "*"
      ]
    },
    {
      "cell_type": "markdown",
      "metadata": {
        "id": "ydpzuHOLm-kJ",
        "colab_type": "text"
      },
      "source": [
        "*\n",
        "The below classification of places is picked from some open source. And analysis is based assuming the classification is correct.\n",
        "*"
      ]
    },
    {
      "cell_type": "code",
      "metadata": {
        "id": "JZ_uusnVhv6-",
        "colab_type": "code",
        "colab": {}
      },
      "source": [
        "#JFK Airport \n",
        "JFK={\"min_long\":-73.81,\n",
        "    \"min_lat\":40.63,\n",
        "    \"max_long\":-73.77,\n",
        "    \"max_lat\":40.67}\n",
        "\n",
        "#Manhattan \n",
        "Manhattan={\n",
        "    \"min_long\":-74.02,\n",
        "    \"min_lat\":40.70,\n",
        "    \"max_long\":-73.93,\n",
        "    \"max_lat\":40.85}\n",
        "\n",
        "#Brooklyn\n",
        "Brooklyn={\n",
        "    \"min_long\":-74.01,\n",
        "    \"min_lat\":40.62,\n",
        "    \"max_long\":-73.96,\n",
        "    \"max_lat\":40.70 }\n",
        "\n",
        "#LaGuardia\n",
        "LaGuardia={\n",
        "    \"min_long\":-73.89,\n",
        "    \"min_lat\":40.76,\n",
        "    \"max_long\":-73.85,\n",
        "    \"max_lat\":40.79}\n",
        "\n",
        "#Bronx\n",
        "Bronx={\n",
        "    \"min_long\":-73.935,\n",
        "    \"min_lat\":40.79,\n",
        "    \"max_long\":-73.88,\n",
        "    \"max_lat\":40.89}"
      ],
      "execution_count": 0,
      "outputs": []
    },
    {
      "cell_type": "code",
      "metadata": {
        "id": "MPgAweQyjjid",
        "colab_type": "code",
        "outputId": "e15369dc-8696-4b74-fb00-ec2def47ca9f",
        "colab": {
          "base_uri": "https://localhost:8080/",
          "height": 105
        }
      },
      "source": [
        "def pickup_place(place,data1):\n",
        "    data=data1[((data1['pickup_latitude']>= place['min_lat']) & (data1['pickup_latitude']<= place['max_lat']) & (data1['pickup_longitude']>= place['min_long']) & (data1['pickup_longitude']<= place['max_long']))]    \n",
        "    return data\n",
        "\n",
        "print(\"JFK Pickup Total \" , pickup_place(JFK,df).shape)\n",
        "print(\"Manhattan Pickup Total \" , pickup_place(Manhattan,df).shape)\n",
        "print(\"Brroklyn Pickup Total \" , pickup_place(Brooklyn,df).shape)\n",
        "print(\"Bronx Pickup Total \" , pickup_place(Bronx,df).shape)\n",
        "print(\"LaGuardia Pickup Total \" , pickup_place(LaGuardia,df).shape)"
      ],
      "execution_count": 0,
      "outputs": [
        {
          "output_type": "stream",
          "text": [
            "JFK Pickup Total  (238109, 30)\n",
            "Manhattan Pickup Total  (13799557, 30)\n",
            "Brroklyn Pickup Total  (182334, 30)\n",
            "Bronx Pickup Total  (16158, 30)\n",
            "LaGuardia Pickup Total  (318635, 30)\n"
          ],
          "name": "stdout"
        }
      ]
    },
    {
      "cell_type": "code",
      "metadata": {
        "id": "0ek1TpcpkKXx",
        "colab_type": "code",
        "outputId": "3b433a2e-e97d-4d4b-fd3a-b2855c353c3c",
        "colab": {
          "base_uri": "https://localhost:8080/",
          "height": 34
        }
      },
      "source": [
        "###Sum of the above important cities\n",
        "imp_cities =238123+13802329+180650+14629+318673\n",
        "others = len(df) - (imp_cities)\n",
        "others"
      ],
      "execution_count": 0,
      "outputs": [
        {
          "output_type": "execute_result",
          "data": {
            "text/plain": [
              "134485"
            ]
          },
          "metadata": {
            "tags": []
          },
          "execution_count": 85
        }
      ]
    },
    {
      "cell_type": "code",
      "metadata": {
        "id": "2WR0iGT_kdwk",
        "colab_type": "code",
        "outputId": "963895d4-1092-4750-f035-8787939116eb",
        "colab": {
          "base_uri": "https://localhost:8080/",
          "height": 34
        }
      },
      "source": [
        "## Manhattan Pickup Total Percent share\n",
        "(13802329/14695984)*100"
      ],
      "execution_count": 0,
      "outputs": [
        {
          "output_type": "execute_result",
          "data": {
            "text/plain": [
              "93.91905298753727"
            ]
          },
          "metadata": {
            "tags": []
          },
          "execution_count": 86
        }
      ]
    },
    {
      "cell_type": "markdown",
      "metadata": {
        "id": "6iCrmnE3nhah",
        "colab_type": "text"
      },
      "source": [
        "#### Question 8 : Which trip has the highest standard deviation of travel time?\n"
      ]
    },
    {
      "cell_type": "markdown",
      "metadata": {
        "id": "8IgQI9Z4qAuU",
        "colab_type": "text"
      },
      "source": [
        "*\n",
        "Standard deviation is for the entire data, which tell us the degree of variation present in it.\n",
        "\n",
        "Created routes (trips) using four cordinates\n",
        "\n",
        "Found the std in the time wrt to each trip\n",
        "\n",
        "Found the normaized Std in time. (std/mean) of time\n",
        "\n",
        "Sorted to data to find trips with highest variation.\n",
        "*\n",
        "\n"
      ]
    },
    {
      "cell_type": "code",
      "metadata": {
        "id": "enZ760s4qtfQ",
        "colab_type": "code",
        "outputId": "f5d76ea9-ca4a-4d64-c3e5-67a9bd67fa2a",
        "colab": {
          "base_uri": "https://localhost:8080/",
          "height": 197
        }
      },
      "source": [
        "trip_distances = pd.DataFrame({\n",
        "    'pickup_lat': df.pickup_latitude.round(4),\n",
        "    'pickup_lon': df.pickup_longitude.round(4),\n",
        "    'dropoff_lat': df.dropoff_latitude.round(4),\n",
        "    'dropoff_lon': df.dropoff_longitude.round(4),\n",
        "    'distance': df.trip_distance,\n",
        "    'time': df.trip_time_in_secs\n",
        "})\n",
        "trip_distances.head()"
      ],
      "execution_count": 0,
      "outputs": [
        {
          "output_type": "execute_result",
          "data": {
            "text/html": [
              "<div>\n",
              "<style scoped>\n",
              "    .dataframe tbody tr th:only-of-type {\n",
              "        vertical-align: middle;\n",
              "    }\n",
              "\n",
              "    .dataframe tbody tr th {\n",
              "        vertical-align: top;\n",
              "    }\n",
              "\n",
              "    .dataframe thead th {\n",
              "        text-align: right;\n",
              "    }\n",
              "</style>\n",
              "<table border=\"1\" class=\"dataframe\">\n",
              "  <thead>\n",
              "    <tr style=\"text-align: right;\">\n",
              "      <th></th>\n",
              "      <th>pickup_lat</th>\n",
              "      <th>pickup_lon</th>\n",
              "      <th>dropoff_lat</th>\n",
              "      <th>dropoff_lon</th>\n",
              "      <th>distance</th>\n",
              "      <th>time</th>\n",
              "    </tr>\n",
              "  </thead>\n",
              "  <tbody>\n",
              "    <tr>\n",
              "      <th>0</th>\n",
              "      <td>40.765</td>\n",
              "      <td>-73.958</td>\n",
              "      <td>40.7856</td>\n",
              "      <td>-73.9763</td>\n",
              "      <td>2.5</td>\n",
              "      <td>759</td>\n",
              "    </tr>\n",
              "    <tr>\n",
              "      <th>2</th>\n",
              "      <td>40.755</td>\n",
              "      <td>-73.983</td>\n",
              "      <td>40.7154</td>\n",
              "      <td>-74.0092</td>\n",
              "      <td>3.6</td>\n",
              "      <td>1318</td>\n",
              "    </tr>\n",
              "    <tr>\n",
              "      <th>3</th>\n",
              "      <td>40.763</td>\n",
              "      <td>-73.978</td>\n",
              "      <td>40.7766</td>\n",
              "      <td>-73.9557</td>\n",
              "      <td>1.9</td>\n",
              "      <td>799</td>\n",
              "    </tr>\n",
              "    <tr>\n",
              "      <th>4</th>\n",
              "      <td>40.745</td>\n",
              "      <td>-74.006</td>\n",
              "      <td>40.7611</td>\n",
              "      <td>-73.9617</td>\n",
              "      <td>3.6</td>\n",
              "      <td>1017</td>\n",
              "    </tr>\n",
              "    <tr>\n",
              "      <th>5</th>\n",
              "      <td>40.755</td>\n",
              "      <td>-73.985</td>\n",
              "      <td>40.7480</td>\n",
              "      <td>-73.9908</td>\n",
              "      <td>0.7</td>\n",
              "      <td>189</td>\n",
              "    </tr>\n",
              "  </tbody>\n",
              "</table>\n",
              "</div>"
            ],
            "text/plain": [
              "   pickup_lat  pickup_lon  dropoff_lat  dropoff_lon  distance  time\n",
              "0      40.765     -73.958      40.7856     -73.9763       2.5   759\n",
              "2      40.755     -73.983      40.7154     -74.0092       3.6  1318\n",
              "3      40.763     -73.978      40.7766     -73.9557       1.9   799\n",
              "4      40.745     -74.006      40.7611     -73.9617       3.6  1017\n",
              "5      40.755     -73.985      40.7480     -73.9908       0.7   189"
            ]
          },
          "metadata": {
            "tags": []
          },
          "execution_count": 98
        }
      ]
    },
    {
      "cell_type": "code",
      "metadata": {
        "id": "kw1AmFPYq7QB",
        "colab_type": "code",
        "outputId": "b4736181-4d5a-4865-e91d-27c00ebc763a",
        "colab": {
          "base_uri": "https://localhost:8080/",
          "height": 70
        }
      },
      "source": [
        "## Create summary statistics (Count, Mean and Std) for time_in_sec and trip_distance\n",
        "agg_vals = trip_distances.groupby([\n",
        "    'pickup_lat',\n",
        "    'pickup_lon',\n",
        "    'dropoff_lat',\n",
        "    'dropoff_lon'\n",
        "]).agg([\n",
        "    'mean',\n",
        "    'std',\n",
        "    'count'\n",
        "])\n",
        "agg_vals = agg_vals.dropna()\n",
        "agg_vals.columns = ['_'.join(v) for v in agg_vals.columns.values]\n",
        "agg_vals.columns"
      ],
      "execution_count": 0,
      "outputs": [
        {
          "output_type": "execute_result",
          "data": {
            "text/plain": [
              "Index(['distance_mean', 'distance_std', 'distance_count', 'time_mean',\n",
              "       'time_std', 'time_count'],\n",
              "      dtype='object')"
            ]
          },
          "metadata": {
            "tags": []
          },
          "execution_count": 99
        }
      ]
    },
    {
      "cell_type": "code",
      "metadata": {
        "id": "-lIkjIxKrGAO",
        "colab_type": "code",
        "colab": {}
      },
      "source": [
        "## . Create normalized Std metrics w.r.t to time and distance\n",
        "agg_vals['time_std_normalised'] = agg_vals.time_std / agg_vals.time_mean\n",
        "agg_vals['distance_std_normalised'] = agg_vals.distance_std / agg_vals.distance_mean"
      ],
      "execution_count": 0,
      "outputs": []
    },
    {
      "cell_type": "code",
      "metadata": {
        "id": "rIDkH6A5sET0",
        "colab_type": "code",
        "colab": {}
      },
      "source": [
        "## Remove NA's\n",
        "agg_clean = agg_vals.dropna()"
      ],
      "execution_count": 0,
      "outputs": []
    },
    {
      "cell_type": "code",
      "metadata": {
        "id": "YQs7YjCgsvPL",
        "colab_type": "code",
        "outputId": "a10de636-0353-443d-d214-c7e0cbaa0e3f",
        "colab": {
          "base_uri": "https://localhost:8080/",
          "height": 1000
        }
      },
      "source": [
        "## Sort the data to find the hightest Std in time travel\n",
        "agg_clean.sort_values(by=['time_std_normalised'], ascending=False)"
      ],
      "execution_count": 0,
      "outputs": [
        {
          "output_type": "execute_result",
          "data": {
            "text/html": [
              "<div>\n",
              "<style scoped>\n",
              "    .dataframe tbody tr th:only-of-type {\n",
              "        vertical-align: middle;\n",
              "    }\n",
              "\n",
              "    .dataframe tbody tr th {\n",
              "        vertical-align: top;\n",
              "    }\n",
              "\n",
              "    .dataframe thead th {\n",
              "        text-align: right;\n",
              "    }\n",
              "</style>\n",
              "<table border=\"1\" class=\"dataframe\">\n",
              "  <thead>\n",
              "    <tr style=\"text-align: right;\">\n",
              "      <th></th>\n",
              "      <th></th>\n",
              "      <th></th>\n",
              "      <th></th>\n",
              "      <th>distance_mean</th>\n",
              "      <th>distance_std</th>\n",
              "      <th>distance_count</th>\n",
              "      <th>time_mean</th>\n",
              "      <th>time_std</th>\n",
              "      <th>time_count</th>\n",
              "      <th>time_std_normalised</th>\n",
              "      <th>distance_std_normalised</th>\n",
              "    </tr>\n",
              "    <tr>\n",
              "      <th>pickup_lat</th>\n",
              "      <th>pickup_lon</th>\n",
              "      <th>dropoff_lat</th>\n",
              "      <th>dropoff_lon</th>\n",
              "      <th></th>\n",
              "      <th></th>\n",
              "      <th></th>\n",
              "      <th></th>\n",
              "      <th></th>\n",
              "      <th></th>\n",
              "      <th></th>\n",
              "      <th></th>\n",
              "    </tr>\n",
              "  </thead>\n",
              "  <tbody>\n",
              "    <tr>\n",
              "      <th>40.647</th>\n",
              "      <th>-73.790</th>\n",
              "      <th>40.6469</th>\n",
              "      <th>-73.7901</th>\n",
              "      <td>1.909286</td>\n",
              "      <td>7.042536</td>\n",
              "      <td>28</td>\n",
              "      <td>217.071429</td>\n",
              "      <td>1027.685062</td>\n",
              "      <td>28</td>\n",
              "      <td>4.734317</td>\n",
              "      <td>3.688571</td>\n",
              "    </tr>\n",
              "    <tr>\n",
              "      <th>40.645</th>\n",
              "      <th>-73.777</th>\n",
              "      <th>40.6453</th>\n",
              "      <th>-73.7767</th>\n",
              "      <td>1.722292</td>\n",
              "      <td>4.493069</td>\n",
              "      <td>48</td>\n",
              "      <td>31.500000</td>\n",
              "      <td>144.725566</td>\n",
              "      <td>48</td>\n",
              "      <td>4.594462</td>\n",
              "      <td>2.608773</td>\n",
              "    </tr>\n",
              "    <tr>\n",
              "      <th>40.647</th>\n",
              "      <th>-73.790</th>\n",
              "      <th>40.6469</th>\n",
              "      <th>-73.7900</th>\n",
              "      <td>4.437600</td>\n",
              "      <td>7.538411</td>\n",
              "      <td>25</td>\n",
              "      <td>175.960000</td>\n",
              "      <td>772.858465</td>\n",
              "      <td>25</td>\n",
              "      <td>4.392240</td>\n",
              "      <td>1.698758</td>\n",
              "    </tr>\n",
              "    <tr>\n",
              "      <th rowspan=\"2\" valign=\"top\">40.645</th>\n",
              "      <th>-73.782</th>\n",
              "      <th>40.6447</th>\n",
              "      <th>-73.7820</th>\n",
              "      <td>1.116154</td>\n",
              "      <td>3.255129</td>\n",
              "      <td>26</td>\n",
              "      <td>80.692308</td>\n",
              "      <td>329.545356</td>\n",
              "      <td>26</td>\n",
              "      <td>4.083975</td>\n",
              "      <td>2.916380</td>\n",
              "    </tr>\n",
              "    <tr>\n",
              "      <th>-73.777</th>\n",
              "      <th>40.6454</th>\n",
              "      <th>-73.7768</th>\n",
              "      <td>3.745000</td>\n",
              "      <td>6.207925</td>\n",
              "      <td>22</td>\n",
              "      <td>133.136364</td>\n",
              "      <td>534.202503</td>\n",
              "      <td>22</td>\n",
              "      <td>4.012446</td>\n",
              "      <td>1.657657</td>\n",
              "    </tr>\n",
              "    <tr>\n",
              "      <th>40.647</th>\n",
              "      <th>-73.790</th>\n",
              "      <th>40.6468</th>\n",
              "      <th>-73.7902</th>\n",
              "      <td>4.342609</td>\n",
              "      <td>9.589225</td>\n",
              "      <td>23</td>\n",
              "      <td>116.695652</td>\n",
              "      <td>432.839823</td>\n",
              "      <td>23</td>\n",
              "      <td>3.709134</td>\n",
              "      <td>2.208172</td>\n",
              "    </tr>\n",
              "    <tr>\n",
              "      <th>40.645</th>\n",
              "      <th>-73.776</th>\n",
              "      <th>40.6454</th>\n",
              "      <th>-73.7763</th>\n",
              "      <td>2.278947</td>\n",
              "      <td>5.706388</td>\n",
              "      <td>19</td>\n",
              "      <td>148.368421</td>\n",
              "      <td>545.679924</td>\n",
              "      <td>19</td>\n",
              "      <td>3.677871</td>\n",
              "      <td>2.503958</td>\n",
              "    </tr>\n",
              "    <tr>\n",
              "      <th rowspan=\"2\" valign=\"top\">40.647</th>\n",
              "      <th rowspan=\"2\" valign=\"top\">-73.790</th>\n",
              "      <th>40.6470</th>\n",
              "      <th>-73.7899</th>\n",
              "      <td>2.040476</td>\n",
              "      <td>4.691156</td>\n",
              "      <td>21</td>\n",
              "      <td>148.904762</td>\n",
              "      <td>545.178586</td>\n",
              "      <td>21</td>\n",
              "      <td>3.661257</td>\n",
              "      <td>2.299050</td>\n",
              "    </tr>\n",
              "    <tr>\n",
              "      <th>40.6468</th>\n",
              "      <th>-73.7903</th>\n",
              "      <td>0.878947</td>\n",
              "      <td>2.673603</td>\n",
              "      <td>19</td>\n",
              "      <td>112.368421</td>\n",
              "      <td>390.706797</td>\n",
              "      <td>19</td>\n",
              "      <td>3.477016</td>\n",
              "      <td>3.041824</td>\n",
              "    </tr>\n",
              "    <tr>\n",
              "      <th rowspan=\"3\" valign=\"top\">40.645</th>\n",
              "      <th rowspan=\"3\" valign=\"top\">-73.782</th>\n",
              "      <th>40.6446</th>\n",
              "      <th>-73.7822</th>\n",
              "      <td>1.769231</td>\n",
              "      <td>6.319070</td>\n",
              "      <td>13</td>\n",
              "      <td>279.538462</td>\n",
              "      <td>969.643372</td>\n",
              "      <td>13</td>\n",
              "      <td>3.468730</td>\n",
              "      <td>3.571648</td>\n",
              "    </tr>\n",
              "    <tr>\n",
              "      <th>40.6448</th>\n",
              "      <th>-73.7817</th>\n",
              "      <td>4.158462</td>\n",
              "      <td>6.308177</td>\n",
              "      <td>13</td>\n",
              "      <td>218.307692</td>\n",
              "      <td>748.700584</td>\n",
              "      <td>13</td>\n",
              "      <td>3.429566</td>\n",
              "      <td>1.516950</td>\n",
              "    </tr>\n",
              "    <tr>\n",
              "      <th>40.6447</th>\n",
              "      <th>-73.7818</th>\n",
              "      <td>2.060909</td>\n",
              "      <td>4.630503</td>\n",
              "      <td>22</td>\n",
              "      <td>111.000000</td>\n",
              "      <td>358.927238</td>\n",
              "      <td>22</td>\n",
              "      <td>3.233579</td>\n",
              "      <td>2.246826</td>\n",
              "    </tr>\n",
              "    <tr>\n",
              "      <th>40.647</th>\n",
              "      <th>-73.790</th>\n",
              "      <th>40.6469</th>\n",
              "      <th>-73.7899</th>\n",
              "      <td>3.717857</td>\n",
              "      <td>7.199348</td>\n",
              "      <td>14</td>\n",
              "      <td>224.428571</td>\n",
              "      <td>713.002720</td>\n",
              "      <td>14</td>\n",
              "      <td>3.176969</td>\n",
              "      <td>1.936424</td>\n",
              "    </tr>\n",
              "    <tr>\n",
              "      <th>40.639</th>\n",
              "      <th>-73.786</th>\n",
              "      <th>40.6389</th>\n",
              "      <th>-73.7859</th>\n",
              "      <td>2.415833</td>\n",
              "      <td>4.903849</td>\n",
              "      <td>12</td>\n",
              "      <td>299.500000</td>\n",
              "      <td>928.047070</td>\n",
              "      <td>12</td>\n",
              "      <td>3.098655</td>\n",
              "      <td>2.029879</td>\n",
              "    </tr>\n",
              "    <tr>\n",
              "      <th>40.645</th>\n",
              "      <th>-73.782</th>\n",
              "      <th>40.6447</th>\n",
              "      <th>-73.7821</th>\n",
              "      <td>1.018889</td>\n",
              "      <td>3.754960</td>\n",
              "      <td>18</td>\n",
              "      <td>27.277778</td>\n",
              "      <td>84.222259</td>\n",
              "      <td>18</td>\n",
              "      <td>3.087578</td>\n",
              "      <td>3.685348</td>\n",
              "    </tr>\n",
              "    <tr>\n",
              "      <th>40.644</th>\n",
              "      <th>-73.790</th>\n",
              "      <th>40.6438</th>\n",
              "      <th>-73.7903</th>\n",
              "      <td>6.439000</td>\n",
              "      <td>11.547462</td>\n",
              "      <td>10</td>\n",
              "      <td>788.300000</td>\n",
              "      <td>2379.602070</td>\n",
              "      <td>10</td>\n",
              "      <td>3.018650</td>\n",
              "      <td>1.793363</td>\n",
              "    </tr>\n",
              "    <tr>\n",
              "      <th>40.649</th>\n",
              "      <th>-73.784</th>\n",
              "      <th>40.6486</th>\n",
              "      <th>-73.7836</th>\n",
              "      <td>4.512727</td>\n",
              "      <td>7.281578</td>\n",
              "      <td>11</td>\n",
              "      <td>43.181818</td>\n",
              "      <td>125.052643</td>\n",
              "      <td>11</td>\n",
              "      <td>2.895956</td>\n",
              "      <td>1.613565</td>\n",
              "    </tr>\n",
              "    <tr>\n",
              "      <th>40.751</th>\n",
              "      <th>-73.659</th>\n",
              "      <th>40.7509</th>\n",
              "      <th>-73.6591</th>\n",
              "      <td>0.031250</td>\n",
              "      <td>0.125000</td>\n",
              "      <td>16</td>\n",
              "      <td>19.062500</td>\n",
              "      <td>50.449273</td>\n",
              "      <td>16</td>\n",
              "      <td>2.646519</td>\n",
              "      <td>4.000000</td>\n",
              "    </tr>\n",
              "    <tr>\n",
              "      <th rowspan=\"3\" valign=\"top\">40.645</th>\n",
              "      <th rowspan=\"3\" valign=\"top\">-73.782</th>\n",
              "      <th>40.6447</th>\n",
              "      <th>-73.7819</th>\n",
              "      <td>2.070800</td>\n",
              "      <td>5.388807</td>\n",
              "      <td>25</td>\n",
              "      <td>32.280000</td>\n",
              "      <td>84.935525</td>\n",
              "      <td>25</td>\n",
              "      <td>2.631212</td>\n",
              "      <td>2.602283</td>\n",
              "    </tr>\n",
              "    <tr>\n",
              "      <th>40.6450</th>\n",
              "      <th>-73.7811</th>\n",
              "      <td>2.671579</td>\n",
              "      <td>5.623623</td>\n",
              "      <td>19</td>\n",
              "      <td>254.000000</td>\n",
              "      <td>661.089925</td>\n",
              "      <td>19</td>\n",
              "      <td>2.602716</td>\n",
              "      <td>2.104981</td>\n",
              "    </tr>\n",
              "    <tr>\n",
              "      <th>40.6449</th>\n",
              "      <th>-73.7815</th>\n",
              "      <td>10.505714</td>\n",
              "      <td>10.276533</td>\n",
              "      <td>7</td>\n",
              "      <td>563.571429</td>\n",
              "      <td>1444.902979</td>\n",
              "      <td>7</td>\n",
              "      <td>2.563833</td>\n",
              "      <td>0.978185</td>\n",
              "    </tr>\n",
              "    <tr>\n",
              "      <th>40.649</th>\n",
              "      <th>-73.783</th>\n",
              "      <th>40.6486</th>\n",
              "      <th>-73.7834</th>\n",
              "      <td>1.201000</td>\n",
              "      <td>3.654831</td>\n",
              "      <td>10</td>\n",
              "      <td>22.300000</td>\n",
              "      <td>55.519866</td>\n",
              "      <td>10</td>\n",
              "      <td>2.489680</td>\n",
              "      <td>3.043156</td>\n",
              "    </tr>\n",
              "    <tr>\n",
              "      <th>40.646</th>\n",
              "      <th>-73.776</th>\n",
              "      <th>40.6459</th>\n",
              "      <th>-73.7763</th>\n",
              "      <td>4.864286</td>\n",
              "      <td>7.812635</td>\n",
              "      <td>7</td>\n",
              "      <td>271.428571</td>\n",
              "      <td>674.139911</td>\n",
              "      <td>7</td>\n",
              "      <td>2.483673</td>\n",
              "      <td>1.606122</td>\n",
              "    </tr>\n",
              "    <tr>\n",
              "      <th>40.745</th>\n",
              "      <th>-73.947</th>\n",
              "      <th>40.7449</th>\n",
              "      <th>-73.9471</th>\n",
              "      <td>0.085000</td>\n",
              "      <td>0.273909</td>\n",
              "      <td>20</td>\n",
              "      <td>58.400000</td>\n",
              "      <td>144.167081</td>\n",
              "      <td>20</td>\n",
              "      <td>2.468614</td>\n",
              "      <td>3.222463</td>\n",
              "    </tr>\n",
              "    <tr>\n",
              "      <th>40.647</th>\n",
              "      <th>-73.790</th>\n",
              "      <th>40.6469</th>\n",
              "      <th>-73.7902</th>\n",
              "      <td>1.639048</td>\n",
              "      <td>3.832913</td>\n",
              "      <td>21</td>\n",
              "      <td>57.714286</td>\n",
              "      <td>139.129128</td>\n",
              "      <td>21</td>\n",
              "      <td>2.410653</td>\n",
              "      <td>2.338500</td>\n",
              "    </tr>\n",
              "    <tr>\n",
              "      <th>40.645</th>\n",
              "      <th>-73.782</th>\n",
              "      <th>40.6446</th>\n",
              "      <th>-73.7820</th>\n",
              "      <td>0.006250</td>\n",
              "      <td>0.017678</td>\n",
              "      <td>8</td>\n",
              "      <td>52.250000</td>\n",
              "      <td>124.651228</td>\n",
              "      <td>8</td>\n",
              "      <td>2.385669</td>\n",
              "      <td>2.828427</td>\n",
              "    </tr>\n",
              "    <tr>\n",
              "      <th>40.649</th>\n",
              "      <th>-73.783</th>\n",
              "      <th>40.6489</th>\n",
              "      <th>-73.7828</th>\n",
              "      <td>5.116667</td>\n",
              "      <td>11.581091</td>\n",
              "      <td>6</td>\n",
              "      <td>707.000000</td>\n",
              "      <td>1683.417714</td>\n",
              "      <td>6</td>\n",
              "      <td>2.381072</td>\n",
              "      <td>2.263405</td>\n",
              "    </tr>\n",
              "    <tr>\n",
              "      <th>40.774</th>\n",
              "      <th>-73.873</th>\n",
              "      <th>40.7740</th>\n",
              "      <th>-73.8730</th>\n",
              "      <td>6.955714</td>\n",
              "      <td>13.914958</td>\n",
              "      <td>7</td>\n",
              "      <td>283.714286</td>\n",
              "      <td>669.986745</td>\n",
              "      <td>7</td>\n",
              "      <td>2.361484</td>\n",
              "      <td>2.000507</td>\n",
              "    </tr>\n",
              "    <tr>\n",
              "      <th>40.758</th>\n",
              "      <th>-73.937</th>\n",
              "      <th>40.7582</th>\n",
              "      <th>-73.9375</th>\n",
              "      <td>0.000435</td>\n",
              "      <td>0.002085</td>\n",
              "      <td>23</td>\n",
              "      <td>130.434783</td>\n",
              "      <td>307.356445</td>\n",
              "      <td>23</td>\n",
              "      <td>2.356399</td>\n",
              "      <td>4.795832</td>\n",
              "    </tr>\n",
              "    <tr>\n",
              "      <th>40.740</th>\n",
              "      <th>-74.006</th>\n",
              "      <th>40.7399</th>\n",
              "      <th>-74.0060</th>\n",
              "      <td>1.737143</td>\n",
              "      <td>2.457076</td>\n",
              "      <td>7</td>\n",
              "      <td>435.571429</td>\n",
              "      <td>1025.871639</td>\n",
              "      <td>7</td>\n",
              "      <td>2.355232</td>\n",
              "      <td>1.414435</td>\n",
              "    </tr>\n",
              "    <tr>\n",
              "      <th>...</th>\n",
              "      <th>...</th>\n",
              "      <th>...</th>\n",
              "      <th>...</th>\n",
              "      <td>...</td>\n",
              "      <td>...</td>\n",
              "      <td>...</td>\n",
              "      <td>...</td>\n",
              "      <td>...</td>\n",
              "      <td>...</td>\n",
              "      <td>...</td>\n",
              "      <td>...</td>\n",
              "    </tr>\n",
              "    <tr>\n",
              "      <th>40.730</th>\n",
              "      <th>-73.992</th>\n",
              "      <th>40.7095</th>\n",
              "      <th>-73.9960</th>\n",
              "      <td>2.890000</td>\n",
              "      <td>0.084853</td>\n",
              "      <td>2</td>\n",
              "      <td>780.000000</td>\n",
              "      <td>0.000000</td>\n",
              "      <td>2</td>\n",
              "      <td>0.000000</td>\n",
              "      <td>0.029361</td>\n",
              "    </tr>\n",
              "    <tr>\n",
              "      <th rowspan=\"2\" valign=\"top\">40.759</th>\n",
              "      <th rowspan=\"2\" valign=\"top\">-73.971</th>\n",
              "      <th>40.7414</th>\n",
              "      <th>-73.9833</th>\n",
              "      <td>1.395000</td>\n",
              "      <td>0.035355</td>\n",
              "      <td>2</td>\n",
              "      <td>360.000000</td>\n",
              "      <td>0.000000</td>\n",
              "      <td>2</td>\n",
              "      <td>0.000000</td>\n",
              "      <td>0.025344</td>\n",
              "    </tr>\n",
              "    <tr>\n",
              "      <th>40.7415</th>\n",
              "      <th>-73.9854</th>\n",
              "      <td>1.495000</td>\n",
              "      <td>0.021213</td>\n",
              "      <td>2</td>\n",
              "      <td>420.000000</td>\n",
              "      <td>0.000000</td>\n",
              "      <td>2</td>\n",
              "      <td>0.000000</td>\n",
              "      <td>0.014189</td>\n",
              "    </tr>\n",
              "    <tr>\n",
              "      <th>40.711</th>\n",
              "      <th>-74.016</th>\n",
              "      <th>40.7214</th>\n",
              "      <th>-74.0092</th>\n",
              "      <td>0.995000</td>\n",
              "      <td>0.007071</td>\n",
              "      <td>2</td>\n",
              "      <td>240.000000</td>\n",
              "      <td>0.000000</td>\n",
              "      <td>2</td>\n",
              "      <td>0.000000</td>\n",
              "      <td>0.007107</td>\n",
              "    </tr>\n",
              "    <tr>\n",
              "      <th>40.765</th>\n",
              "      <th>-73.982</th>\n",
              "      <th>40.7541</th>\n",
              "      <th>-73.9885</th>\n",
              "      <td>0.955000</td>\n",
              "      <td>0.021213</td>\n",
              "      <td>2</td>\n",
              "      <td>480.000000</td>\n",
              "      <td>0.000000</td>\n",
              "      <td>2</td>\n",
              "      <td>0.000000</td>\n",
              "      <td>0.022213</td>\n",
              "    </tr>\n",
              "    <tr>\n",
              "      <th>40.757</th>\n",
              "      <th>-73.973</th>\n",
              "      <th>40.7489</th>\n",
              "      <th>-73.9880</th>\n",
              "      <td>1.350000</td>\n",
              "      <td>0.042426</td>\n",
              "      <td>2</td>\n",
              "      <td>420.000000</td>\n",
              "      <td>0.000000</td>\n",
              "      <td>2</td>\n",
              "      <td>0.000000</td>\n",
              "      <td>0.031427</td>\n",
              "    </tr>\n",
              "    <tr>\n",
              "      <th>40.730</th>\n",
              "      <th>-73.992</th>\n",
              "      <th>40.7249</th>\n",
              "      <th>-73.9782</th>\n",
              "      <td>0.955000</td>\n",
              "      <td>0.007071</td>\n",
              "      <td>2</td>\n",
              "      <td>360.000000</td>\n",
              "      <td>0.000000</td>\n",
              "      <td>2</td>\n",
              "      <td>0.000000</td>\n",
              "      <td>0.007404</td>\n",
              "    </tr>\n",
              "    <tr>\n",
              "      <th>40.759</th>\n",
              "      <th>-73.971</th>\n",
              "      <th>40.7417</th>\n",
              "      <th>-73.9831</th>\n",
              "      <td>1.385000</td>\n",
              "      <td>0.049497</td>\n",
              "      <td>2</td>\n",
              "      <td>360.000000</td>\n",
              "      <td>0.000000</td>\n",
              "      <td>2</td>\n",
              "      <td>0.000000</td>\n",
              "      <td>0.035738</td>\n",
              "    </tr>\n",
              "    <tr>\n",
              "      <th>40.765</th>\n",
              "      <th>-73.982</th>\n",
              "      <th>40.7546</th>\n",
              "      <th>-73.9798</th>\n",
              "      <td>1.100000</td>\n",
              "      <td>0.070711</td>\n",
              "      <td>2</td>\n",
              "      <td>360.000000</td>\n",
              "      <td>0.000000</td>\n",
              "      <td>2</td>\n",
              "      <td>0.000000</td>\n",
              "      <td>0.064282</td>\n",
              "    </tr>\n",
              "    <tr>\n",
              "      <th rowspan=\"2\" valign=\"top\">40.776</th>\n",
              "      <th>-73.983</th>\n",
              "      <th>40.7855</th>\n",
              "      <th>-73.9700</th>\n",
              "      <td>1.225000</td>\n",
              "      <td>0.063640</td>\n",
              "      <td>2</td>\n",
              "      <td>300.000000</td>\n",
              "      <td>0.000000</td>\n",
              "      <td>2</td>\n",
              "      <td>0.000000</td>\n",
              "      <td>0.051951</td>\n",
              "    </tr>\n",
              "    <tr>\n",
              "      <th>-73.982</th>\n",
              "      <th>40.7596</th>\n",
              "      <th>-73.9918</th>\n",
              "      <td>1.345000</td>\n",
              "      <td>0.021213</td>\n",
              "      <td>2</td>\n",
              "      <td>600.000000</td>\n",
              "      <td>0.000000</td>\n",
              "      <td>2</td>\n",
              "      <td>0.000000</td>\n",
              "      <td>0.015772</td>\n",
              "    </tr>\n",
              "    <tr>\n",
              "      <th>40.711</th>\n",
              "      <th>-74.016</th>\n",
              "      <th>40.7216</th>\n",
              "      <th>-74.0114</th>\n",
              "      <td>0.950000</td>\n",
              "      <td>0.014142</td>\n",
              "      <td>2</td>\n",
              "      <td>240.000000</td>\n",
              "      <td>0.000000</td>\n",
              "      <td>2</td>\n",
              "      <td>0.000000</td>\n",
              "      <td>0.014886</td>\n",
              "    </tr>\n",
              "    <tr>\n",
              "      <th>40.776</th>\n",
              "      <th>-73.982</th>\n",
              "      <th>40.7691</th>\n",
              "      <th>-73.9821</th>\n",
              "      <td>0.520000</td>\n",
              "      <td>0.014142</td>\n",
              "      <td>2</td>\n",
              "      <td>120.000000</td>\n",
              "      <td>0.000000</td>\n",
              "      <td>2</td>\n",
              "      <td>0.000000</td>\n",
              "      <td>0.027196</td>\n",
              "    </tr>\n",
              "    <tr>\n",
              "      <th rowspan=\"3\" valign=\"top\">40.730</th>\n",
              "      <th rowspan=\"3\" valign=\"top\">-73.993</th>\n",
              "      <th>40.7491</th>\n",
              "      <th>-73.9923</th>\n",
              "      <td>1.895000</td>\n",
              "      <td>0.021213</td>\n",
              "      <td>2</td>\n",
              "      <td>660.000000</td>\n",
              "      <td>0.000000</td>\n",
              "      <td>2</td>\n",
              "      <td>0.000000</td>\n",
              "      <td>0.011194</td>\n",
              "    </tr>\n",
              "    <tr>\n",
              "      <th>40.7332</th>\n",
              "      <th>-73.9871</th>\n",
              "      <td>0.660000</td>\n",
              "      <td>0.197990</td>\n",
              "      <td>2</td>\n",
              "      <td>240.000000</td>\n",
              "      <td>0.000000</td>\n",
              "      <td>2</td>\n",
              "      <td>0.000000</td>\n",
              "      <td>0.299985</td>\n",
              "    </tr>\n",
              "    <tr>\n",
              "      <th>40.7351</th>\n",
              "      <th>-73.9915</th>\n",
              "      <td>0.630000</td>\n",
              "      <td>0.014142</td>\n",
              "      <td>2</td>\n",
              "      <td>240.000000</td>\n",
              "      <td>0.000000</td>\n",
              "      <td>2</td>\n",
              "      <td>0.000000</td>\n",
              "      <td>0.022448</td>\n",
              "    </tr>\n",
              "    <tr>\n",
              "      <th>40.765</th>\n",
              "      <th>-73.982</th>\n",
              "      <th>40.7519</th>\n",
              "      <th>-73.9900</th>\n",
              "      <td>1.145000</td>\n",
              "      <td>0.134350</td>\n",
              "      <td>2</td>\n",
              "      <td>300.000000</td>\n",
              "      <td>0.000000</td>\n",
              "      <td>2</td>\n",
              "      <td>0.000000</td>\n",
              "      <td>0.117336</td>\n",
              "    </tr>\n",
              "    <tr>\n",
              "      <th>40.750</th>\n",
              "      <th>-73.995</th>\n",
              "      <th>40.7580</th>\n",
              "      <th>-73.9897</th>\n",
              "      <td>0.665000</td>\n",
              "      <td>0.049497</td>\n",
              "      <td>2</td>\n",
              "      <td>360.000000</td>\n",
              "      <td>0.000000</td>\n",
              "      <td>2</td>\n",
              "      <td>0.000000</td>\n",
              "      <td>0.074432</td>\n",
              "    </tr>\n",
              "    <tr>\n",
              "      <th rowspan=\"2\" valign=\"top\">40.730</th>\n",
              "      <th rowspan=\"2\" valign=\"top\">-73.993</th>\n",
              "      <th>40.7370</th>\n",
              "      <th>-73.9904</th>\n",
              "      <td>0.685000</td>\n",
              "      <td>0.021213</td>\n",
              "      <td>2</td>\n",
              "      <td>240.000000</td>\n",
              "      <td>0.000000</td>\n",
              "      <td>2</td>\n",
              "      <td>0.000000</td>\n",
              "      <td>0.030968</td>\n",
              "    </tr>\n",
              "    <tr>\n",
              "      <th>40.7385</th>\n",
              "      <th>-73.9826</th>\n",
              "      <td>1.080000</td>\n",
              "      <td>0.254558</td>\n",
              "      <td>2</td>\n",
              "      <td>300.000000</td>\n",
              "      <td>0.000000</td>\n",
              "      <td>2</td>\n",
              "      <td>0.000000</td>\n",
              "      <td>0.235702</td>\n",
              "    </tr>\n",
              "    <tr>\n",
              "      <th rowspan=\"2\" valign=\"top\">40.776</th>\n",
              "      <th rowspan=\"2\" valign=\"top\">-73.982</th>\n",
              "      <th>40.7660</th>\n",
              "      <th>-73.9656</th>\n",
              "      <td>1.375000</td>\n",
              "      <td>0.077782</td>\n",
              "      <td>2</td>\n",
              "      <td>420.000000</td>\n",
              "      <td>0.000000</td>\n",
              "      <td>2</td>\n",
              "      <td>0.000000</td>\n",
              "      <td>0.056569</td>\n",
              "    </tr>\n",
              "    <tr>\n",
              "      <th>40.7647</th>\n",
              "      <th>-73.9739</th>\n",
              "      <td>1.205000</td>\n",
              "      <td>0.106066</td>\n",
              "      <td>2</td>\n",
              "      <td>660.000000</td>\n",
              "      <td>0.000000</td>\n",
              "      <td>2</td>\n",
              "      <td>0.000000</td>\n",
              "      <td>0.088022</td>\n",
              "    </tr>\n",
              "    <tr>\n",
              "      <th>40.730</th>\n",
              "      <th>-73.993</th>\n",
              "      <th>40.7414</th>\n",
              "      <th>-73.9752</th>\n",
              "      <td>1.645000</td>\n",
              "      <td>0.176777</td>\n",
              "      <td>2</td>\n",
              "      <td>420.000000</td>\n",
              "      <td>0.000000</td>\n",
              "      <td>2</td>\n",
              "      <td>0.000000</td>\n",
              "      <td>0.107463</td>\n",
              "    </tr>\n",
              "    <tr>\n",
              "      <th>40.749</th>\n",
              "      <th>-73.992</th>\n",
              "      <th>40.7412</th>\n",
              "      <th>-73.9905</th>\n",
              "      <td>0.825000</td>\n",
              "      <td>0.007071</td>\n",
              "      <td>2</td>\n",
              "      <td>180.000000</td>\n",
              "      <td>0.000000</td>\n",
              "      <td>2</td>\n",
              "      <td>0.000000</td>\n",
              "      <td>0.008571</td>\n",
              "    </tr>\n",
              "    <tr>\n",
              "      <th>40.776</th>\n",
              "      <th>-73.982</th>\n",
              "      <th>40.7643</th>\n",
              "      <th>-73.9870</th>\n",
              "      <td>0.975000</td>\n",
              "      <td>0.021213</td>\n",
              "      <td>2</td>\n",
              "      <td>240.000000</td>\n",
              "      <td>0.000000</td>\n",
              "      <td>2</td>\n",
              "      <td>0.000000</td>\n",
              "      <td>0.021757</td>\n",
              "    </tr>\n",
              "    <tr>\n",
              "      <th>40.791</th>\n",
              "      <th>-73.954</th>\n",
              "      <th>40.7747</th>\n",
              "      <th>-73.9519</th>\n",
              "      <td>1.575000</td>\n",
              "      <td>0.021213</td>\n",
              "      <td>2</td>\n",
              "      <td>420.000000</td>\n",
              "      <td>0.000000</td>\n",
              "      <td>2</td>\n",
              "      <td>0.000000</td>\n",
              "      <td>0.013469</td>\n",
              "    </tr>\n",
              "    <tr>\n",
              "      <th>40.776</th>\n",
              "      <th>-73.982</th>\n",
              "      <th>40.7638</th>\n",
              "      <th>-73.9735</th>\n",
              "      <td>1.345000</td>\n",
              "      <td>0.205061</td>\n",
              "      <td>2</td>\n",
              "      <td>540.000000</td>\n",
              "      <td>0.000000</td>\n",
              "      <td>2</td>\n",
              "      <td>0.000000</td>\n",
              "      <td>0.152462</td>\n",
              "    </tr>\n",
              "    <tr>\n",
              "      <th>40.730</th>\n",
              "      <th>-73.993</th>\n",
              "      <th>40.7487</th>\n",
              "      <th>-73.9759</th>\n",
              "      <td>1.700000</td>\n",
              "      <td>0.028284</td>\n",
              "      <td>2</td>\n",
              "      <td>420.000000</td>\n",
              "      <td>0.000000</td>\n",
              "      <td>2</td>\n",
              "      <td>0.000000</td>\n",
              "      <td>0.016638</td>\n",
              "    </tr>\n",
              "    <tr>\n",
              "      <th>40.753</th>\n",
              "      <th>-73.978</th>\n",
              "      <th>40.7415</th>\n",
              "      <th>-74.0067</th>\n",
              "      <td>2.420000</td>\n",
              "      <td>0.028284</td>\n",
              "      <td>2</td>\n",
              "      <td>960.000000</td>\n",
              "      <td>0.000000</td>\n",
              "      <td>2</td>\n",
              "      <td>0.000000</td>\n",
              "      <td>0.011688</td>\n",
              "    </tr>\n",
              "    <tr>\n",
              "      <th>40.774</th>\n",
              "      <th>-73.959</th>\n",
              "      <th>40.7738</th>\n",
              "      <th>-73.9516</th>\n",
              "      <td>0.555000</td>\n",
              "      <td>0.021213</td>\n",
              "      <td>2</td>\n",
              "      <td>180.000000</td>\n",
              "      <td>0.000000</td>\n",
              "      <td>2</td>\n",
              "      <td>0.000000</td>\n",
              "      <td>0.038222</td>\n",
              "    </tr>\n",
              "  </tbody>\n",
              "</table>\n",
              "<p>1010576 rows × 8 columns</p>\n",
              "</div>"
            ],
            "text/plain": [
              "                                               distance_mean  ...  distance_std_normalised\n",
              "pickup_lat pickup_lon dropoff_lat dropoff_lon                 ...                         \n",
              "40.647     -73.790    40.6469     -73.7901          1.909286  ...                 3.688571\n",
              "40.645     -73.777    40.6453     -73.7767          1.722292  ...                 2.608773\n",
              "40.647     -73.790    40.6469     -73.7900          4.437600  ...                 1.698758\n",
              "40.645     -73.782    40.6447     -73.7820          1.116154  ...                 2.916380\n",
              "           -73.777    40.6454     -73.7768          3.745000  ...                 1.657657\n",
              "40.647     -73.790    40.6468     -73.7902          4.342609  ...                 2.208172\n",
              "40.645     -73.776    40.6454     -73.7763          2.278947  ...                 2.503958\n",
              "40.647     -73.790    40.6470     -73.7899          2.040476  ...                 2.299050\n",
              "                      40.6468     -73.7903          0.878947  ...                 3.041824\n",
              "40.645     -73.782    40.6446     -73.7822          1.769231  ...                 3.571648\n",
              "                      40.6448     -73.7817          4.158462  ...                 1.516950\n",
              "                      40.6447     -73.7818          2.060909  ...                 2.246826\n",
              "40.647     -73.790    40.6469     -73.7899          3.717857  ...                 1.936424\n",
              "40.639     -73.786    40.6389     -73.7859          2.415833  ...                 2.029879\n",
              "40.645     -73.782    40.6447     -73.7821          1.018889  ...                 3.685348\n",
              "40.644     -73.790    40.6438     -73.7903          6.439000  ...                 1.793363\n",
              "40.649     -73.784    40.6486     -73.7836          4.512727  ...                 1.613565\n",
              "40.751     -73.659    40.7509     -73.6591          0.031250  ...                 4.000000\n",
              "40.645     -73.782    40.6447     -73.7819          2.070800  ...                 2.602283\n",
              "                      40.6450     -73.7811          2.671579  ...                 2.104981\n",
              "                      40.6449     -73.7815         10.505714  ...                 0.978185\n",
              "40.649     -73.783    40.6486     -73.7834          1.201000  ...                 3.043156\n",
              "40.646     -73.776    40.6459     -73.7763          4.864286  ...                 1.606122\n",
              "40.745     -73.947    40.7449     -73.9471          0.085000  ...                 3.222463\n",
              "40.647     -73.790    40.6469     -73.7902          1.639048  ...                 2.338500\n",
              "40.645     -73.782    40.6446     -73.7820          0.006250  ...                 2.828427\n",
              "40.649     -73.783    40.6489     -73.7828          5.116667  ...                 2.263405\n",
              "40.774     -73.873    40.7740     -73.8730          6.955714  ...                 2.000507\n",
              "40.758     -73.937    40.7582     -73.9375          0.000435  ...                 4.795832\n",
              "40.740     -74.006    40.7399     -74.0060          1.737143  ...                 1.414435\n",
              "...                                                      ...  ...                      ...\n",
              "40.730     -73.992    40.7095     -73.9960          2.890000  ...                 0.029361\n",
              "40.759     -73.971    40.7414     -73.9833          1.395000  ...                 0.025344\n",
              "                      40.7415     -73.9854          1.495000  ...                 0.014189\n",
              "40.711     -74.016    40.7214     -74.0092          0.995000  ...                 0.007107\n",
              "40.765     -73.982    40.7541     -73.9885          0.955000  ...                 0.022213\n",
              "40.757     -73.973    40.7489     -73.9880          1.350000  ...                 0.031427\n",
              "40.730     -73.992    40.7249     -73.9782          0.955000  ...                 0.007404\n",
              "40.759     -73.971    40.7417     -73.9831          1.385000  ...                 0.035738\n",
              "40.765     -73.982    40.7546     -73.9798          1.100000  ...                 0.064282\n",
              "40.776     -73.983    40.7855     -73.9700          1.225000  ...                 0.051951\n",
              "           -73.982    40.7596     -73.9918          1.345000  ...                 0.015772\n",
              "40.711     -74.016    40.7216     -74.0114          0.950000  ...                 0.014886\n",
              "40.776     -73.982    40.7691     -73.9821          0.520000  ...                 0.027196\n",
              "40.730     -73.993    40.7491     -73.9923          1.895000  ...                 0.011194\n",
              "                      40.7332     -73.9871          0.660000  ...                 0.299985\n",
              "                      40.7351     -73.9915          0.630000  ...                 0.022448\n",
              "40.765     -73.982    40.7519     -73.9900          1.145000  ...                 0.117336\n",
              "40.750     -73.995    40.7580     -73.9897          0.665000  ...                 0.074432\n",
              "40.730     -73.993    40.7370     -73.9904          0.685000  ...                 0.030968\n",
              "                      40.7385     -73.9826          1.080000  ...                 0.235702\n",
              "40.776     -73.982    40.7660     -73.9656          1.375000  ...                 0.056569\n",
              "                      40.7647     -73.9739          1.205000  ...                 0.088022\n",
              "40.730     -73.993    40.7414     -73.9752          1.645000  ...                 0.107463\n",
              "40.749     -73.992    40.7412     -73.9905          0.825000  ...                 0.008571\n",
              "40.776     -73.982    40.7643     -73.9870          0.975000  ...                 0.021757\n",
              "40.791     -73.954    40.7747     -73.9519          1.575000  ...                 0.013469\n",
              "40.776     -73.982    40.7638     -73.9735          1.345000  ...                 0.152462\n",
              "40.730     -73.993    40.7487     -73.9759          1.700000  ...                 0.016638\n",
              "40.753     -73.978    40.7415     -74.0067          2.420000  ...                 0.011688\n",
              "40.774     -73.959    40.7738     -73.9516          0.555000  ...                 0.038222\n",
              "\n",
              "[1010576 rows x 8 columns]"
            ]
          },
          "metadata": {
            "tags": []
          },
          "execution_count": 106
        }
      ]
    },
    {
      "cell_type": "code",
      "metadata": {
        "id": "XOUIznBosLXZ",
        "colab_type": "code",
        "outputId": "4e436d5f-f298-4677-c9e1-2b428c7d4eaa",
        "colab": {
          "base_uri": "https://localhost:8080/",
          "height": 1000
        }
      },
      "source": [
        "trip_distances"
      ],
      "execution_count": 0,
      "outputs": [
        {
          "output_type": "execute_result",
          "data": {
            "text/html": [
              "<div>\n",
              "<style scoped>\n",
              "    .dataframe tbody tr th:only-of-type {\n",
              "        vertical-align: middle;\n",
              "    }\n",
              "\n",
              "    .dataframe tbody tr th {\n",
              "        vertical-align: top;\n",
              "    }\n",
              "\n",
              "    .dataframe thead th {\n",
              "        text-align: right;\n",
              "    }\n",
              "</style>\n",
              "<table border=\"1\" class=\"dataframe\">\n",
              "  <thead>\n",
              "    <tr style=\"text-align: right;\">\n",
              "      <th></th>\n",
              "      <th>pickup_lat</th>\n",
              "      <th>pickup_lon</th>\n",
              "      <th>dropoff_lat</th>\n",
              "      <th>dropoff_lon</th>\n",
              "      <th>distance</th>\n",
              "      <th>time</th>\n",
              "    </tr>\n",
              "  </thead>\n",
              "  <tbody>\n",
              "    <tr>\n",
              "      <th>0</th>\n",
              "      <td>40.765</td>\n",
              "      <td>-73.958</td>\n",
              "      <td>40.7856</td>\n",
              "      <td>-73.9763</td>\n",
              "      <td>2.50</td>\n",
              "      <td>759</td>\n",
              "    </tr>\n",
              "    <tr>\n",
              "      <th>2</th>\n",
              "      <td>40.755</td>\n",
              "      <td>-73.983</td>\n",
              "      <td>40.7154</td>\n",
              "      <td>-74.0092</td>\n",
              "      <td>3.60</td>\n",
              "      <td>1318</td>\n",
              "    </tr>\n",
              "    <tr>\n",
              "      <th>3</th>\n",
              "      <td>40.763</td>\n",
              "      <td>-73.978</td>\n",
              "      <td>40.7766</td>\n",
              "      <td>-73.9557</td>\n",
              "      <td>1.90</td>\n",
              "      <td>799</td>\n",
              "    </tr>\n",
              "    <tr>\n",
              "      <th>4</th>\n",
              "      <td>40.745</td>\n",
              "      <td>-74.006</td>\n",
              "      <td>40.7611</td>\n",
              "      <td>-73.9617</td>\n",
              "      <td>3.60</td>\n",
              "      <td>1017</td>\n",
              "    </tr>\n",
              "    <tr>\n",
              "      <th>5</th>\n",
              "      <td>40.755</td>\n",
              "      <td>-73.985</td>\n",
              "      <td>40.7480</td>\n",
              "      <td>-73.9908</td>\n",
              "      <td>0.70</td>\n",
              "      <td>189</td>\n",
              "    </tr>\n",
              "    <tr>\n",
              "      <th>6</th>\n",
              "      <td>40.763</td>\n",
              "      <td>-73.985</td>\n",
              "      <td>40.7511</td>\n",
              "      <td>-73.9789</td>\n",
              "      <td>1.20</td>\n",
              "      <td>354</td>\n",
              "    </tr>\n",
              "    <tr>\n",
              "      <th>7</th>\n",
              "      <td>40.746</td>\n",
              "      <td>-73.980</td>\n",
              "      <td>40.7562</td>\n",
              "      <td>-74.0027</td>\n",
              "      <td>1.60</td>\n",
              "      <td>452</td>\n",
              "    </tr>\n",
              "    <tr>\n",
              "      <th>8</th>\n",
              "      <td>40.761</td>\n",
              "      <td>-73.978</td>\n",
              "      <td>40.7594</td>\n",
              "      <td>-73.9846</td>\n",
              "      <td>0.40</td>\n",
              "      <td>635</td>\n",
              "    </tr>\n",
              "    <tr>\n",
              "      <th>9</th>\n",
              "      <td>40.765</td>\n",
              "      <td>-73.961</td>\n",
              "      <td>40.7560</td>\n",
              "      <td>-73.9885</td>\n",
              "      <td>2.40</td>\n",
              "      <td>1048</td>\n",
              "    </tr>\n",
              "    <tr>\n",
              "      <th>10</th>\n",
              "      <td>40.748</td>\n",
              "      <td>-73.989</td>\n",
              "      <td>40.7712</td>\n",
              "      <td>-73.9821</td>\n",
              "      <td>1.10</td>\n",
              "      <td>439</td>\n",
              "    </tr>\n",
              "    <tr>\n",
              "      <th>11</th>\n",
              "      <td>40.793</td>\n",
              "      <td>-73.975</td>\n",
              "      <td>40.7539</td>\n",
              "      <td>-73.9729</td>\n",
              "      <td>3.60</td>\n",
              "      <td>2415</td>\n",
              "    </tr>\n",
              "    <tr>\n",
              "      <th>12</th>\n",
              "      <td>40.769</td>\n",
              "      <td>-73.863</td>\n",
              "      <td>40.7330</td>\n",
              "      <td>-73.9962</td>\n",
              "      <td>10.30</td>\n",
              "      <td>2769</td>\n",
              "    </tr>\n",
              "    <tr>\n",
              "      <th>13</th>\n",
              "      <td>40.723</td>\n",
              "      <td>-73.998</td>\n",
              "      <td>40.7169</td>\n",
              "      <td>-74.0040</td>\n",
              "      <td>0.50</td>\n",
              "      <td>179</td>\n",
              "    </tr>\n",
              "    <tr>\n",
              "      <th>14</th>\n",
              "      <td>40.734</td>\n",
              "      <td>-73.998</td>\n",
              "      <td>40.7634</td>\n",
              "      <td>-73.9851</td>\n",
              "      <td>2.40</td>\n",
              "      <td>1142</td>\n",
              "    </tr>\n",
              "    <tr>\n",
              "      <th>15</th>\n",
              "      <td>40.744</td>\n",
              "      <td>-73.988</td>\n",
              "      <td>40.7554</td>\n",
              "      <td>-73.9758</td>\n",
              "      <td>1.20</td>\n",
              "      <td>720</td>\n",
              "    </tr>\n",
              "    <tr>\n",
              "      <th>16</th>\n",
              "      <td>40.756</td>\n",
              "      <td>-73.975</td>\n",
              "      <td>40.7516</td>\n",
              "      <td>-73.9748</td>\n",
              "      <td>0.40</td>\n",
              "      <td>303</td>\n",
              "    </tr>\n",
              "    <tr>\n",
              "      <th>17</th>\n",
              "      <td>40.780</td>\n",
              "      <td>-73.955</td>\n",
              "      <td>40.7889</td>\n",
              "      <td>-73.9530</td>\n",
              "      <td>1.30</td>\n",
              "      <td>433</td>\n",
              "    </tr>\n",
              "    <tr>\n",
              "      <th>18</th>\n",
              "      <td>40.760</td>\n",
              "      <td>-73.965</td>\n",
              "      <td>40.7214</td>\n",
              "      <td>-73.9926</td>\n",
              "      <td>3.00</td>\n",
              "      <td>847</td>\n",
              "    </tr>\n",
              "    <tr>\n",
              "      <th>19</th>\n",
              "      <td>40.752</td>\n",
              "      <td>-73.986</td>\n",
              "      <td>40.7539</td>\n",
              "      <td>-73.9706</td>\n",
              "      <td>1.00</td>\n",
              "      <td>528</td>\n",
              "    </tr>\n",
              "    <tr>\n",
              "      <th>20</th>\n",
              "      <td>40.742</td>\n",
              "      <td>-73.985</td>\n",
              "      <td>40.7602</td>\n",
              "      <td>-73.9876</td>\n",
              "      <td>1.80</td>\n",
              "      <td>1197</td>\n",
              "    </tr>\n",
              "    <tr>\n",
              "      <th>21</th>\n",
              "      <td>40.774</td>\n",
              "      <td>-73.948</td>\n",
              "      <td>40.7399</td>\n",
              "      <td>-73.9955</td>\n",
              "      <td>4.80</td>\n",
              "      <td>1384</td>\n",
              "    </tr>\n",
              "    <tr>\n",
              "      <th>22</th>\n",
              "      <td>40.720</td>\n",
              "      <td>-74.010</td>\n",
              "      <td>40.7387</td>\n",
              "      <td>-74.0025</td>\n",
              "      <td>1.60</td>\n",
              "      <td>480</td>\n",
              "    </tr>\n",
              "    <tr>\n",
              "      <th>23</th>\n",
              "      <td>40.753</td>\n",
              "      <td>-74.004</td>\n",
              "      <td>40.7393</td>\n",
              "      <td>-73.9871</td>\n",
              "      <td>1.60</td>\n",
              "      <td>843</td>\n",
              "    </tr>\n",
              "    <tr>\n",
              "      <th>24</th>\n",
              "      <td>40.742</td>\n",
              "      <td>-74.008</td>\n",
              "      <td>40.7425</td>\n",
              "      <td>-73.9848</td>\n",
              "      <td>1.60</td>\n",
              "      <td>723</td>\n",
              "    </tr>\n",
              "    <tr>\n",
              "      <th>25</th>\n",
              "      <td>40.763</td>\n",
              "      <td>-73.986</td>\n",
              "      <td>40.7994</td>\n",
              "      <td>-73.9674</td>\n",
              "      <td>3.00</td>\n",
              "      <td>731</td>\n",
              "    </tr>\n",
              "    <tr>\n",
              "      <th>26</th>\n",
              "      <td>40.782</td>\n",
              "      <td>-73.956</td>\n",
              "      <td>40.7641</td>\n",
              "      <td>-73.9609</td>\n",
              "      <td>1.60</td>\n",
              "      <td>556</td>\n",
              "    </tr>\n",
              "    <tr>\n",
              "      <th>28</th>\n",
              "      <td>40.753</td>\n",
              "      <td>-73.978</td>\n",
              "      <td>40.7463</td>\n",
              "      <td>-74.0007</td>\n",
              "      <td>1.90</td>\n",
              "      <td>720</td>\n",
              "    </tr>\n",
              "    <tr>\n",
              "      <th>29</th>\n",
              "      <td>40.725</td>\n",
              "      <td>-73.996</td>\n",
              "      <td>40.7417</td>\n",
              "      <td>-73.9937</td>\n",
              "      <td>1.40</td>\n",
              "      <td>377</td>\n",
              "    </tr>\n",
              "    <tr>\n",
              "      <th>30</th>\n",
              "      <td>40.641</td>\n",
              "      <td>-73.787</td>\n",
              "      <td>40.6368</td>\n",
              "      <td>-74.0257</td>\n",
              "      <td>22.40</td>\n",
              "      <td>1793</td>\n",
              "    </tr>\n",
              "    <tr>\n",
              "      <th>31</th>\n",
              "      <td>40.726</td>\n",
              "      <td>-73.977</td>\n",
              "      <td>40.7523</td>\n",
              "      <td>-73.9772</td>\n",
              "      <td>2.20</td>\n",
              "      <td>411</td>\n",
              "    </tr>\n",
              "    <tr>\n",
              "      <th>...</th>\n",
              "      <td>...</td>\n",
              "      <td>...</td>\n",
              "      <td>...</td>\n",
              "      <td>...</td>\n",
              "      <td>...</td>\n",
              "      <td>...</td>\n",
              "    </tr>\n",
              "    <tr>\n",
              "      <th>15101740</th>\n",
              "      <td>40.761</td>\n",
              "      <td>-73.976</td>\n",
              "      <td>40.7675</td>\n",
              "      <td>-73.9862</td>\n",
              "      <td>1.00</td>\n",
              "      <td>540</td>\n",
              "    </tr>\n",
              "    <tr>\n",
              "      <th>15101741</th>\n",
              "      <td>40.759</td>\n",
              "      <td>-73.973</td>\n",
              "      <td>40.7112</td>\n",
              "      <td>-74.0054</td>\n",
              "      <td>4.27</td>\n",
              "      <td>1200</td>\n",
              "    </tr>\n",
              "    <tr>\n",
              "      <th>15101742</th>\n",
              "      <td>40.738</td>\n",
              "      <td>-73.988</td>\n",
              "      <td>40.7496</td>\n",
              "      <td>-73.9877</td>\n",
              "      <td>2.04</td>\n",
              "      <td>480</td>\n",
              "    </tr>\n",
              "    <tr>\n",
              "      <th>15101743</th>\n",
              "      <td>40.719</td>\n",
              "      <td>-73.990</td>\n",
              "      <td>40.7116</td>\n",
              "      <td>-73.9632</td>\n",
              "      <td>1.94</td>\n",
              "      <td>300</td>\n",
              "    </tr>\n",
              "    <tr>\n",
              "      <th>15101744</th>\n",
              "      <td>40.779</td>\n",
              "      <td>-73.956</td>\n",
              "      <td>40.7953</td>\n",
              "      <td>-73.9759</td>\n",
              "      <td>2.00</td>\n",
              "      <td>480</td>\n",
              "    </tr>\n",
              "    <tr>\n",
              "      <th>15101745</th>\n",
              "      <td>40.745</td>\n",
              "      <td>-73.981</td>\n",
              "      <td>40.7557</td>\n",
              "      <td>-73.9909</td>\n",
              "      <td>1.28</td>\n",
              "      <td>540</td>\n",
              "    </tr>\n",
              "    <tr>\n",
              "      <th>15101746</th>\n",
              "      <td>40.753</td>\n",
              "      <td>-74.004</td>\n",
              "      <td>40.7224</td>\n",
              "      <td>-73.9972</td>\n",
              "      <td>2.73</td>\n",
              "      <td>1020</td>\n",
              "    </tr>\n",
              "    <tr>\n",
              "      <th>15101747</th>\n",
              "      <td>40.761</td>\n",
              "      <td>-73.967</td>\n",
              "      <td>40.8291</td>\n",
              "      <td>-73.9430</td>\n",
              "      <td>7.65</td>\n",
              "      <td>1440</td>\n",
              "    </tr>\n",
              "    <tr>\n",
              "      <th>15101750</th>\n",
              "      <td>40.764</td>\n",
              "      <td>-73.976</td>\n",
              "      <td>40.7515</td>\n",
              "      <td>-73.9903</td>\n",
              "      <td>1.36</td>\n",
              "      <td>480</td>\n",
              "    </tr>\n",
              "    <tr>\n",
              "      <th>15101751</th>\n",
              "      <td>40.778</td>\n",
              "      <td>-73.955</td>\n",
              "      <td>40.8039</td>\n",
              "      <td>-73.9671</td>\n",
              "      <td>2.71</td>\n",
              "      <td>780</td>\n",
              "    </tr>\n",
              "    <tr>\n",
              "      <th>15101752</th>\n",
              "      <td>40.767</td>\n",
              "      <td>-73.967</td>\n",
              "      <td>40.7588</td>\n",
              "      <td>-73.9643</td>\n",
              "      <td>1.05</td>\n",
              "      <td>540</td>\n",
              "    </tr>\n",
              "    <tr>\n",
              "      <th>15101753</th>\n",
              "      <td>40.704</td>\n",
              "      <td>-74.015</td>\n",
              "      <td>40.7155</td>\n",
              "      <td>-74.0146</td>\n",
              "      <td>1.03</td>\n",
              "      <td>240</td>\n",
              "    </tr>\n",
              "    <tr>\n",
              "      <th>15101754</th>\n",
              "      <td>40.720</td>\n",
              "      <td>-74.007</td>\n",
              "      <td>40.6658</td>\n",
              "      <td>-73.9897</td>\n",
              "      <td>4.55</td>\n",
              "      <td>960</td>\n",
              "    </tr>\n",
              "    <tr>\n",
              "      <th>15101755</th>\n",
              "      <td>40.735</td>\n",
              "      <td>-73.995</td>\n",
              "      <td>40.7313</td>\n",
              "      <td>-73.9864</td>\n",
              "      <td>0.54</td>\n",
              "      <td>360</td>\n",
              "    </tr>\n",
              "    <tr>\n",
              "      <th>15101756</th>\n",
              "      <td>40.732</td>\n",
              "      <td>-73.986</td>\n",
              "      <td>40.7261</td>\n",
              "      <td>-73.9882</td>\n",
              "      <td>0.48</td>\n",
              "      <td>120</td>\n",
              "    </tr>\n",
              "    <tr>\n",
              "      <th>15101757</th>\n",
              "      <td>40.755</td>\n",
              "      <td>-73.973</td>\n",
              "      <td>40.7034</td>\n",
              "      <td>-74.0075</td>\n",
              "      <td>5.21</td>\n",
              "      <td>1260</td>\n",
              "    </tr>\n",
              "    <tr>\n",
              "      <th>15101758</th>\n",
              "      <td>40.767</td>\n",
              "      <td>-73.979</td>\n",
              "      <td>40.7555</td>\n",
              "      <td>-73.9876</td>\n",
              "      <td>1.01</td>\n",
              "      <td>540</td>\n",
              "    </tr>\n",
              "    <tr>\n",
              "      <th>15101759</th>\n",
              "      <td>40.719</td>\n",
              "      <td>-73.988</td>\n",
              "      <td>40.7472</td>\n",
              "      <td>-73.9773</td>\n",
              "      <td>2.54</td>\n",
              "      <td>720</td>\n",
              "    </tr>\n",
              "    <tr>\n",
              "      <th>15101760</th>\n",
              "      <td>40.796</td>\n",
              "      <td>-73.938</td>\n",
              "      <td>40.7947</td>\n",
              "      <td>-73.9394</td>\n",
              "      <td>0.16</td>\n",
              "      <td>60</td>\n",
              "    </tr>\n",
              "    <tr>\n",
              "      <th>15101761</th>\n",
              "      <td>40.761</td>\n",
              "      <td>-73.983</td>\n",
              "      <td>40.7816</td>\n",
              "      <td>-73.9810</td>\n",
              "      <td>2.24</td>\n",
              "      <td>600</td>\n",
              "    </tr>\n",
              "    <tr>\n",
              "      <th>15101762</th>\n",
              "      <td>40.768</td>\n",
              "      <td>-73.983</td>\n",
              "      <td>40.7882</td>\n",
              "      <td>-73.9811</td>\n",
              "      <td>1.75</td>\n",
              "      <td>600</td>\n",
              "    </tr>\n",
              "    <tr>\n",
              "      <th>15101763</th>\n",
              "      <td>40.756</td>\n",
              "      <td>-73.971</td>\n",
              "      <td>40.7711</td>\n",
              "      <td>-73.9596</td>\n",
              "      <td>1.23</td>\n",
              "      <td>420</td>\n",
              "    </tr>\n",
              "    <tr>\n",
              "      <th>15101764</th>\n",
              "      <td>40.742</td>\n",
              "      <td>-73.985</td>\n",
              "      <td>40.7547</td>\n",
              "      <td>-73.9815</td>\n",
              "      <td>1.07</td>\n",
              "      <td>780</td>\n",
              "    </tr>\n",
              "    <tr>\n",
              "      <th>15101765</th>\n",
              "      <td>40.786</td>\n",
              "      <td>-73.953</td>\n",
              "      <td>40.7741</td>\n",
              "      <td>-73.9590</td>\n",
              "      <td>1.00</td>\n",
              "      <td>300</td>\n",
              "    </tr>\n",
              "    <tr>\n",
              "      <th>15101766</th>\n",
              "      <td>40.738</td>\n",
              "      <td>-73.974</td>\n",
              "      <td>40.7323</td>\n",
              "      <td>-73.9808</td>\n",
              "      <td>1.17</td>\n",
              "      <td>300</td>\n",
              "    </tr>\n",
              "    <tr>\n",
              "      <th>15101767</th>\n",
              "      <td>40.793</td>\n",
              "      <td>-73.968</td>\n",
              "      <td>40.7715</td>\n",
              "      <td>-73.9770</td>\n",
              "      <td>1.61</td>\n",
              "      <td>480</td>\n",
              "    </tr>\n",
              "    <tr>\n",
              "      <th>15101768</th>\n",
              "      <td>40.753</td>\n",
              "      <td>-73.978</td>\n",
              "      <td>40.7665</td>\n",
              "      <td>-73.9905</td>\n",
              "      <td>1.61</td>\n",
              "      <td>1080</td>\n",
              "    </tr>\n",
              "    <tr>\n",
              "      <th>15101769</th>\n",
              "      <td>40.647</td>\n",
              "      <td>-73.781</td>\n",
              "      <td>40.7629</td>\n",
              "      <td>-73.9823</td>\n",
              "      <td>18.26</td>\n",
              "      <td>3120</td>\n",
              "    </tr>\n",
              "    <tr>\n",
              "      <th>15101770</th>\n",
              "      <td>40.735</td>\n",
              "      <td>-73.980</td>\n",
              "      <td>40.7631</td>\n",
              "      <td>-73.9819</td>\n",
              "      <td>2.67</td>\n",
              "      <td>960</td>\n",
              "    </tr>\n",
              "    <tr>\n",
              "      <th>15101771</th>\n",
              "      <td>40.765</td>\n",
              "      <td>-73.955</td>\n",
              "      <td>40.7312</td>\n",
              "      <td>-73.9821</td>\n",
              "      <td>3.30</td>\n",
              "      <td>840</td>\n",
              "    </tr>\n",
              "  </tbody>\n",
              "</table>\n",
              "<p>14688889 rows × 6 columns</p>\n",
              "</div>"
            ],
            "text/plain": [
              "          pickup_lat  pickup_lon  dropoff_lat  dropoff_lon  distance  time\n",
              "0             40.765     -73.958      40.7856     -73.9763      2.50   759\n",
              "2             40.755     -73.983      40.7154     -74.0092      3.60  1318\n",
              "3             40.763     -73.978      40.7766     -73.9557      1.90   799\n",
              "4             40.745     -74.006      40.7611     -73.9617      3.60  1017\n",
              "5             40.755     -73.985      40.7480     -73.9908      0.70   189\n",
              "6             40.763     -73.985      40.7511     -73.9789      1.20   354\n",
              "7             40.746     -73.980      40.7562     -74.0027      1.60   452\n",
              "8             40.761     -73.978      40.7594     -73.9846      0.40   635\n",
              "9             40.765     -73.961      40.7560     -73.9885      2.40  1048\n",
              "10            40.748     -73.989      40.7712     -73.9821      1.10   439\n",
              "11            40.793     -73.975      40.7539     -73.9729      3.60  2415\n",
              "12            40.769     -73.863      40.7330     -73.9962     10.30  2769\n",
              "13            40.723     -73.998      40.7169     -74.0040      0.50   179\n",
              "14            40.734     -73.998      40.7634     -73.9851      2.40  1142\n",
              "15            40.744     -73.988      40.7554     -73.9758      1.20   720\n",
              "16            40.756     -73.975      40.7516     -73.9748      0.40   303\n",
              "17            40.780     -73.955      40.7889     -73.9530      1.30   433\n",
              "18            40.760     -73.965      40.7214     -73.9926      3.00   847\n",
              "19            40.752     -73.986      40.7539     -73.9706      1.00   528\n",
              "20            40.742     -73.985      40.7602     -73.9876      1.80  1197\n",
              "21            40.774     -73.948      40.7399     -73.9955      4.80  1384\n",
              "22            40.720     -74.010      40.7387     -74.0025      1.60   480\n",
              "23            40.753     -74.004      40.7393     -73.9871      1.60   843\n",
              "24            40.742     -74.008      40.7425     -73.9848      1.60   723\n",
              "25            40.763     -73.986      40.7994     -73.9674      3.00   731\n",
              "26            40.782     -73.956      40.7641     -73.9609      1.60   556\n",
              "28            40.753     -73.978      40.7463     -74.0007      1.90   720\n",
              "29            40.725     -73.996      40.7417     -73.9937      1.40   377\n",
              "30            40.641     -73.787      40.6368     -74.0257     22.40  1793\n",
              "31            40.726     -73.977      40.7523     -73.9772      2.20   411\n",
              "...              ...         ...          ...          ...       ...   ...\n",
              "15101740      40.761     -73.976      40.7675     -73.9862      1.00   540\n",
              "15101741      40.759     -73.973      40.7112     -74.0054      4.27  1200\n",
              "15101742      40.738     -73.988      40.7496     -73.9877      2.04   480\n",
              "15101743      40.719     -73.990      40.7116     -73.9632      1.94   300\n",
              "15101744      40.779     -73.956      40.7953     -73.9759      2.00   480\n",
              "15101745      40.745     -73.981      40.7557     -73.9909      1.28   540\n",
              "15101746      40.753     -74.004      40.7224     -73.9972      2.73  1020\n",
              "15101747      40.761     -73.967      40.8291     -73.9430      7.65  1440\n",
              "15101750      40.764     -73.976      40.7515     -73.9903      1.36   480\n",
              "15101751      40.778     -73.955      40.8039     -73.9671      2.71   780\n",
              "15101752      40.767     -73.967      40.7588     -73.9643      1.05   540\n",
              "15101753      40.704     -74.015      40.7155     -74.0146      1.03   240\n",
              "15101754      40.720     -74.007      40.6658     -73.9897      4.55   960\n",
              "15101755      40.735     -73.995      40.7313     -73.9864      0.54   360\n",
              "15101756      40.732     -73.986      40.7261     -73.9882      0.48   120\n",
              "15101757      40.755     -73.973      40.7034     -74.0075      5.21  1260\n",
              "15101758      40.767     -73.979      40.7555     -73.9876      1.01   540\n",
              "15101759      40.719     -73.988      40.7472     -73.9773      2.54   720\n",
              "15101760      40.796     -73.938      40.7947     -73.9394      0.16    60\n",
              "15101761      40.761     -73.983      40.7816     -73.9810      2.24   600\n",
              "15101762      40.768     -73.983      40.7882     -73.9811      1.75   600\n",
              "15101763      40.756     -73.971      40.7711     -73.9596      1.23   420\n",
              "15101764      40.742     -73.985      40.7547     -73.9815      1.07   780\n",
              "15101765      40.786     -73.953      40.7741     -73.9590      1.00   300\n",
              "15101766      40.738     -73.974      40.7323     -73.9808      1.17   300\n",
              "15101767      40.793     -73.968      40.7715     -73.9770      1.61   480\n",
              "15101768      40.753     -73.978      40.7665     -73.9905      1.61  1080\n",
              "15101769      40.647     -73.781      40.7629     -73.9823     18.26  3120\n",
              "15101770      40.735     -73.980      40.7631     -73.9819      2.67   960\n",
              "15101771      40.765     -73.955      40.7312     -73.9821      3.30   840\n",
              "\n",
              "[14688889 rows x 6 columns]"
            ]
          },
          "metadata": {
            "tags": []
          },
          "execution_count": 102
        }
      ]
    },
    {
      "cell_type": "markdown",
      "metadata": {
        "id": "Ptpq72Vpwu8a",
        "colab_type": "text"
      },
      "source": [
        "#### Question 9 : Which trip has most consistent fares?\n"
      ]
    },
    {
      "cell_type": "markdown",
      "metadata": {
        "id": "EvtkstGZ7-sg",
        "colab_type": "text"
      },
      "source": [
        "* select the required variables and create a dataframe *"
      ]
    },
    {
      "cell_type": "code",
      "metadata": {
        "id": "PekuFPNGut_M",
        "colab_type": "code",
        "outputId": "58e69aba-b42c-4ce6-e213-ab306a5458dc",
        "colab": {
          "base_uri": "https://localhost:8080/",
          "height": 197
        }
      },
      "source": [
        "#Create dataframe with selected variables\n",
        "trip_distances = pd.DataFrame({\n",
        "    'pickup_lat': df.pickup_latitude.round(4),\n",
        "    'pickup_lon': df.pickup_longitude.round(4),\n",
        "    'dropoff_lat': df.dropoff_latitude.round(4),\n",
        "    'dropoff_lon': df.dropoff_longitude.round(4),\n",
        "    'distance': df.trip_distance,\n",
        "    'fare': df.fare_amount\n",
        "})\n",
        "trip_distances.head()"
      ],
      "execution_count": 0,
      "outputs": [
        {
          "output_type": "execute_result",
          "data": {
            "text/html": [
              "<div>\n",
              "<style scoped>\n",
              "    .dataframe tbody tr th:only-of-type {\n",
              "        vertical-align: middle;\n",
              "    }\n",
              "\n",
              "    .dataframe tbody tr th {\n",
              "        vertical-align: top;\n",
              "    }\n",
              "\n",
              "    .dataframe thead th {\n",
              "        text-align: right;\n",
              "    }\n",
              "</style>\n",
              "<table border=\"1\" class=\"dataframe\">\n",
              "  <thead>\n",
              "    <tr style=\"text-align: right;\">\n",
              "      <th></th>\n",
              "      <th>pickup_lat</th>\n",
              "      <th>pickup_lon</th>\n",
              "      <th>dropoff_lat</th>\n",
              "      <th>dropoff_lon</th>\n",
              "      <th>distance</th>\n",
              "      <th>fare</th>\n",
              "    </tr>\n",
              "  </thead>\n",
              "  <tbody>\n",
              "    <tr>\n",
              "      <th>0</th>\n",
              "      <td>40.765</td>\n",
              "      <td>-73.958</td>\n",
              "      <td>40.7856</td>\n",
              "      <td>-73.9763</td>\n",
              "      <td>2.5</td>\n",
              "      <td>11.0</td>\n",
              "    </tr>\n",
              "    <tr>\n",
              "      <th>2</th>\n",
              "      <td>40.755</td>\n",
              "      <td>-73.983</td>\n",
              "      <td>40.7154</td>\n",
              "      <td>-74.0092</td>\n",
              "      <td>3.6</td>\n",
              "      <td>16.5</td>\n",
              "    </tr>\n",
              "    <tr>\n",
              "      <th>3</th>\n",
              "      <td>40.763</td>\n",
              "      <td>-73.978</td>\n",
              "      <td>40.7766</td>\n",
              "      <td>-73.9557</td>\n",
              "      <td>1.9</td>\n",
              "      <td>10.0</td>\n",
              "    </tr>\n",
              "    <tr>\n",
              "      <th>4</th>\n",
              "      <td>40.745</td>\n",
              "      <td>-74.006</td>\n",
              "      <td>40.7611</td>\n",
              "      <td>-73.9617</td>\n",
              "      <td>3.6</td>\n",
              "      <td>15.0</td>\n",
              "    </tr>\n",
              "    <tr>\n",
              "      <th>5</th>\n",
              "      <td>40.755</td>\n",
              "      <td>-73.985</td>\n",
              "      <td>40.7480</td>\n",
              "      <td>-73.9908</td>\n",
              "      <td>0.7</td>\n",
              "      <td>4.5</td>\n",
              "    </tr>\n",
              "  </tbody>\n",
              "</table>\n",
              "</div>"
            ],
            "text/plain": [
              "   pickup_lat  pickup_lon  dropoff_lat  dropoff_lon  distance  fare\n",
              "0      40.765     -73.958      40.7856     -73.9763       2.5  11.0\n",
              "2      40.755     -73.983      40.7154     -74.0092       3.6  16.5\n",
              "3      40.763     -73.978      40.7766     -73.9557       1.9  10.0\n",
              "4      40.745     -74.006      40.7611     -73.9617       3.6  15.0\n",
              "5      40.755     -73.985      40.7480     -73.9908       0.7   4.5"
            ]
          },
          "metadata": {
            "tags": []
          },
          "execution_count": 112
        }
      ]
    },
    {
      "cell_type": "markdown",
      "metadata": {
        "id": "45_XplOS8PGm",
        "colab_type": "text"
      },
      "source": [
        "* Calculate the summary (Count, mean and std) for time fare amount and distance of the drip *"
      ]
    },
    {
      "cell_type": "code",
      "metadata": {
        "id": "IwsKXsOBvHir",
        "colab_type": "code",
        "outputId": "82271b01-f7ab-4e09-842f-6d87fc3a904b",
        "colab": {
          "base_uri": "https://localhost:8080/",
          "height": 70
        }
      },
      "source": [
        "## . Create summary statistics\n",
        "agg_vals_fare = trip_distances.groupby([\n",
        "    'pickup_lat',\n",
        "    'pickup_lon',\n",
        "    'dropoff_lat',\n",
        "    'dropoff_lon'\n",
        "]).agg([\n",
        "    'mean',\n",
        "    'std',\n",
        "    'count'\n",
        "])\n",
        "agg_vals_fare = agg_vals_fare.dropna()\n",
        "agg_vals_fare.columns = ['_'.join(v) for v in agg_vals_fare.columns.values]\n",
        "agg_vals_fare.columns"
      ],
      "execution_count": 0,
      "outputs": [
        {
          "output_type": "execute_result",
          "data": {
            "text/plain": [
              "Index(['distance_mean', 'distance_std', 'distance_count', 'fare_mean',\n",
              "       'fare_std', 'fare_count'],\n",
              "      dtype='object')"
            ]
          },
          "metadata": {
            "tags": []
          },
          "execution_count": 115
        }
      ]
    },
    {
      "cell_type": "markdown",
      "metadata": {
        "id": "CKD6NKzJ8gP4",
        "colab_type": "text"
      },
      "source": [
        "* Calculate normalized std for distance and fare. The long distance trips can have more variation, and this is why we created the normalized std to find the actual deviation."
      ]
    },
    {
      "cell_type": "code",
      "metadata": {
        "id": "ligZ9uvmvn0x",
        "colab_type": "code",
        "colab": {}
      },
      "source": [
        "## created normalized metrics\n",
        "agg_vals_fare['fare_std_normalised'] = agg_vals_fare.fare_std / agg_vals_fare.fare_mean\n",
        "agg_vals_fare['distance_std_normalised'] = agg_vals_fare.distance_std / agg_vals_fare.distance_mean"
      ],
      "execution_count": 0,
      "outputs": []
    },
    {
      "cell_type": "code",
      "metadata": {
        "id": "xMONcnQ6w-7v",
        "colab_type": "code",
        "colab": {}
      },
      "source": [
        "## Removed NA's\n",
        "agg_clean_fare = agg_vals_fare.dropna()"
      ],
      "execution_count": 0,
      "outputs": []
    },
    {
      "cell_type": "code",
      "metadata": {
        "id": "f1TEC15FxI45",
        "colab_type": "code",
        "outputId": "f2b44c55-3182-41d4-e804-3f6932d4c857",
        "colab": {
          "base_uri": "https://localhost:8080/",
          "height": 1000
        }
      },
      "source": [
        "## Sorted to find the lowest variation in fare\n",
        "agg_clean_fare.sort_values(by=['fare_std_normalised'], ascending=True)"
      ],
      "execution_count": 0,
      "outputs": [
        {
          "output_type": "execute_result",
          "data": {
            "text/html": [
              "<div>\n",
              "<style scoped>\n",
              "    .dataframe tbody tr th:only-of-type {\n",
              "        vertical-align: middle;\n",
              "    }\n",
              "\n",
              "    .dataframe tbody tr th {\n",
              "        vertical-align: top;\n",
              "    }\n",
              "\n",
              "    .dataframe thead th {\n",
              "        text-align: right;\n",
              "    }\n",
              "</style>\n",
              "<table border=\"1\" class=\"dataframe\">\n",
              "  <thead>\n",
              "    <tr style=\"text-align: right;\">\n",
              "      <th></th>\n",
              "      <th></th>\n",
              "      <th></th>\n",
              "      <th></th>\n",
              "      <th>distance_mean</th>\n",
              "      <th>distance_std</th>\n",
              "      <th>distance_count</th>\n",
              "      <th>fare_mean</th>\n",
              "      <th>fare_std</th>\n",
              "      <th>fare_count</th>\n",
              "      <th>fare_std_normalised</th>\n",
              "      <th>distance_std_normalised</th>\n",
              "    </tr>\n",
              "    <tr>\n",
              "      <th>pickup_lat</th>\n",
              "      <th>pickup_lon</th>\n",
              "      <th>dropoff_lat</th>\n",
              "      <th>dropoff_lon</th>\n",
              "      <th></th>\n",
              "      <th></th>\n",
              "      <th></th>\n",
              "      <th></th>\n",
              "      <th></th>\n",
              "      <th></th>\n",
              "      <th></th>\n",
              "      <th></th>\n",
              "    </tr>\n",
              "  </thead>\n",
              "  <tbody>\n",
              "    <tr>\n",
              "      <th>40.556</th>\n",
              "      <th>-74.278</th>\n",
              "      <th>40.5558</th>\n",
              "      <th>-74.2782</th>\n",
              "      <td>3.600000</td>\n",
              "      <td>0.000000</td>\n",
              "      <td>2</td>\n",
              "      <td>52.000000</td>\n",
              "      <td>0.000000</td>\n",
              "      <td>2</td>\n",
              "      <td>0.000000</td>\n",
              "      <td>0.000000</td>\n",
              "    </tr>\n",
              "    <tr>\n",
              "      <th rowspan=\"3\" valign=\"top\">40.749</th>\n",
              "      <th rowspan=\"3\" valign=\"top\">-73.975</th>\n",
              "      <th>40.7666</th>\n",
              "      <th>-73.9569</th>\n",
              "      <td>1.815000</td>\n",
              "      <td>0.021213</td>\n",
              "      <td>2</td>\n",
              "      <td>7.000000</td>\n",
              "      <td>0.000000</td>\n",
              "      <td>2</td>\n",
              "      <td>0.000000</td>\n",
              "      <td>0.011688</td>\n",
              "    </tr>\n",
              "    <tr>\n",
              "      <th>40.7659</th>\n",
              "      <th>-73.9691</th>\n",
              "      <td>1.415000</td>\n",
              "      <td>0.021213</td>\n",
              "      <td>2</td>\n",
              "      <td>7.000000</td>\n",
              "      <td>0.000000</td>\n",
              "      <td>2</td>\n",
              "      <td>0.000000</td>\n",
              "      <td>0.014992</td>\n",
              "    </tr>\n",
              "    <tr>\n",
              "      <th>40.7649</th>\n",
              "      <th>-73.9572</th>\n",
              "      <td>1.695000</td>\n",
              "      <td>0.007071</td>\n",
              "      <td>2</td>\n",
              "      <td>8.000000</td>\n",
              "      <td>0.000000</td>\n",
              "      <td>2</td>\n",
              "      <td>0.000000</td>\n",
              "      <td>0.004172</td>\n",
              "    </tr>\n",
              "    <tr>\n",
              "      <th>40.791</th>\n",
              "      <th>-73.942</th>\n",
              "      <th>40.7974</th>\n",
              "      <th>-73.9485</th>\n",
              "      <td>0.770000</td>\n",
              "      <td>0.026458</td>\n",
              "      <td>3</td>\n",
              "      <td>5.000000</td>\n",
              "      <td>0.000000</td>\n",
              "      <td>3</td>\n",
              "      <td>0.000000</td>\n",
              "      <td>0.034360</td>\n",
              "    </tr>\n",
              "    <tr>\n",
              "      <th rowspan=\"2\" valign=\"top\">40.749</th>\n",
              "      <th rowspan=\"2\" valign=\"top\">-73.975</th>\n",
              "      <th>40.7609</th>\n",
              "      <th>-73.9672</th>\n",
              "      <td>0.805000</td>\n",
              "      <td>0.148492</td>\n",
              "      <td>2</td>\n",
              "      <td>6.000000</td>\n",
              "      <td>0.000000</td>\n",
              "      <td>2</td>\n",
              "      <td>0.000000</td>\n",
              "      <td>0.184463</td>\n",
              "    </tr>\n",
              "    <tr>\n",
              "      <th>40.7608</th>\n",
              "      <th>-73.9736</th>\n",
              "      <td>0.950000</td>\n",
              "      <td>0.070711</td>\n",
              "      <td>2</td>\n",
              "      <td>5.500000</td>\n",
              "      <td>0.000000</td>\n",
              "      <td>2</td>\n",
              "      <td>0.000000</td>\n",
              "      <td>0.074432</td>\n",
              "    </tr>\n",
              "    <tr>\n",
              "      <th rowspan=\"2\" valign=\"top\">40.791</th>\n",
              "      <th rowspan=\"2\" valign=\"top\">-73.942</th>\n",
              "      <th>40.7917</th>\n",
              "      <th>-73.9466</th>\n",
              "      <td>0.520000</td>\n",
              "      <td>0.000000</td>\n",
              "      <td>2</td>\n",
              "      <td>4.000000</td>\n",
              "      <td>0.000000</td>\n",
              "      <td>2</td>\n",
              "      <td>0.000000</td>\n",
              "      <td>0.000000</td>\n",
              "    </tr>\n",
              "    <tr>\n",
              "      <th>40.7908</th>\n",
              "      <th>-73.9489</th>\n",
              "      <td>0.450000</td>\n",
              "      <td>0.070711</td>\n",
              "      <td>2</td>\n",
              "      <td>4.500000</td>\n",
              "      <td>0.000000</td>\n",
              "      <td>2</td>\n",
              "      <td>0.000000</td>\n",
              "      <td>0.157135</td>\n",
              "    </tr>\n",
              "    <tr>\n",
              "      <th>40.749</th>\n",
              "      <th>-73.975</th>\n",
              "      <th>40.7592</th>\n",
              "      <th>-73.9732</th>\n",
              "      <td>0.825000</td>\n",
              "      <td>0.035355</td>\n",
              "      <td>2</td>\n",
              "      <td>7.000000</td>\n",
              "      <td>0.000000</td>\n",
              "      <td>2</td>\n",
              "      <td>0.000000</td>\n",
              "      <td>0.042855</td>\n",
              "    </tr>\n",
              "    <tr>\n",
              "      <th>40.777</th>\n",
              "      <th>-73.946</th>\n",
              "      <th>40.7774</th>\n",
              "      <th>-73.9505</th>\n",
              "      <td>0.280000</td>\n",
              "      <td>0.113137</td>\n",
              "      <td>2</td>\n",
              "      <td>4.000000</td>\n",
              "      <td>0.000000</td>\n",
              "      <td>2</td>\n",
              "      <td>0.000000</td>\n",
              "      <td>0.404061</td>\n",
              "    </tr>\n",
              "    <tr>\n",
              "      <th>40.749</th>\n",
              "      <th>-73.975</th>\n",
              "      <th>40.7575</th>\n",
              "      <th>-73.9692</th>\n",
              "      <td>0.650000</td>\n",
              "      <td>0.070711</td>\n",
              "      <td>2</td>\n",
              "      <td>4.500000</td>\n",
              "      <td>0.000000</td>\n",
              "      <td>2</td>\n",
              "      <td>0.000000</td>\n",
              "      <td>0.108786</td>\n",
              "    </tr>\n",
              "    <tr>\n",
              "      <th>40.777</th>\n",
              "      <th>-73.946</th>\n",
              "      <th>40.7783</th>\n",
              "      <th>-73.9526</th>\n",
              "      <td>0.425000</td>\n",
              "      <td>0.035355</td>\n",
              "      <td>2</td>\n",
              "      <td>3.500000</td>\n",
              "      <td>0.000000</td>\n",
              "      <td>2</td>\n",
              "      <td>0.000000</td>\n",
              "      <td>0.083189</td>\n",
              "    </tr>\n",
              "    <tr>\n",
              "      <th>40.749</th>\n",
              "      <th>-73.975</th>\n",
              "      <th>40.7571</th>\n",
              "      <th>-73.9700</th>\n",
              "      <td>2.000000</td>\n",
              "      <td>1.979899</td>\n",
              "      <td>2</td>\n",
              "      <td>4.000000</td>\n",
              "      <td>0.000000</td>\n",
              "      <td>2</td>\n",
              "      <td>0.000000</td>\n",
              "      <td>0.989949</td>\n",
              "    </tr>\n",
              "    <tr>\n",
              "      <th>40.777</th>\n",
              "      <th>-73.946</th>\n",
              "      <th>40.7789</th>\n",
              "      <th>-73.9601</th>\n",
              "      <td>0.950000</td>\n",
              "      <td>0.014142</td>\n",
              "      <td>2</td>\n",
              "      <td>6.500000</td>\n",
              "      <td>0.000000</td>\n",
              "      <td>2</td>\n",
              "      <td>0.000000</td>\n",
              "      <td>0.014886</td>\n",
              "    </tr>\n",
              "    <tr>\n",
              "      <th rowspan=\"3\" valign=\"top\">40.749</th>\n",
              "      <th rowspan=\"3\" valign=\"top\">-73.975</th>\n",
              "      <th>40.7571</th>\n",
              "      <th>-73.9718</th>\n",
              "      <td>0.625000</td>\n",
              "      <td>0.021213</td>\n",
              "      <td>2</td>\n",
              "      <td>5.000000</td>\n",
              "      <td>0.000000</td>\n",
              "      <td>2</td>\n",
              "      <td>0.000000</td>\n",
              "      <td>0.033941</td>\n",
              "    </tr>\n",
              "    <tr>\n",
              "      <th>40.7569</th>\n",
              "      <th>-73.9699</th>\n",
              "      <td>0.566667</td>\n",
              "      <td>0.057735</td>\n",
              "      <td>3</td>\n",
              "      <td>4.000000</td>\n",
              "      <td>0.000000</td>\n",
              "      <td>3</td>\n",
              "      <td>0.000000</td>\n",
              "      <td>0.101885</td>\n",
              "    </tr>\n",
              "    <tr>\n",
              "      <th>40.7568</th>\n",
              "      <th>-73.9695</th>\n",
              "      <td>0.665000</td>\n",
              "      <td>0.091924</td>\n",
              "      <td>2</td>\n",
              "      <td>5.000000</td>\n",
              "      <td>0.000000</td>\n",
              "      <td>2</td>\n",
              "      <td>0.000000</td>\n",
              "      <td>0.138231</td>\n",
              "    </tr>\n",
              "    <tr>\n",
              "      <th>40.791</th>\n",
              "      <th>-73.942</th>\n",
              "      <th>40.7992</th>\n",
              "      <th>-73.9476</th>\n",
              "      <td>1.050000</td>\n",
              "      <td>0.070711</td>\n",
              "      <td>2</td>\n",
              "      <td>6.000000</td>\n",
              "      <td>0.000000</td>\n",
              "      <td>2</td>\n",
              "      <td>0.000000</td>\n",
              "      <td>0.067344</td>\n",
              "    </tr>\n",
              "    <tr>\n",
              "      <th>40.749</th>\n",
              "      <th>-73.975</th>\n",
              "      <th>40.7564</th>\n",
              "      <th>-73.9703</th>\n",
              "      <td>0.550000</td>\n",
              "      <td>0.070711</td>\n",
              "      <td>2</td>\n",
              "      <td>4.000000</td>\n",
              "      <td>0.000000</td>\n",
              "      <td>2</td>\n",
              "      <td>0.000000</td>\n",
              "      <td>0.128565</td>\n",
              "    </tr>\n",
              "    <tr>\n",
              "      <th>40.777</th>\n",
              "      <th>-73.946</th>\n",
              "      <th>40.7755</th>\n",
              "      <th>-73.9536</th>\n",
              "      <td>0.540000</td>\n",
              "      <td>0.056569</td>\n",
              "      <td>2</td>\n",
              "      <td>4.500000</td>\n",
              "      <td>0.000000</td>\n",
              "      <td>2</td>\n",
              "      <td>0.000000</td>\n",
              "      <td>0.104757</td>\n",
              "    </tr>\n",
              "    <tr>\n",
              "      <th>40.749</th>\n",
              "      <th>-73.975</th>\n",
              "      <th>40.7718</th>\n",
              "      <th>-73.9590</th>\n",
              "      <td>1.745000</td>\n",
              "      <td>0.063640</td>\n",
              "      <td>2</td>\n",
              "      <td>7.500000</td>\n",
              "      <td>0.000000</td>\n",
              "      <td>2</td>\n",
              "      <td>0.000000</td>\n",
              "      <td>0.036470</td>\n",
              "    </tr>\n",
              "    <tr>\n",
              "      <th>40.729</th>\n",
              "      <th>-73.990</th>\n",
              "      <th>40.7473</th>\n",
              "      <th>-73.9721</th>\n",
              "      <td>1.980000</td>\n",
              "      <td>0.169706</td>\n",
              "      <td>2</td>\n",
              "      <td>9.000000</td>\n",
              "      <td>0.000000</td>\n",
              "      <td>2</td>\n",
              "      <td>0.000000</td>\n",
              "      <td>0.085710</td>\n",
              "    </tr>\n",
              "    <tr>\n",
              "      <th>40.749</th>\n",
              "      <th>-73.974</th>\n",
              "      <th>40.7406</th>\n",
              "      <th>-73.9791</th>\n",
              "      <td>0.610000</td>\n",
              "      <td>0.014142</td>\n",
              "      <td>2</td>\n",
              "      <td>4.000000</td>\n",
              "      <td>0.000000</td>\n",
              "      <td>2</td>\n",
              "      <td>0.000000</td>\n",
              "      <td>0.023184</td>\n",
              "    </tr>\n",
              "    <tr>\n",
              "      <th>40.777</th>\n",
              "      <th>-73.946</th>\n",
              "      <th>40.7734</th>\n",
              "      <th>-73.9594</th>\n",
              "      <td>1.040000</td>\n",
              "      <td>0.028284</td>\n",
              "      <td>2</td>\n",
              "      <td>6.000000</td>\n",
              "      <td>0.000000</td>\n",
              "      <td>2</td>\n",
              "      <td>0.000000</td>\n",
              "      <td>0.027196</td>\n",
              "    </tr>\n",
              "    <tr>\n",
              "      <th rowspan=\"3\" valign=\"top\">40.749</th>\n",
              "      <th rowspan=\"3\" valign=\"top\">-73.974</th>\n",
              "      <th>40.7323</th>\n",
              "      <th>-73.9850</th>\n",
              "      <td>1.355000</td>\n",
              "      <td>0.007071</td>\n",
              "      <td>2</td>\n",
              "      <td>6.000000</td>\n",
              "      <td>0.000000</td>\n",
              "      <td>2</td>\n",
              "      <td>0.000000</td>\n",
              "      <td>0.005219</td>\n",
              "    </tr>\n",
              "    <tr>\n",
              "      <th>40.7316</th>\n",
              "      <th>-73.9834</th>\n",
              "      <td>1.400000</td>\n",
              "      <td>0.000000</td>\n",
              "      <td>2</td>\n",
              "      <td>6.000000</td>\n",
              "      <td>0.000000</td>\n",
              "      <td>2</td>\n",
              "      <td>0.000000</td>\n",
              "      <td>0.000000</td>\n",
              "    </tr>\n",
              "    <tr>\n",
              "      <th>40.7312</th>\n",
              "      <th>-73.9859</th>\n",
              "      <td>1.405000</td>\n",
              "      <td>0.007071</td>\n",
              "      <td>2</td>\n",
              "      <td>6.500000</td>\n",
              "      <td>0.000000</td>\n",
              "      <td>2</td>\n",
              "      <td>0.000000</td>\n",
              "      <td>0.005033</td>\n",
              "    </tr>\n",
              "    <tr>\n",
              "      <th>40.777</th>\n",
              "      <th>-73.946</th>\n",
              "      <th>40.7736</th>\n",
              "      <th>-73.9599</th>\n",
              "      <td>1.065000</td>\n",
              "      <td>0.091924</td>\n",
              "      <td>2</td>\n",
              "      <td>5.500000</td>\n",
              "      <td>0.000000</td>\n",
              "      <td>2</td>\n",
              "      <td>0.000000</td>\n",
              "      <td>0.086314</td>\n",
              "    </tr>\n",
              "    <tr>\n",
              "      <th>40.749</th>\n",
              "      <th>-73.974</th>\n",
              "      <th>40.6878</th>\n",
              "      <th>-74.1825</th>\n",
              "      <td>18.565000</td>\n",
              "      <td>1.463711</td>\n",
              "      <td>2</td>\n",
              "      <td>73.000000</td>\n",
              "      <td>0.000000</td>\n",
              "      <td>2</td>\n",
              "      <td>0.000000</td>\n",
              "      <td>0.078843</td>\n",
              "    </tr>\n",
              "    <tr>\n",
              "      <th>...</th>\n",
              "      <th>...</th>\n",
              "      <th>...</th>\n",
              "      <th>...</th>\n",
              "      <td>...</td>\n",
              "      <td>...</td>\n",
              "      <td>...</td>\n",
              "      <td>...</td>\n",
              "      <td>...</td>\n",
              "      <td>...</td>\n",
              "      <td>...</td>\n",
              "      <td>...</td>\n",
              "    </tr>\n",
              "    <tr>\n",
              "      <th>40.764</th>\n",
              "      <th>-73.902</th>\n",
              "      <th>40.7638</th>\n",
              "      <th>-73.9020</th>\n",
              "      <td>0.562708</td>\n",
              "      <td>2.545264</td>\n",
              "      <td>48</td>\n",
              "      <td>5.633333</td>\n",
              "      <td>10.097300</td>\n",
              "      <td>48</td>\n",
              "      <td>1.792420</td>\n",
              "      <td>4.523239</td>\n",
              "    </tr>\n",
              "    <tr>\n",
              "      <th rowspan=\"2\" valign=\"top\">40.751</th>\n",
              "      <th rowspan=\"2\" valign=\"top\">-73.994</th>\n",
              "      <th rowspan=\"2\" valign=\"top\">40.7513</th>\n",
              "      <th>-73.9940</th>\n",
              "      <td>0.140588</td>\n",
              "      <td>0.289859</td>\n",
              "      <td>17</td>\n",
              "      <td>8.911765</td>\n",
              "      <td>16.242532</td>\n",
              "      <td>17</td>\n",
              "      <td>1.822594</td>\n",
              "      <td>2.061760</td>\n",
              "    </tr>\n",
              "    <tr>\n",
              "      <th>-73.9941</th>\n",
              "      <td>0.180000</td>\n",
              "      <td>0.569210</td>\n",
              "      <td>10</td>\n",
              "      <td>8.450000</td>\n",
              "      <td>15.426258</td>\n",
              "      <td>10</td>\n",
              "      <td>1.825593</td>\n",
              "      <td>3.162278</td>\n",
              "    </tr>\n",
              "    <tr>\n",
              "      <th>40.758</th>\n",
              "      <th>-73.937</th>\n",
              "      <th>40.7582</th>\n",
              "      <th>-73.9374</th>\n",
              "      <td>0.000435</td>\n",
              "      <td>0.002949</td>\n",
              "      <td>46</td>\n",
              "      <td>3.956522</td>\n",
              "      <td>7.265463</td>\n",
              "      <td>46</td>\n",
              "      <td>1.836326</td>\n",
              "      <td>6.782330</td>\n",
              "    </tr>\n",
              "    <tr>\n",
              "      <th>40.750</th>\n",
              "      <th>-73.995</th>\n",
              "      <th>40.7498</th>\n",
              "      <th>-73.9952</th>\n",
              "      <td>0.001667</td>\n",
              "      <td>0.004082</td>\n",
              "      <td>6</td>\n",
              "      <td>10.833333</td>\n",
              "      <td>20.168457</td>\n",
              "      <td>6</td>\n",
              "      <td>1.861704</td>\n",
              "      <td>2.449490</td>\n",
              "    </tr>\n",
              "    <tr>\n",
              "      <th>40.645</th>\n",
              "      <th>-73.782</th>\n",
              "      <th>40.6448</th>\n",
              "      <th>-73.7818</th>\n",
              "      <td>1.911613</td>\n",
              "      <td>5.034434</td>\n",
              "      <td>31</td>\n",
              "      <td>6.870968</td>\n",
              "      <td>12.808830</td>\n",
              "      <td>31</td>\n",
              "      <td>1.864196</td>\n",
              "      <td>2.633605</td>\n",
              "    </tr>\n",
              "    <tr>\n",
              "      <th>40.644</th>\n",
              "      <th>-73.791</th>\n",
              "      <th>40.6441</th>\n",
              "      <th>-73.7906</th>\n",
              "      <td>5.751667</td>\n",
              "      <td>8.922781</td>\n",
              "      <td>6</td>\n",
              "      <td>10.750000</td>\n",
              "      <td>20.208290</td>\n",
              "      <td>6</td>\n",
              "      <td>1.879841</td>\n",
              "      <td>1.551338</td>\n",
              "    </tr>\n",
              "    <tr>\n",
              "      <th rowspan=\"2\" valign=\"top\">40.645</th>\n",
              "      <th>-73.782</th>\n",
              "      <th>40.6447</th>\n",
              "      <th>-73.7819</th>\n",
              "      <td>2.070800</td>\n",
              "      <td>5.388807</td>\n",
              "      <td>25</td>\n",
              "      <td>7.320000</td>\n",
              "      <td>13.902098</td>\n",
              "      <td>25</td>\n",
              "      <td>1.899194</td>\n",
              "      <td>2.602283</td>\n",
              "    </tr>\n",
              "    <tr>\n",
              "      <th>-73.777</th>\n",
              "      <th>40.6467</th>\n",
              "      <th>-73.7787</th>\n",
              "      <td>2.292222</td>\n",
              "      <td>6.340908</td>\n",
              "      <td>9</td>\n",
              "      <td>8.500000</td>\n",
              "      <td>16.313338</td>\n",
              "      <td>9</td>\n",
              "      <td>1.919216</td>\n",
              "      <td>2.766271</td>\n",
              "    </tr>\n",
              "    <tr>\n",
              "      <th>40.641</th>\n",
              "      <th>-73.787</th>\n",
              "      <th>40.6413</th>\n",
              "      <th>-73.7865</th>\n",
              "      <td>1.060000</td>\n",
              "      <td>2.540840</td>\n",
              "      <td>7</td>\n",
              "      <td>9.714286</td>\n",
              "      <td>18.647737</td>\n",
              "      <td>7</td>\n",
              "      <td>1.919620</td>\n",
              "      <td>2.397019</td>\n",
              "    </tr>\n",
              "    <tr>\n",
              "      <th>40.745</th>\n",
              "      <th>-73.947</th>\n",
              "      <th>40.7449</th>\n",
              "      <th>-73.9470</th>\n",
              "      <td>0.058333</td>\n",
              "      <td>0.202073</td>\n",
              "      <td>12</td>\n",
              "      <td>13.750000</td>\n",
              "      <td>26.533427</td>\n",
              "      <td>12</td>\n",
              "      <td>1.929704</td>\n",
              "      <td>3.464102</td>\n",
              "    </tr>\n",
              "    <tr>\n",
              "      <th rowspan=\"4\" valign=\"top\">40.645</th>\n",
              "      <th rowspan=\"2\" valign=\"top\">-73.777</th>\n",
              "      <th>40.6454</th>\n",
              "      <th>-73.7767</th>\n",
              "      <td>2.522157</td>\n",
              "      <td>6.250352</td>\n",
              "      <td>51</td>\n",
              "      <td>7.696078</td>\n",
              "      <td>14.953621</td>\n",
              "      <td>51</td>\n",
              "      <td>1.943018</td>\n",
              "      <td>2.478178</td>\n",
              "    </tr>\n",
              "    <tr>\n",
              "      <th>40.6453</th>\n",
              "      <th>-73.7768</th>\n",
              "      <td>3.987500</td>\n",
              "      <td>7.678357</td>\n",
              "      <td>16</td>\n",
              "      <td>8.687500</td>\n",
              "      <td>16.907469</td>\n",
              "      <td>16</td>\n",
              "      <td>1.946183</td>\n",
              "      <td>1.925607</td>\n",
              "    </tr>\n",
              "    <tr>\n",
              "      <th rowspan=\"2\" valign=\"top\">-73.782</th>\n",
              "      <th>40.6449</th>\n",
              "      <th>-73.7815</th>\n",
              "      <td>10.505714</td>\n",
              "      <td>10.276533</td>\n",
              "      <td>7</td>\n",
              "      <td>9.571429</td>\n",
              "      <td>18.709241</td>\n",
              "      <td>7</td>\n",
              "      <td>1.954697</td>\n",
              "      <td>0.978185</td>\n",
              "    </tr>\n",
              "    <tr>\n",
              "      <th>40.6448</th>\n",
              "      <th>-73.7816</th>\n",
              "      <td>2.420000</td>\n",
              "      <td>5.779516</td>\n",
              "      <td>7</td>\n",
              "      <td>9.571429</td>\n",
              "      <td>18.709241</td>\n",
              "      <td>7</td>\n",
              "      <td>1.954697</td>\n",
              "      <td>2.388230</td>\n",
              "    </tr>\n",
              "    <tr>\n",
              "      <th rowspan=\"3\" valign=\"top\">40.745</th>\n",
              "      <th rowspan=\"3\" valign=\"top\">-73.949</th>\n",
              "      <th rowspan=\"2\" valign=\"top\">40.7447</th>\n",
              "      <th>-73.9488</th>\n",
              "      <td>0.664286</td>\n",
              "      <td>1.465819</td>\n",
              "      <td>14</td>\n",
              "      <td>6.678571</td>\n",
              "      <td>13.096692</td>\n",
              "      <td>14</td>\n",
              "      <td>1.961002</td>\n",
              "      <td>2.206610</td>\n",
              "    </tr>\n",
              "    <tr>\n",
              "      <th>-73.9491</th>\n",
              "      <td>1.240000</td>\n",
              "      <td>4.351650</td>\n",
              "      <td>15</td>\n",
              "      <td>6.433333</td>\n",
              "      <td>12.699644</td>\n",
              "      <td>15</td>\n",
              "      <td>1.974038</td>\n",
              "      <td>3.509395</td>\n",
              "    </tr>\n",
              "    <tr>\n",
              "      <th>40.7449</th>\n",
              "      <th>-73.9486</th>\n",
              "      <td>0.842424</td>\n",
              "      <td>3.569229</td>\n",
              "      <td>33</td>\n",
              "      <td>4.318182</td>\n",
              "      <td>8.589436</td>\n",
              "      <td>33</td>\n",
              "      <td>1.989133</td>\n",
              "      <td>4.236854</td>\n",
              "    </tr>\n",
              "    <tr>\n",
              "      <th rowspan=\"3\" valign=\"top\">40.645</th>\n",
              "      <th>-73.782</th>\n",
              "      <th>40.6448</th>\n",
              "      <th>-73.7820</th>\n",
              "      <td>4.500000</td>\n",
              "      <td>8.320543</td>\n",
              "      <td>8</td>\n",
              "      <td>8.687500</td>\n",
              "      <td>17.500893</td>\n",
              "      <td>8</td>\n",
              "      <td>2.014491</td>\n",
              "      <td>1.849009</td>\n",
              "    </tr>\n",
              "    <tr>\n",
              "      <th>-73.777</th>\n",
              "      <th>40.6454</th>\n",
              "      <th>-73.7768</th>\n",
              "      <td>3.745000</td>\n",
              "      <td>6.207925</td>\n",
              "      <td>22</td>\n",
              "      <td>7.045455</td>\n",
              "      <td>14.551967</td>\n",
              "      <td>22</td>\n",
              "      <td>2.065440</td>\n",
              "      <td>1.657657</td>\n",
              "    </tr>\n",
              "    <tr>\n",
              "      <th>-73.782</th>\n",
              "      <th>40.6446</th>\n",
              "      <th>-73.7819</th>\n",
              "      <td>1.293636</td>\n",
              "      <td>3.584584</td>\n",
              "      <td>11</td>\n",
              "      <td>8.863636</td>\n",
              "      <td>18.719096</td>\n",
              "      <td>11</td>\n",
              "      <td>2.111898</td>\n",
              "      <td>2.770937</td>\n",
              "    </tr>\n",
              "    <tr>\n",
              "      <th>40.649</th>\n",
              "      <th>-73.784</th>\n",
              "      <th>40.6487</th>\n",
              "      <th>-73.7836</th>\n",
              "      <td>0.181818</td>\n",
              "      <td>0.570137</td>\n",
              "      <td>11</td>\n",
              "      <td>7.000000</td>\n",
              "      <td>14.924812</td>\n",
              "      <td>11</td>\n",
              "      <td>2.132116</td>\n",
              "      <td>3.135754</td>\n",
              "    </tr>\n",
              "    <tr>\n",
              "      <th rowspan=\"3\" valign=\"top\">40.645</th>\n",
              "      <th rowspan=\"3\" valign=\"top\">-73.777</th>\n",
              "      <th>40.6458</th>\n",
              "      <th>-73.7768</th>\n",
              "      <td>0.117273</td>\n",
              "      <td>0.107805</td>\n",
              "      <td>11</td>\n",
              "      <td>7.000000</td>\n",
              "      <td>14.924812</td>\n",
              "      <td>11</td>\n",
              "      <td>2.132116</td>\n",
              "      <td>0.919263</td>\n",
              "    </tr>\n",
              "    <tr>\n",
              "      <th>40.6452</th>\n",
              "      <th>-73.7768</th>\n",
              "      <td>1.293333</td>\n",
              "      <td>4.473943</td>\n",
              "      <td>12</td>\n",
              "      <td>6.625000</td>\n",
              "      <td>14.289419</td>\n",
              "      <td>12</td>\n",
              "      <td>2.156893</td>\n",
              "      <td>3.459235</td>\n",
              "    </tr>\n",
              "    <tr>\n",
              "      <th>40.6455</th>\n",
              "      <th>-73.7767</th>\n",
              "      <td>2.508462</td>\n",
              "      <td>5.454197</td>\n",
              "      <td>13</td>\n",
              "      <td>6.346154</td>\n",
              "      <td>13.717970</td>\n",
              "      <td>13</td>\n",
              "      <td>2.161619</td>\n",
              "      <td>2.174320</td>\n",
              "    </tr>\n",
              "    <tr>\n",
              "      <th>40.745</th>\n",
              "      <th>-73.949</th>\n",
              "      <th>40.7449</th>\n",
              "      <th>-73.9489</th>\n",
              "      <td>0.245000</td>\n",
              "      <td>0.680924</td>\n",
              "      <td>20</td>\n",
              "      <td>10.925000</td>\n",
              "      <td>23.648342</td>\n",
              "      <td>20</td>\n",
              "      <td>2.164608</td>\n",
              "      <td>2.779283</td>\n",
              "    </tr>\n",
              "    <tr>\n",
              "      <th>40.753</th>\n",
              "      <th>-73.950</th>\n",
              "      <th>40.7528</th>\n",
              "      <th>-73.9503</th>\n",
              "      <td>0.060000</td>\n",
              "      <td>0.134164</td>\n",
              "      <td>5</td>\n",
              "      <td>87.150000</td>\n",
              "      <td>189.003770</td>\n",
              "      <td>5</td>\n",
              "      <td>2.168718</td>\n",
              "      <td>2.236068</td>\n",
              "    </tr>\n",
              "    <tr>\n",
              "      <th>40.740</th>\n",
              "      <th>-74.006</th>\n",
              "      <th>40.7399</th>\n",
              "      <th>-74.0061</th>\n",
              "      <td>0.021429</td>\n",
              "      <td>0.035790</td>\n",
              "      <td>7</td>\n",
              "      <td>16.857143</td>\n",
              "      <td>36.673917</td>\n",
              "      <td>7</td>\n",
              "      <td>2.175571</td>\n",
              "      <td>1.670218</td>\n",
              "    </tr>\n",
              "    <tr>\n",
              "      <th>40.745</th>\n",
              "      <th>-73.947</th>\n",
              "      <th>40.7449</th>\n",
              "      <th>-73.9471</th>\n",
              "      <td>0.085000</td>\n",
              "      <td>0.273909</td>\n",
              "      <td>20</td>\n",
              "      <td>5.025000</td>\n",
              "      <td>11.057832</td>\n",
              "      <td>20</td>\n",
              "      <td>2.200564</td>\n",
              "      <td>3.222463</td>\n",
              "    </tr>\n",
              "    <tr>\n",
              "      <th>40.645</th>\n",
              "      <th>-73.782</th>\n",
              "      <th>40.6446</th>\n",
              "      <th>-73.7822</th>\n",
              "      <td>1.769231</td>\n",
              "      <td>6.319070</td>\n",
              "      <td>13</td>\n",
              "      <td>7.115385</td>\n",
              "      <td>16.491354</td>\n",
              "      <td>13</td>\n",
              "      <td>2.317704</td>\n",
              "      <td>3.571648</td>\n",
              "    </tr>\n",
              "  </tbody>\n",
              "</table>\n",
              "<p>1010635 rows × 8 columns</p>\n",
              "</div>"
            ],
            "text/plain": [
              "                                               distance_mean  ...  distance_std_normalised\n",
              "pickup_lat pickup_lon dropoff_lat dropoff_lon                 ...                         \n",
              "40.556     -74.278    40.5558     -74.2782          3.600000  ...                 0.000000\n",
              "40.749     -73.975    40.7666     -73.9569          1.815000  ...                 0.011688\n",
              "                      40.7659     -73.9691          1.415000  ...                 0.014992\n",
              "                      40.7649     -73.9572          1.695000  ...                 0.004172\n",
              "40.791     -73.942    40.7974     -73.9485          0.770000  ...                 0.034360\n",
              "40.749     -73.975    40.7609     -73.9672          0.805000  ...                 0.184463\n",
              "                      40.7608     -73.9736          0.950000  ...                 0.074432\n",
              "40.791     -73.942    40.7917     -73.9466          0.520000  ...                 0.000000\n",
              "                      40.7908     -73.9489          0.450000  ...                 0.157135\n",
              "40.749     -73.975    40.7592     -73.9732          0.825000  ...                 0.042855\n",
              "40.777     -73.946    40.7774     -73.9505          0.280000  ...                 0.404061\n",
              "40.749     -73.975    40.7575     -73.9692          0.650000  ...                 0.108786\n",
              "40.777     -73.946    40.7783     -73.9526          0.425000  ...                 0.083189\n",
              "40.749     -73.975    40.7571     -73.9700          2.000000  ...                 0.989949\n",
              "40.777     -73.946    40.7789     -73.9601          0.950000  ...                 0.014886\n",
              "40.749     -73.975    40.7571     -73.9718          0.625000  ...                 0.033941\n",
              "                      40.7569     -73.9699          0.566667  ...                 0.101885\n",
              "                      40.7568     -73.9695          0.665000  ...                 0.138231\n",
              "40.791     -73.942    40.7992     -73.9476          1.050000  ...                 0.067344\n",
              "40.749     -73.975    40.7564     -73.9703          0.550000  ...                 0.128565\n",
              "40.777     -73.946    40.7755     -73.9536          0.540000  ...                 0.104757\n",
              "40.749     -73.975    40.7718     -73.9590          1.745000  ...                 0.036470\n",
              "40.729     -73.990    40.7473     -73.9721          1.980000  ...                 0.085710\n",
              "40.749     -73.974    40.7406     -73.9791          0.610000  ...                 0.023184\n",
              "40.777     -73.946    40.7734     -73.9594          1.040000  ...                 0.027196\n",
              "40.749     -73.974    40.7323     -73.9850          1.355000  ...                 0.005219\n",
              "                      40.7316     -73.9834          1.400000  ...                 0.000000\n",
              "                      40.7312     -73.9859          1.405000  ...                 0.005033\n",
              "40.777     -73.946    40.7736     -73.9599          1.065000  ...                 0.086314\n",
              "40.749     -73.974    40.6878     -74.1825         18.565000  ...                 0.078843\n",
              "...                                                      ...  ...                      ...\n",
              "40.764     -73.902    40.7638     -73.9020          0.562708  ...                 4.523239\n",
              "40.751     -73.994    40.7513     -73.9940          0.140588  ...                 2.061760\n",
              "                                  -73.9941          0.180000  ...                 3.162278\n",
              "40.758     -73.937    40.7582     -73.9374          0.000435  ...                 6.782330\n",
              "40.750     -73.995    40.7498     -73.9952          0.001667  ...                 2.449490\n",
              "40.645     -73.782    40.6448     -73.7818          1.911613  ...                 2.633605\n",
              "40.644     -73.791    40.6441     -73.7906          5.751667  ...                 1.551338\n",
              "40.645     -73.782    40.6447     -73.7819          2.070800  ...                 2.602283\n",
              "           -73.777    40.6467     -73.7787          2.292222  ...                 2.766271\n",
              "40.641     -73.787    40.6413     -73.7865          1.060000  ...                 2.397019\n",
              "40.745     -73.947    40.7449     -73.9470          0.058333  ...                 3.464102\n",
              "40.645     -73.777    40.6454     -73.7767          2.522157  ...                 2.478178\n",
              "                      40.6453     -73.7768          3.987500  ...                 1.925607\n",
              "           -73.782    40.6449     -73.7815         10.505714  ...                 0.978185\n",
              "                      40.6448     -73.7816          2.420000  ...                 2.388230\n",
              "40.745     -73.949    40.7447     -73.9488          0.664286  ...                 2.206610\n",
              "                                  -73.9491          1.240000  ...                 3.509395\n",
              "                      40.7449     -73.9486          0.842424  ...                 4.236854\n",
              "40.645     -73.782    40.6448     -73.7820          4.500000  ...                 1.849009\n",
              "           -73.777    40.6454     -73.7768          3.745000  ...                 1.657657\n",
              "           -73.782    40.6446     -73.7819          1.293636  ...                 2.770937\n",
              "40.649     -73.784    40.6487     -73.7836          0.181818  ...                 3.135754\n",
              "40.645     -73.777    40.6458     -73.7768          0.117273  ...                 0.919263\n",
              "                      40.6452     -73.7768          1.293333  ...                 3.459235\n",
              "                      40.6455     -73.7767          2.508462  ...                 2.174320\n",
              "40.745     -73.949    40.7449     -73.9489          0.245000  ...                 2.779283\n",
              "40.753     -73.950    40.7528     -73.9503          0.060000  ...                 2.236068\n",
              "40.740     -74.006    40.7399     -74.0061          0.021429  ...                 1.670218\n",
              "40.745     -73.947    40.7449     -73.9471          0.085000  ...                 3.222463\n",
              "40.645     -73.782    40.6446     -73.7822          1.769231  ...                 3.571648\n",
              "\n",
              "[1010635 rows x 8 columns]"
            ]
          },
          "metadata": {
            "tags": []
          },
          "execution_count": 120
        }
      ]
    },
    {
      "cell_type": "markdown",
      "metadata": {
        "id": "DlpPxfdwq8hK",
        "colab_type": "text"
      },
      "source": [
        "## Open Questions"
      ]
    },
    {
      "cell_type": "markdown",
      "metadata": {
        "id": "d0tsQjl0rE02",
        "colab_type": "text"
      },
      "source": [
        "#### Question 1: In what trips can you confidently use respective means as measures of central tendency to estimate fare, time taken, etc."
      ]
    },
    {
      "cell_type": "code",
      "metadata": {
        "id": "-j4hTG0FuHiG",
        "colab_type": "code",
        "colab": {}
      },
      "source": [
        "_ = df.sample(frac=0.5)\n",
        "fig, ax = plt.subplots(figsize=(14, 10))\n",
        "sns.kdeplot(\n",
        "    _.pickup_longitude,\n",
        "    _.pickup_latitude,\n",
        "    n_levels=100,\n",
        "    cmap=\"Purples_d\",\n",
        "    cbar=True,\n",
        "    shade=True,\n",
        "    ax=ax\n",
        ")"
      ],
      "execution_count": 0,
      "outputs": []
    },
    {
      "cell_type": "markdown",
      "metadata": {
        "id": "BeSkGjuaqlTu",
        "colab_type": "text"
      },
      "source": [
        "*\n",
        "Estimated fare , time taken etc are continuous variables and Mean (as measure of central tendency)  is good for Continuous variables. The mean is used in almost all analysis (exploratory and prediction)for the continuous and discrete numeric data\n",
        "\n",
        "The mean has one main disadvantage: it is particularly susceptible to the influence of outliers.It is important to detect outliers within a distribution, because they can alter the results of the data analysis. The mean is more sensitive to the existence of outliers than the median or mode. So, before caculating mean for fare and time, we should check the outliers and exclude them, if any.\n",
        "\n",
        "Also, we should do some sanity checks before doing any analysis on data-\n",
        "1. Variable value is not equal to zero (Case based)\n",
        "2. Check the skewness in the data (should be close to zero)\n",
        "3. Other checks like- Tip amount is not greater than fare amount\n",
        "*"
      ]
    },
    {
      "cell_type": "markdown",
      "metadata": {
        "id": "G-qHLSVEuW6t",
        "colab_type": "text"
      },
      "source": [
        "#### Question 2: Can we build a model to predict fare and tip amount given pick up and drop off coordinates, time of day and week?"
      ]
    },
    {
      "cell_type": "markdown",
      "metadata": {
        "id": "2B803TuTv8yN",
        "colab_type": "text"
      },
      "source": [
        "*\n",
        "Looking at the Pearson correlation heatmap, we can see the correlation coefficients between the list of independent variables and dependent variables. We include the variables in the prediction model if they are moderate to highly correlated to the dependent variable.\n",
        "\n",
        "We can see weak correlation between independent variables and dependent variables. So, it is not feasily to use explanatory variables only to predict the Tip and fare amount. The model's explanatory power (accuracy)would be very low. However, we can try and create more variable and indicator variables, transform variables to use then for prediction. \n",
        "\n",
        "\n",
        "Note: \n",
        "The tip amount and fare amount are moderately correlated. Fare amount can be used to predict tip amount. However, tip amount cannot be used to predict fare as tip is received after fare.\n",
        "\n",
        "Other variable have very low correlation.\n",
        "*"
      ]
    },
    {
      "cell_type": "code",
      "metadata": {
        "id": "twfTXV4PuV_H",
        "colab_type": "code",
        "colab": {}
      },
      "source": [
        "df['day_of_week'] = df[\"pickup_datetime\"].dt.dayofweek"
      ],
      "execution_count": 0,
      "outputs": []
    },
    {
      "cell_type": "code",
      "metadata": {
        "id": "8ADcpLo2q7F7",
        "colab_type": "code",
        "colab": {}
      },
      "source": [
        "df_feat = df[['pickup_longitude', 'pickup_latitude', 'dropoff_longitude','dropoff_latitude', \"pickup_hour\", 'day_of_week','tip_amount','fare_amount']]"
      ],
      "execution_count": 0,
      "outputs": []
    },
    {
      "cell_type": "code",
      "metadata": {
        "id": "5DjIopUUuizD",
        "colab_type": "code",
        "outputId": "c053419a-0f37-4298-daf8-eb5272cbc693",
        "colab": {
          "base_uri": "https://localhost:8080/",
          "height": 228
        }
      },
      "source": [
        "\n",
        "corr = df_feat.corr()\n",
        "corr.style.background_gradient(cmap='coolwarm')"
      ],
      "execution_count": 0,
      "outputs": [
        {
          "output_type": "execute_result",
          "data": {
            "text/html": [
              "<style  type=\"text/css\" >\n",
              "    #T_13cfa11e_ee6a_11e9_aa5c_0242ac1c0002row0_col0 {\n",
              "            background-color:  #b40426;\n",
              "            color:  #f1f1f1;\n",
              "        }    #T_13cfa11e_ee6a_11e9_aa5c_0242ac1c0002row0_col1 {\n",
              "            background-color:  #3b4cc0;\n",
              "            color:  #f1f1f1;\n",
              "        }    #T_13cfa11e_ee6a_11e9_aa5c_0242ac1c0002row0_col2 {\n",
              "            background-color:  #e46e56;\n",
              "            color:  #000000;\n",
              "        }    #T_13cfa11e_ee6a_11e9_aa5c_0242ac1c0002row0_col3 {\n",
              "            background-color:  #3b4cc0;\n",
              "            color:  #f1f1f1;\n",
              "        }    #T_13cfa11e_ee6a_11e9_aa5c_0242ac1c0002row0_col4 {\n",
              "            background-color:  #5572df;\n",
              "            color:  #000000;\n",
              "        }    #T_13cfa11e_ee6a_11e9_aa5c_0242ac1c0002row0_col5 {\n",
              "            background-color:  #5572df;\n",
              "            color:  #000000;\n",
              "        }    #T_13cfa11e_ee6a_11e9_aa5c_0242ac1c0002row0_col6 {\n",
              "            background-color:  #4358cb;\n",
              "            color:  #f1f1f1;\n",
              "        }    #T_13cfa11e_ee6a_11e9_aa5c_0242ac1c0002row0_col7 {\n",
              "            background-color:  #4961d2;\n",
              "            color:  #f1f1f1;\n",
              "        }    #T_13cfa11e_ee6a_11e9_aa5c_0242ac1c0002row1_col0 {\n",
              "            background-color:  #3b4cc0;\n",
              "            color:  #f1f1f1;\n",
              "        }    #T_13cfa11e_ee6a_11e9_aa5c_0242ac1c0002row1_col1 {\n",
              "            background-color:  #b40426;\n",
              "            color:  #f1f1f1;\n",
              "        }    #T_13cfa11e_ee6a_11e9_aa5c_0242ac1c0002row1_col2 {\n",
              "            background-color:  #3b4cc0;\n",
              "            color:  #f1f1f1;\n",
              "        }    #T_13cfa11e_ee6a_11e9_aa5c_0242ac1c0002row1_col3 {\n",
              "            background-color:  #ba162b;\n",
              "            color:  #f1f1f1;\n",
              "        }    #T_13cfa11e_ee6a_11e9_aa5c_0242ac1c0002row1_col4 {\n",
              "            background-color:  #5572df;\n",
              "            color:  #000000;\n",
              "        }    #T_13cfa11e_ee6a_11e9_aa5c_0242ac1c0002row1_col5 {\n",
              "            background-color:  #5470de;\n",
              "            color:  #000000;\n",
              "        }    #T_13cfa11e_ee6a_11e9_aa5c_0242ac1c0002row1_col6 {\n",
              "            background-color:  #3d50c3;\n",
              "            color:  #f1f1f1;\n",
              "        }    #T_13cfa11e_ee6a_11e9_aa5c_0242ac1c0002row1_col7 {\n",
              "            background-color:  #3d50c3;\n",
              "            color:  #f1f1f1;\n",
              "        }    #T_13cfa11e_ee6a_11e9_aa5c_0242ac1c0002row2_col0 {\n",
              "            background-color:  #e46e56;\n",
              "            color:  #000000;\n",
              "        }    #T_13cfa11e_ee6a_11e9_aa5c_0242ac1c0002row2_col1 {\n",
              "            background-color:  #3c4ec2;\n",
              "            color:  #f1f1f1;\n",
              "        }    #T_13cfa11e_ee6a_11e9_aa5c_0242ac1c0002row2_col2 {\n",
              "            background-color:  #b40426;\n",
              "            color:  #f1f1f1;\n",
              "        }    #T_13cfa11e_ee6a_11e9_aa5c_0242ac1c0002row2_col3 {\n",
              "            background-color:  #3e51c5;\n",
              "            color:  #f1f1f1;\n",
              "        }    #T_13cfa11e_ee6a_11e9_aa5c_0242ac1c0002row2_col4 {\n",
              "            background-color:  #5470de;\n",
              "            color:  #000000;\n",
              "        }    #T_13cfa11e_ee6a_11e9_aa5c_0242ac1c0002row2_col5 {\n",
              "            background-color:  #5572df;\n",
              "            color:  #000000;\n",
              "        }    #T_13cfa11e_ee6a_11e9_aa5c_0242ac1c0002row2_col6 {\n",
              "            background-color:  #4257c9;\n",
              "            color:  #f1f1f1;\n",
              "        }    #T_13cfa11e_ee6a_11e9_aa5c_0242ac1c0002row2_col7 {\n",
              "            background-color:  #465ecf;\n",
              "            color:  #f1f1f1;\n",
              "        }    #T_13cfa11e_ee6a_11e9_aa5c_0242ac1c0002row3_col0 {\n",
              "            background-color:  #3b4cc0;\n",
              "            color:  #f1f1f1;\n",
              "        }    #T_13cfa11e_ee6a_11e9_aa5c_0242ac1c0002row3_col1 {\n",
              "            background-color:  #ba162b;\n",
              "            color:  #f1f1f1;\n",
              "        }    #T_13cfa11e_ee6a_11e9_aa5c_0242ac1c0002row3_col2 {\n",
              "            background-color:  #3d50c3;\n",
              "            color:  #f1f1f1;\n",
              "        }    #T_13cfa11e_ee6a_11e9_aa5c_0242ac1c0002row3_col3 {\n",
              "            background-color:  #b40426;\n",
              "            color:  #f1f1f1;\n",
              "        }    #T_13cfa11e_ee6a_11e9_aa5c_0242ac1c0002row3_col4 {\n",
              "            background-color:  #5572df;\n",
              "            color:  #000000;\n",
              "        }    #T_13cfa11e_ee6a_11e9_aa5c_0242ac1c0002row3_col5 {\n",
              "            background-color:  #5470de;\n",
              "            color:  #000000;\n",
              "        }    #T_13cfa11e_ee6a_11e9_aa5c_0242ac1c0002row3_col6 {\n",
              "            background-color:  #3d50c3;\n",
              "            color:  #f1f1f1;\n",
              "        }    #T_13cfa11e_ee6a_11e9_aa5c_0242ac1c0002row3_col7 {\n",
              "            background-color:  #3d50c3;\n",
              "            color:  #f1f1f1;\n",
              "        }    #T_13cfa11e_ee6a_11e9_aa5c_0242ac1c0002row4_col0 {\n",
              "            background-color:  #d1dae9;\n",
              "            color:  #000000;\n",
              "        }    #T_13cfa11e_ee6a_11e9_aa5c_0242ac1c0002row4_col1 {\n",
              "            background-color:  #d1dae9;\n",
              "            color:  #000000;\n",
              "        }    #T_13cfa11e_ee6a_11e9_aa5c_0242ac1c0002row4_col2 {\n",
              "            background-color:  #cedaeb;\n",
              "            color:  #000000;\n",
              "        }    #T_13cfa11e_ee6a_11e9_aa5c_0242ac1c0002row4_col3 {\n",
              "            background-color:  #cfdaea;\n",
              "            color:  #000000;\n",
              "        }    #T_13cfa11e_ee6a_11e9_aa5c_0242ac1c0002row4_col4 {\n",
              "            background-color:  #b40426;\n",
              "            color:  #f1f1f1;\n",
              "        }    #T_13cfa11e_ee6a_11e9_aa5c_0242ac1c0002row4_col5 {\n",
              "            background-color:  #3b4cc0;\n",
              "            color:  #f1f1f1;\n",
              "        }    #T_13cfa11e_ee6a_11e9_aa5c_0242ac1c0002row4_col6 {\n",
              "            background-color:  #4055c8;\n",
              "            color:  #f1f1f1;\n",
              "        }    #T_13cfa11e_ee6a_11e9_aa5c_0242ac1c0002row4_col7 {\n",
              "            background-color:  #3b4cc0;\n",
              "            color:  #f1f1f1;\n",
              "        }    #T_13cfa11e_ee6a_11e9_aa5c_0242ac1c0002row5_col0 {\n",
              "            background-color:  #d1dae9;\n",
              "            color:  #000000;\n",
              "        }    #T_13cfa11e_ee6a_11e9_aa5c_0242ac1c0002row5_col1 {\n",
              "            background-color:  #cfdaea;\n",
              "            color:  #000000;\n",
              "        }    #T_13cfa11e_ee6a_11e9_aa5c_0242ac1c0002row5_col2 {\n",
              "            background-color:  #cfdaea;\n",
              "            color:  #000000;\n",
              "        }    #T_13cfa11e_ee6a_11e9_aa5c_0242ac1c0002row5_col3 {\n",
              "            background-color:  #cfdaea;\n",
              "            color:  #000000;\n",
              "        }    #T_13cfa11e_ee6a_11e9_aa5c_0242ac1c0002row5_col4 {\n",
              "            background-color:  #3b4cc0;\n",
              "            color:  #f1f1f1;\n",
              "        }    #T_13cfa11e_ee6a_11e9_aa5c_0242ac1c0002row5_col5 {\n",
              "            background-color:  #b40426;\n",
              "            color:  #f1f1f1;\n",
              "        }    #T_13cfa11e_ee6a_11e9_aa5c_0242ac1c0002row5_col6 {\n",
              "            background-color:  #3b4cc0;\n",
              "            color:  #f1f1f1;\n",
              "        }    #T_13cfa11e_ee6a_11e9_aa5c_0242ac1c0002row5_col7 {\n",
              "            background-color:  #445acc;\n",
              "            color:  #f1f1f1;\n",
              "        }    #T_13cfa11e_ee6a_11e9_aa5c_0242ac1c0002row6_col0 {\n",
              "            background-color:  #d3dbe7;\n",
              "            color:  #000000;\n",
              "        }    #T_13cfa11e_ee6a_11e9_aa5c_0242ac1c0002row6_col1 {\n",
              "            background-color:  #cfdaea;\n",
              "            color:  #000000;\n",
              "        }    #T_13cfa11e_ee6a_11e9_aa5c_0242ac1c0002row6_col2 {\n",
              "            background-color:  #d1dae9;\n",
              "            color:  #000000;\n",
              "        }    #T_13cfa11e_ee6a_11e9_aa5c_0242ac1c0002row6_col3 {\n",
              "            background-color:  #cedaeb;\n",
              "            color:  #000000;\n",
              "        }    #T_13cfa11e_ee6a_11e9_aa5c_0242ac1c0002row6_col4 {\n",
              "            background-color:  #5673e0;\n",
              "            color:  #000000;\n",
              "        }    #T_13cfa11e_ee6a_11e9_aa5c_0242ac1c0002row6_col5 {\n",
              "            background-color:  #506bda;\n",
              "            color:  #000000;\n",
              "        }    #T_13cfa11e_ee6a_11e9_aa5c_0242ac1c0002row6_col6 {\n",
              "            background-color:  #b40426;\n",
              "            color:  #f1f1f1;\n",
              "        }    #T_13cfa11e_ee6a_11e9_aa5c_0242ac1c0002row6_col7 {\n",
              "            background-color:  #e7d7ce;\n",
              "            color:  #000000;\n",
              "        }    #T_13cfa11e_ee6a_11e9_aa5c_0242ac1c0002row7_col0 {\n",
              "            background-color:  #d5dbe5;\n",
              "            color:  #000000;\n",
              "        }    #T_13cfa11e_ee6a_11e9_aa5c_0242ac1c0002row7_col1 {\n",
              "            background-color:  #cedaeb;\n",
              "            color:  #000000;\n",
              "        }    #T_13cfa11e_ee6a_11e9_aa5c_0242ac1c0002row7_col2 {\n",
              "            background-color:  #d2dbe8;\n",
              "            color:  #000000;\n",
              "        }    #T_13cfa11e_ee6a_11e9_aa5c_0242ac1c0002row7_col3 {\n",
              "            background-color:  #cedaeb;\n",
              "            color:  #000000;\n",
              "        }    #T_13cfa11e_ee6a_11e9_aa5c_0242ac1c0002row7_col4 {\n",
              "            background-color:  #4f69d9;\n",
              "            color:  #000000;\n",
              "        }    #T_13cfa11e_ee6a_11e9_aa5c_0242ac1c0002row7_col5 {\n",
              "            background-color:  #5977e3;\n",
              "            color:  #000000;\n",
              "        }    #T_13cfa11e_ee6a_11e9_aa5c_0242ac1c0002row7_col6 {\n",
              "            background-color:  #e7d7ce;\n",
              "            color:  #000000;\n",
              "        }    #T_13cfa11e_ee6a_11e9_aa5c_0242ac1c0002row7_col7 {\n",
              "            background-color:  #b40426;\n",
              "            color:  #f1f1f1;\n",
              "        }</style><table id=\"T_13cfa11e_ee6a_11e9_aa5c_0242ac1c0002\" ><thead>    <tr>        <th class=\"blank level0\" ></th>        <th class=\"col_heading level0 col0\" >pickup_longitude</th>        <th class=\"col_heading level0 col1\" >pickup_latitude</th>        <th class=\"col_heading level0 col2\" >dropoff_longitude</th>        <th class=\"col_heading level0 col3\" >dropoff_latitude</th>        <th class=\"col_heading level0 col4\" >pickup_hour</th>        <th class=\"col_heading level0 col5\" >day_of_week</th>        <th class=\"col_heading level0 col6\" >tip_amount</th>        <th class=\"col_heading level0 col7\" >fare_amount</th>    </tr></thead><tbody>\n",
              "                <tr>\n",
              "                        <th id=\"T_13cfa11e_ee6a_11e9_aa5c_0242ac1c0002level0_row0\" class=\"row_heading level0 row0\" >pickup_longitude</th>\n",
              "                        <td id=\"T_13cfa11e_ee6a_11e9_aa5c_0242ac1c0002row0_col0\" class=\"data row0 col0\" >1</td>\n",
              "                        <td id=\"T_13cfa11e_ee6a_11e9_aa5c_0242ac1c0002row0_col1\" class=\"data row0 col1\" >-0.832166</td>\n",
              "                        <td id=\"T_13cfa11e_ee6a_11e9_aa5c_0242ac1c0002row0_col2\" class=\"data row0 col2\" >0.718298</td>\n",
              "                        <td id=\"T_13cfa11e_ee6a_11e9_aa5c_0242ac1c0002row0_col3\" class=\"data row0 col3\" >-0.827165</td>\n",
              "                        <td id=\"T_13cfa11e_ee6a_11e9_aa5c_0242ac1c0002row0_col4\" class=\"data row0 col4\" >0.0010997</td>\n",
              "                        <td id=\"T_13cfa11e_ee6a_11e9_aa5c_0242ac1c0002row0_col5\" class=\"data row0 col5\" >-0.000429951</td>\n",
              "                        <td id=\"T_13cfa11e_ee6a_11e9_aa5c_0242ac1c0002row0_col6\" class=\"data row0 col6\" >0.0131203</td>\n",
              "                        <td id=\"T_13cfa11e_ee6a_11e9_aa5c_0242ac1c0002row0_col7\" class=\"data row0 col7\" >0.0279199</td>\n",
              "            </tr>\n",
              "            <tr>\n",
              "                        <th id=\"T_13cfa11e_ee6a_11e9_aa5c_0242ac1c0002level0_row1\" class=\"row_heading level0 row1\" >pickup_latitude</th>\n",
              "                        <td id=\"T_13cfa11e_ee6a_11e9_aa5c_0242ac1c0002row1_col0\" class=\"data row1 col0\" >-0.832166</td>\n",
              "                        <td id=\"T_13cfa11e_ee6a_11e9_aa5c_0242ac1c0002row1_col1\" class=\"data row1 col1\" >1</td>\n",
              "                        <td id=\"T_13cfa11e_ee6a_11e9_aa5c_0242ac1c0002row1_col2\" class=\"data row1 col2\" >-0.818875</td>\n",
              "                        <td id=\"T_13cfa11e_ee6a_11e9_aa5c_0242ac1c0002row1_col3\" class=\"data row1 col3\" >0.966121</td>\n",
              "                        <td id=\"T_13cfa11e_ee6a_11e9_aa5c_0242ac1c0002row1_col4\" class=\"data row1 col4\" >0.000557637</td>\n",
              "                        <td id=\"T_13cfa11e_ee6a_11e9_aa5c_0242ac1c0002row1_col5\" class=\"data row1 col5\" >-0.00371053</td>\n",
              "                        <td id=\"T_13cfa11e_ee6a_11e9_aa5c_0242ac1c0002row1_col6\" class=\"data row1 col6\" >-0.00643226</td>\n",
              "                        <td id=\"T_13cfa11e_ee6a_11e9_aa5c_0242ac1c0002row1_col7\" class=\"data row1 col7\" >-0.0135074</td>\n",
              "            </tr>\n",
              "            <tr>\n",
              "                        <th id=\"T_13cfa11e_ee6a_11e9_aa5c_0242ac1c0002level0_row2\" class=\"row_heading level0 row2\" >dropoff_longitude</th>\n",
              "                        <td id=\"T_13cfa11e_ee6a_11e9_aa5c_0242ac1c0002row2_col0\" class=\"data row2 col0\" >0.718298</td>\n",
              "                        <td id=\"T_13cfa11e_ee6a_11e9_aa5c_0242ac1c0002row2_col1\" class=\"data row2 col1\" >-0.818875</td>\n",
              "                        <td id=\"T_13cfa11e_ee6a_11e9_aa5c_0242ac1c0002row2_col2\" class=\"data row2 col2\" >1</td>\n",
              "                        <td id=\"T_13cfa11e_ee6a_11e9_aa5c_0242ac1c0002row2_col3\" class=\"data row2 col3\" >-0.799891</td>\n",
              "                        <td id=\"T_13cfa11e_ee6a_11e9_aa5c_0242ac1c0002row2_col4\" class=\"data row2 col4\" >-0.0023387</td>\n",
              "                        <td id=\"T_13cfa11e_ee6a_11e9_aa5c_0242ac1c0002row2_col5\" class=\"data row2 col5\" >0.000998072</td>\n",
              "                        <td id=\"T_13cfa11e_ee6a_11e9_aa5c_0242ac1c0002row2_col6\" class=\"data row2 col6\" >0.00871448</td>\n",
              "                        <td id=\"T_13cfa11e_ee6a_11e9_aa5c_0242ac1c0002row2_col7\" class=\"data row2 col7\" >0.0193237</td>\n",
              "            </tr>\n",
              "            <tr>\n",
              "                        <th id=\"T_13cfa11e_ee6a_11e9_aa5c_0242ac1c0002level0_row3\" class=\"row_heading level0 row3\" >dropoff_latitude</th>\n",
              "                        <td id=\"T_13cfa11e_ee6a_11e9_aa5c_0242ac1c0002row3_col0\" class=\"data row3 col0\" >-0.827165</td>\n",
              "                        <td id=\"T_13cfa11e_ee6a_11e9_aa5c_0242ac1c0002row3_col1\" class=\"data row3 col1\" >0.966121</td>\n",
              "                        <td id=\"T_13cfa11e_ee6a_11e9_aa5c_0242ac1c0002row3_col2\" class=\"data row3 col2\" >-0.799891</td>\n",
              "                        <td id=\"T_13cfa11e_ee6a_11e9_aa5c_0242ac1c0002row3_col3\" class=\"data row3 col3\" >1</td>\n",
              "                        <td id=\"T_13cfa11e_ee6a_11e9_aa5c_0242ac1c0002row3_col4\" class=\"data row3 col4\" >0.000297839</td>\n",
              "                        <td id=\"T_13cfa11e_ee6a_11e9_aa5c_0242ac1c0002row3_col5\" class=\"data row3 col5\" >-0.00344357</td>\n",
              "                        <td id=\"T_13cfa11e_ee6a_11e9_aa5c_0242ac1c0002row3_col6\" class=\"data row3 col6\" >-0.00723443</td>\n",
              "                        <td id=\"T_13cfa11e_ee6a_11e9_aa5c_0242ac1c0002row3_col7\" class=\"data row3 col7\" >-0.0116826</td>\n",
              "            </tr>\n",
              "            <tr>\n",
              "                        <th id=\"T_13cfa11e_ee6a_11e9_aa5c_0242ac1c0002level0_row4\" class=\"row_heading level0 row4\" >pickup_hour</th>\n",
              "                        <td id=\"T_13cfa11e_ee6a_11e9_aa5c_0242ac1c0002row4_col0\" class=\"data row4 col0\" >0.0010997</td>\n",
              "                        <td id=\"T_13cfa11e_ee6a_11e9_aa5c_0242ac1c0002row4_col1\" class=\"data row4 col1\" >0.000557637</td>\n",
              "                        <td id=\"T_13cfa11e_ee6a_11e9_aa5c_0242ac1c0002row4_col2\" class=\"data row4 col2\" >-0.0023387</td>\n",
              "                        <td id=\"T_13cfa11e_ee6a_11e9_aa5c_0242ac1c0002row4_col3\" class=\"data row4 col3\" >0.000297839</td>\n",
              "                        <td id=\"T_13cfa11e_ee6a_11e9_aa5c_0242ac1c0002row4_col4\" class=\"data row4 col4\" >1</td>\n",
              "                        <td id=\"T_13cfa11e_ee6a_11e9_aa5c_0242ac1c0002row4_col5\" class=\"data row4 col5\" >-0.0959332</td>\n",
              "                        <td id=\"T_13cfa11e_ee6a_11e9_aa5c_0242ac1c0002row4_col6\" class=\"data row4 col6\" >0.00509092</td>\n",
              "                        <td id=\"T_13cfa11e_ee6a_11e9_aa5c_0242ac1c0002row4_col7\" class=\"data row4 col7\" >-0.0219305</td>\n",
              "            </tr>\n",
              "            <tr>\n",
              "                        <th id=\"T_13cfa11e_ee6a_11e9_aa5c_0242ac1c0002level0_row5\" class=\"row_heading level0 row5\" >day_of_week</th>\n",
              "                        <td id=\"T_13cfa11e_ee6a_11e9_aa5c_0242ac1c0002row5_col0\" class=\"data row5 col0\" >-0.000429951</td>\n",
              "                        <td id=\"T_13cfa11e_ee6a_11e9_aa5c_0242ac1c0002row5_col1\" class=\"data row5 col1\" >-0.00371053</td>\n",
              "                        <td id=\"T_13cfa11e_ee6a_11e9_aa5c_0242ac1c0002row5_col2\" class=\"data row5 col2\" >0.000998072</td>\n",
              "                        <td id=\"T_13cfa11e_ee6a_11e9_aa5c_0242ac1c0002row5_col3\" class=\"data row5 col3\" >-0.00344357</td>\n",
              "                        <td id=\"T_13cfa11e_ee6a_11e9_aa5c_0242ac1c0002row5_col4\" class=\"data row5 col4\" >-0.0959332</td>\n",
              "                        <td id=\"T_13cfa11e_ee6a_11e9_aa5c_0242ac1c0002row5_col5\" class=\"data row5 col5\" >1</td>\n",
              "                        <td id=\"T_13cfa11e_ee6a_11e9_aa5c_0242ac1c0002row5_col6\" class=\"data row5 col6\" >-0.0172197</td>\n",
              "                        <td id=\"T_13cfa11e_ee6a_11e9_aa5c_0242ac1c0002row5_col7\" class=\"data row5 col7\" >0.0124421</td>\n",
              "            </tr>\n",
              "            <tr>\n",
              "                        <th id=\"T_13cfa11e_ee6a_11e9_aa5c_0242ac1c0002level0_row6\" class=\"row_heading level0 row6\" >tip_amount</th>\n",
              "                        <td id=\"T_13cfa11e_ee6a_11e9_aa5c_0242ac1c0002row6_col0\" class=\"data row6 col0\" >0.0131203</td>\n",
              "                        <td id=\"T_13cfa11e_ee6a_11e9_aa5c_0242ac1c0002row6_col1\" class=\"data row6 col1\" >-0.00643226</td>\n",
              "                        <td id=\"T_13cfa11e_ee6a_11e9_aa5c_0242ac1c0002row6_col2\" class=\"data row6 col2\" >0.00871448</td>\n",
              "                        <td id=\"T_13cfa11e_ee6a_11e9_aa5c_0242ac1c0002row6_col3\" class=\"data row6 col3\" >-0.00723443</td>\n",
              "                        <td id=\"T_13cfa11e_ee6a_11e9_aa5c_0242ac1c0002row6_col4\" class=\"data row6 col4\" >0.00509092</td>\n",
              "                        <td id=\"T_13cfa11e_ee6a_11e9_aa5c_0242ac1c0002row6_col5\" class=\"data row6 col5\" >-0.0172197</td>\n",
              "                        <td id=\"T_13cfa11e_ee6a_11e9_aa5c_0242ac1c0002row6_col6\" class=\"data row6 col6\" >1</td>\n",
              "                        <td id=\"T_13cfa11e_ee6a_11e9_aa5c_0242ac1c0002row6_col7\" class=\"data row6 col7\" >0.531316</td>\n",
              "            </tr>\n",
              "            <tr>\n",
              "                        <th id=\"T_13cfa11e_ee6a_11e9_aa5c_0242ac1c0002level0_row7\" class=\"row_heading level0 row7\" >fare_amount</th>\n",
              "                        <td id=\"T_13cfa11e_ee6a_11e9_aa5c_0242ac1c0002row7_col0\" class=\"data row7 col0\" >0.0279199</td>\n",
              "                        <td id=\"T_13cfa11e_ee6a_11e9_aa5c_0242ac1c0002row7_col1\" class=\"data row7 col1\" >-0.0135074</td>\n",
              "                        <td id=\"T_13cfa11e_ee6a_11e9_aa5c_0242ac1c0002row7_col2\" class=\"data row7 col2\" >0.0193237</td>\n",
              "                        <td id=\"T_13cfa11e_ee6a_11e9_aa5c_0242ac1c0002row7_col3\" class=\"data row7 col3\" >-0.0116826</td>\n",
              "                        <td id=\"T_13cfa11e_ee6a_11e9_aa5c_0242ac1c0002row7_col4\" class=\"data row7 col4\" >-0.0219305</td>\n",
              "                        <td id=\"T_13cfa11e_ee6a_11e9_aa5c_0242ac1c0002row7_col5\" class=\"data row7 col5\" >0.0124421</td>\n",
              "                        <td id=\"T_13cfa11e_ee6a_11e9_aa5c_0242ac1c0002row7_col6\" class=\"data row7 col6\" >0.531316</td>\n",
              "                        <td id=\"T_13cfa11e_ee6a_11e9_aa5c_0242ac1c0002row7_col7\" class=\"data row7 col7\" >1</td>\n",
              "            </tr>\n",
              "    </tbody></table>"
            ],
            "text/plain": [
              "<pandas.io.formats.style.Styler at 0x7f91280ae438>"
            ]
          },
          "metadata": {
            "tags": []
          },
          "execution_count": 103
        }
      ]
    },
    {
      "cell_type": "markdown",
      "metadata": {
        "id": "3M8nuehcwnsK",
        "colab_type": "text"
      },
      "source": [
        "#### Question 3: If you were a taxi owner, how would you maximize your earnings in a day?"
      ]
    },
    {
      "cell_type": "markdown",
      "metadata": {
        "id": "mEtXXMyGw9RF",
        "colab_type": "text"
      },
      "source": [
        "*There are multiple ways in which a taxi owner can maximise earnings per day*\n",
        "* Identify the key trip routes with maximum average revenue\n",
        "* Identify the regions which are in high demand\n",
        "* Do the maximum rides possibles in order to increase revenue\n",
        "* Do short trips less than 5(km). Total amount of fare and tip amount is maximum.\n",
        "* There is seasonality by days. Tuesdays seems to be the busiest followed by Mondays. Schedule more working hours on busy days.\n",
        "* Identify the peak demand time in order to make sure one is fully booked\n",
        "* Identify the regions with high average tips \n"
      ]
    },
    {
      "cell_type": "code",
      "metadata": {
        "id": "6trYJLnyulLf",
        "colab_type": "code",
        "outputId": "f876b4eb-9350-43e4-a34b-6c663b8e07ef",
        "colab": {
          "base_uri": "https://localhost:8080/",
          "height": 204
        }
      },
      "source": [
        "## Creating bins and calculating the percentage share\n",
        "bins = [-1, 5, 10, 15, 20, 100]\n",
        "labels = ['less than 5','less than 10', 'less than 15', 'less than 20', 'less than 100']\n",
        "df[\"trip_distance_bins\"] = pd.cut(df['trip_distance'], bins=bins, labels=labels)\n",
        "td = df['trip_distance_bins'].value_counts()\n",
        "td = td.reset_index()\n",
        "td.columns = [\"trip_distance_bins\", \"frequency\"]\n",
        "total_count = td['frequency'].sum()\n",
        "td['percentage_share'] = round((td['frequency']*100)/total_count,2)\n",
        "td.head()"
      ],
      "execution_count": 0,
      "outputs": [
        {
          "output_type": "execute_result",
          "data": {
            "text/html": [
              "<div>\n",
              "<style scoped>\n",
              "    .dataframe tbody tr th:only-of-type {\n",
              "        vertical-align: middle;\n",
              "    }\n",
              "\n",
              "    .dataframe tbody tr th {\n",
              "        vertical-align: top;\n",
              "    }\n",
              "\n",
              "    .dataframe thead th {\n",
              "        text-align: right;\n",
              "    }\n",
              "</style>\n",
              "<table border=\"1\" class=\"dataframe\">\n",
              "  <thead>\n",
              "    <tr style=\"text-align: right;\">\n",
              "      <th></th>\n",
              "      <th>trip_distance_bins</th>\n",
              "      <th>frequency</th>\n",
              "      <th>percentage_share</th>\n",
              "    </tr>\n",
              "  </thead>\n",
              "  <tbody>\n",
              "    <tr>\n",
              "      <th>0</th>\n",
              "      <td>less than 5</td>\n",
              "      <td>12733679</td>\n",
              "      <td>86.65</td>\n",
              "    </tr>\n",
              "    <tr>\n",
              "      <th>1</th>\n",
              "      <td>less than 10</td>\n",
              "      <td>1271400</td>\n",
              "      <td>8.65</td>\n",
              "    </tr>\n",
              "    <tr>\n",
              "      <th>2</th>\n",
              "      <td>less than 15</td>\n",
              "      <td>378347</td>\n",
              "      <td>2.57</td>\n",
              "    </tr>\n",
              "    <tr>\n",
              "      <th>3</th>\n",
              "      <td>less than 20</td>\n",
              "      <td>250087</td>\n",
              "      <td>1.70</td>\n",
              "    </tr>\n",
              "    <tr>\n",
              "      <th>4</th>\n",
              "      <td>less than 100</td>\n",
              "      <td>62471</td>\n",
              "      <td>0.43</td>\n",
              "    </tr>\n",
              "  </tbody>\n",
              "</table>\n",
              "</div>"
            ],
            "text/plain": [
              "  trip_distance_bins  frequency  percentage_share\n",
              "0        less than 5   12733679             86.65\n",
              "1       less than 10    1271400              8.65\n",
              "2       less than 15     378347              2.57\n",
              "3       less than 20     250087              1.70\n",
              "4      less than 100      62471              0.43"
            ]
          },
          "metadata": {
            "tags": []
          },
          "execution_count": 115
        }
      ]
    },
    {
      "cell_type": "code",
      "metadata": {
        "id": "Ee4ZOgG9vSFW",
        "colab_type": "code",
        "outputId": "25544865-3d4a-42bc-e7f2-d06c756f88d6",
        "colab": {
          "base_uri": "https://localhost:8080/",
          "height": 663
        }
      },
      "source": [
        "df.info()"
      ],
      "execution_count": 0,
      "outputs": [
        {
          "output_type": "stream",
          "text": [
            "<class 'pandas.core.frame.DataFrame'>\n",
            "Int64Index: 14695984 entries, 9095302 to 7298832\n",
            "Data columns (total 33 columns):\n",
            "medallion              object\n",
            "hack_license           object\n",
            "vendor_id              object\n",
            "rate_code              int64\n",
            "pickup_datetime        datetime64[ns]\n",
            "dropoff_datetime       object\n",
            "passenger_count        int64\n",
            "trip_time_in_secs      int64\n",
            "trip_distance          float64\n",
            "pickup_longitude       float64\n",
            "pickup_latitude        float64\n",
            "dropoff_longitude      float64\n",
            "dropoff_latitude       float64\n",
            "payment_type           object\n",
            "fare_amount            float64\n",
            "surcharge              float64\n",
            "mta_tax                float64\n",
            "tip_amount             float64\n",
            "tolls_amount           float64\n",
            "total_amount           float64\n",
            "day                    int64\n",
            "hour                   int64\n",
            "dayofweek              int64\n",
            "binned                 category\n",
            "binned_tip             category\n",
            "total_amount_new       float64\n",
            "binned_amt             category\n",
            "pickup_hour            int64\n",
            "fare_amount_bins       category\n",
            "tip_amount_bins        category\n",
            "total_amount_bins      category\n",
            "Trip_time_deviation    float64\n",
            "day_of_week            int64\n",
            "dtypes: category(6), datetime64[ns](1), float64(13), int64(8), object(5)\n",
            "memory usage: 3.1+ GB\n"
          ],
          "name": "stdout"
        }
      ]
    },
    {
      "cell_type": "markdown",
      "metadata": {
        "id": "TqxOdksX2tPQ",
        "colab_type": "text"
      },
      "source": [
        "#### Question 4: If you were a taxi owner, how would you minimize your work time while retaining the average wages earned by a typical taxi in the dataset?"
      ]
    },
    {
      "cell_type": "markdown",
      "metadata": {
        "id": "nkkoqqvS2685",
        "colab_type": "text"
      },
      "source": [
        "#### Objective would be to optimize-\n",
        "1. total_amount (revenue) / time\n",
        "2. Tip_amount / time\n",
        "\n",
        "I would do some analysis to learn pattern and behaviour to find the most efficient way of optimizing my time with respect to the data I have.\n",
        "* Find the trip route which provides the maximum average revenue\n",
        "* Avoid the location where wait time is on the higher side\n",
        "* Find the key pickup points which has higher probaibityto het hotspot dropoff points (less wait, higher fare and tip)\n",
        "* Work only during the peak demand hours (which as per our analysis is in the evening time)\n",
        "* Work in high demand areas (refer the latitudes and longitudes of the busiest locations of the city)\n",
        "* Work extra hours on Tuesdays (or busiest weekday)\n",
        "* Areas with maximum tip amount.\n",
        "\n",
        "Alternatively, I can create an optimization model which will predict in next hour based on weekday, time of the day, and other explnatory variables,  what action (location) will give the optimal revenue."
      ]
    },
    {
      "cell_type": "markdown",
      "metadata": {
        "id": "rWjXLm0X5g2c",
        "colab_type": "text"
      },
      "source": [
        "#### Question 5: If you run a taxi company with 10 taxis, how would you maximize your earnings?"
      ]
    },
    {
      "cell_type": "markdown",
      "metadata": {
        "id": "a-jRddLJ50KX",
        "colab_type": "text"
      },
      "source": [
        "*\n",
        "Hire 30 drivers to work on shifts to optimize time and resource (taxi)\n",
        "\n",
        "Cluster the data based on coordinates (longitude and latitude)- say 5 locations\n",
        "\n",
        "Using historical data, create time series total amount (revenue) prediction Model for all 5 location.\n",
        "\n",
        "Do analysis and find out the profitable time zone for different locations.\n",
        "\n",
        "Do the cost and profit analysis for the selected time zones for all 5 locations\n",
        "\n",
        "Plan the schedule for 10 taxi's based on the analysis.\n",
        "*"
      ]
    },
    {
      "cell_type": "code",
      "metadata": {
        "id": "bAQ9GCsPGk_Y",
        "colab_type": "code",
        "colab": {}
      },
      "source": [
        ""
      ],
      "execution_count": 0,
      "outputs": []
    }
  ]
}